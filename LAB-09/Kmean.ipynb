{
 "cells": [
  {
   "cell_type": "code",
   "execution_count": 1,
   "id": "72ef059c-5652-4aaf-8144-1a55136313ca",
   "metadata": {},
   "outputs": [],
   "source": [
    "from sklearn.cluster import KMeans\n",
    "import numpy as np\n",
    "import matplotlib.pyplot as plt\n",
    "\n",
    "# Sample data\n",
    "X = np.array([[2, 10], [2, 5], [8, 4], [5, 8], [7, 5], [6, 4],[1,2],[4,9]])\n"
   ]
  },
  {
   "cell_type": "code",
   "execution_count": 2,
   "id": "043b517b-c7d1-4a3d-83d6-c1301c27181a",
   "metadata": {},
   "outputs": [
    {
     "data": {
      "image/png": "[encoded data removed]",
      "text/plain": [
       "<Figure size 640x480 with 1 Axes>"
      ]
     },
     "metadata": {},
     "output_type": "display_data"
    }
   ],
   "source": [
    "plot=plt.scatter(X[:,0],X[:,1])"
   ]
  },
  {
   "cell_type": "code",
   "execution_count": 3,
   "id": "f65be728-6f2c-4e84-ab11-d29bd98dc0da",
   "metadata": {},
   "outputs": [
    {
     "name": "stdout",
     "output_type": "stream",
     "text": [
      "Centroids:\n",
      "[[3.66666667 9.        ]\n",
      " [7.         4.33333333]\n",
      " [1.5        3.5       ]]\n",
      "\n",
      "Labels:\n",
      "[0 2 1 0 1 1 2 0]\n"
     ]
    },
    {
     "name": "stderr",
     "output_type": "stream",
     "text": [
      "/home/shafeenkhan/miniconda3/lib/python3.9/site-packages/sklearn/cluster/_kmeans.py:1412: FutureWarning: The default value of `n_init` will change from 10 to 'auto' in 1.4. Set the value of `n_init` explicitly to suppress the warning\n",
      "  super()._check_params_vs_input(X, default_n_init=10)\n"
     ]
    }
   ],
   "source": [
    "# Specifying the number of clusters\n",
    "kmeans = KMeans(n_clusters=3)\n",
    "\n",
    "# Fitting the model to the data\n",
    "kmeans.fit(X)\n",
    "\n",
    "# Getting the centroids of the clusters\n",
    "centroids = kmeans.cluster_centers_\n",
    "print(\"Centroids:\")\n",
    "print(centroids)\n",
    "\n",
    "# Getting the labels assigned to each data point\n",
    "labels = kmeans.labels_\n",
    "print(\"\\nLabels:\")\n",
    "print(labels)"
   ]
  },
  {
   "cell_type": "code",
   "execution_count": 4,
   "id": "7415739e-a19c-4781-a05e-a26518a10afd",
   "metadata": {},
   "outputs": [
    {
     "name": "stdout",
     "output_type": "stream",
     "text": [
      "Predicted Cluster for the New Data Point: [2]\n"
     ]
    }
   ],
   "source": [
    "# New data point\n",
    "new_data_point = np.array([[2, 3]])\n",
    "\n",
    "# Predict the cluster for the new data point\n",
    "predicted_cluster = kmeans.predict(new_data_point)\n",
    "\n",
    "# Print the predicted cluster\n",
    "print(\"Predicted Cluster for the New Data Point:\", predicted_cluster)"
   ]
  },
  {
   "cell_type": "code",
   "execution_count": null,
   "id": "a19abff0-a69a-4c7c-94b4-705f4d64ccc1",
   "metadata": {},
   "outputs": [],
   "source": []
  }
 ],
 "metadata": {
  "kernelspec": {
   "display_name": "Python 3 (ipykernel)",
   "language": "python",
   "name": "python3"
  },
  "language_info": {
   "codemirror_mode": {
    "name": "ipython",
    "version": 3
   },
   "file_extension": ".py",
   "mimetype": "text/x-python",
   "name": "python",
   "nbconvert_exporter": "python",
   "pygments_lexer": "ipython3",
   "version": "3.9.18"
  }
 },
 "nbformat": 4,
 "nbformat_minor": 5
}
