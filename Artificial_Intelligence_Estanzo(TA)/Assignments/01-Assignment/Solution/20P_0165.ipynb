{
 "cells": [
  {
   "cell_type": "code",
   "execution_count": 8,
   "metadata": {
    "colab": {
     "base_uri": "https://localhost:8080/"
    },
    "id": "XMAG7OTaeSvI",
    "outputId": "2319b2b5-4aeb-49fe-f19e-4762ab2991f4"
   },
   "outputs": [
    {
     "name": "stdout",
     "output_type": "stream",
     "text": [
      "Drive already mounted at /content/drive; to attempt to forcibly remount, call drive.mount(\"/content/drive\", force_remount=True).\n",
      "/content/drive/My Drive/Colab Notebooks\n"
     ]
    }
   ],
   "source": [
    "# Name: Jawad Ahmed\n",
    "# Roll No: 20P-0165\n",
    "# Section: BCS-6A\n",
    "from google.colab import drive\n",
    "drive.mount('/content/drive')\n",
    "# This will create a folder in your drive named 'Colab Notebooks' \n",
    "# I have placed the text files in that folder so if I will use os.getcwd() that path I will get \n",
    "# I have passed that directory to the readfiles function that will read all the txt files or \n",
    "# the file extension you passed in the function parameter.\n",
    "%cd /content/drive/My Drive/Colab Notebooks/"
   ]
  },
  {
   "cell_type": "code",
   "execution_count": 9,
   "metadata": {
    "colab": {
     "base_uri": "https://localhost:8080/"
    },
    "id": "wff_8zkHORjI",
    "outputId": "3bdb30f0-aa52-4649-c2b9-eab96c3023c9"
   },
   "outputs": [
    {
     "name": "stdout",
     "output_type": "stream",
     "text": [
      "/content/drive/My Drive/Colab Notebooks\n",
      "Text File 1: This is a sentence. So is this!\n",
      "\n",
      "Number of sentences: 2\n",
      "Number of words: 7\n",
      "Number of characters: 23\n",
      "Readability index: 0 \n",
      "\n",
      "Text File 2: It continued raining for many days. One day, a monkey wet in the\n",
      "rain came into the forest. He sat on a branch, shivering with cold, water dripping\n",
      "from its body.\n",
      "\n",
      "Number of sentences: 3\n",
      "Number of words: 31\n",
      "Number of characters: 126\n",
      "Readability index: 3 \n",
      "\n",
      "Text File 3: There was once a poor servant-girl, who was industrious and cleanly,\n",
      "and swept the house every day, and emptied her sweepings on the great heap in front of\n",
      "the door. One morning when she was just going back to her work, she found a letter on\n",
      "this heap, and as she could not read, she put her broom in the corner, and took the\n",
      "letter to her master and mistress, and behold it was an invitation from the elves,\n",
      "who asked the girl to hold a child for them at its christening. The girl did not know\n",
      "what to do, but at length, after much persuasion, and as they told her that it was not\n",
      "right to refuse an invitation of this kind, she consented.\n",
      "\n",
      "Number of sentences: 3\n",
      "Number of words: 126\n",
      "Number of characters: 499\n",
      "Readability index: 19 \n",
      "\n"
     ]
    }
   ],
   "source": [
    "# Name: Jawad Ahmed\n",
    "# Roll No: 20P-0165\n",
    "# Section: BCS-6A \n",
    "\n",
    "# Each occurrence of a period, colon, semicolon, question mark, and exclamation mark is counted as a sentence\n",
    "import math\n",
    "import os\n",
    "from os import walk\n",
    "\n",
    "sentence_terminators = ['.', ':', ';', '?', '!']\n",
    "\n",
    "words_terminators = ['’', '_', '\\t', '\\n', ' ', ',', '-'] + sentence_terminators\n",
    "\n",
    "# Count the Number of sentences in the given string\n",
    "def count_sentences(file_text):\n",
    "    \"\"\"\n",
    "    Takes file content as function parameter\n",
    "    Count the Number of sentences based on the given sentence terminators\n",
    "    \"\"\"\n",
    "    total_sentences = 0\n",
    "    for terminator in sentence_terminators:\n",
    "        total_sentences += file_text.count(terminator)\n",
    "    return total_sentences\n",
    "\n",
    "# Count the Number of words in the given string\n",
    "def count_words(file_text):\n",
    "    \"\"\"\n",
    "    Takes file content as function parameter\n",
    "    Count Number of words based on the given words terminators.\n",
    "    \"\"\"\n",
    "    total_words = 0\n",
    "    file_text = list(file_text)\n",
    "    for i in range(0, len(file_text)):\n",
    "        if (file_text[i] in words_terminators):\n",
    "            file_text[i] = '#'\n",
    "    file_text = ''.join(file_text).split('#')\n",
    "    for word in file_text:\n",
    "        if (len(word) != 0):\n",
    "            total_words += 1\n",
    "    return total_words\n",
    "\n",
    "# Count the Number of character in the given string\n",
    "def count_characters(file_text):\n",
    "    \"\"\"\n",
    "    Takes file content as function parameter\n",
    "    Count characters present in the given parameter based on given rules\n",
    "    \"\"\"\n",
    "    total_characters = 0\n",
    "    for character in file_text:\n",
    "        if (character not in words_terminators):\n",
    "            total_characters += 1\n",
    "    return total_characters\n",
    "\n",
    "# Calculate the Automated Readability Index value\n",
    "def calculate_ari(characters, words, sentences):\n",
    "    \"\"\"\n",
    "    Takes three parameters as input\n",
    "    1. characters\n",
    "    2. words\n",
    "    3. sentences\n",
    "    Then calculate Automated Readability Index(ARI)\n",
    "    \"\"\"\n",
    "    \n",
    "    ari_val = math.ceil(4.71 * (characters/words) + 0.5 * (words/sentences) - 21.43)\n",
    "    if (ari_val < 0):\n",
    "        return 0\n",
    "    return ari_val\n",
    "\n",
    "# Return the list of the target files which ARI user demanded\n",
    "def get_files(directory, file_ext):\n",
    "    \"\"\"\n",
    "    Takes two input parameters\n",
    "    1. Target Directory\n",
    "    2. Target File Extension\n",
    "    Get all the file based on given extension from target directory\n",
    "    \"\"\"\n",
    "    text_files = []\n",
    "    for root, dirs, files in os.walk(directory):\n",
    "        for file in files:\n",
    "            if file.endswith(file_ext):\n",
    "                text_files.append(file)\n",
    "    return text_files\n",
    "\n",
    "# Display output to the user\n",
    "def print_output(file_no, file_text, sentences, words, characters, readibility_index):\n",
    "    print('Text File {}: {}'.format(file_no, file_text))\n",
    "    print('Number of sentences: {}'.format(sentences))\n",
    "    print('Number of words: {}'.format(words))\n",
    "    print('Number of characters: {}'.format(characters))\n",
    "    print('Readability index: {} \\n'.format(readibility_index))\n",
    "     \n",
    "# Read the files and provide the result to the user\n",
    "def read_files(directory, file_ext):\n",
    "    \"\"\"\n",
    "    Function will take two parameters\n",
    "    1. Target Directory\n",
    "    2. Target File Extension\n",
    "    Based on the given parameters it will read the contents of the files and provide the results\n",
    "    \"\"\"\n",
    "    files = get_files(directory, file_ext)\n",
    "    for i in range(0, len(files)):\n",
    "        with open(files[i]) as f:\n",
    "            file_text = f.read()\n",
    "            sentences = count_sentences(file_text)\n",
    "            words = count_words(file_text)\n",
    "            characters = count_characters(file_text)\n",
    "            readibility_index = calculate_ari(characters, words, sentences)\n",
    "            print_output(i + 1, file_text, sentences, words, characters, readibility_index)\n",
    "            \n",
    "\n",
    "# Testing\n",
    "directory = os.getcwd() \n",
    "file_ext = '.txt'\n",
    "print(directory)\n",
    "read_files(directory, file_ext)"
   ]
  },
  {
   "cell_type": "code",
   "execution_count": null,
   "metadata": {
    "id": "6abtX6CHQ1aZ"
   },
   "outputs": [],
   "source": []
  }
 ],
 "metadata": {
  "colab": {
   "provenance": []
  },
  "kernelspec": {
   "display_name": "Python 3",
   "language": "python",
   "name": "python3"
  },
  "language_info": {
   "codemirror_mode": {
    "name": "ipython",
    "version": 3
   },
   "file_extension": ".py",
   "mimetype": "text/x-python",
   "name": "python",
   "nbconvert_exporter": "python",
   "pygments_lexer": "ipython3",
   "version": "3.7.6"
  }
 },
 "nbformat": 4,
 "nbformat_minor": 4
}
