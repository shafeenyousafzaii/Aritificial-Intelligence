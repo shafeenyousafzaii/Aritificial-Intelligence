{
 "cells": [
  {
   "cell_type": "markdown",
   "metadata": {},
   "source": [
    "# Assignment No 3\n",
    "### Name: Jawad Ahmed\n",
    "### Roll No: 20P-0165\n",
    "### Section: BCS-6A"
   ]
  },
  {
   "cell_type": "code",
   "execution_count": 5,
   "metadata": {},
   "outputs": [],
   "source": [
    "import re"
   ]
  },
  {
   "cell_type": "code",
   "execution_count": 6,
   "metadata": {},
   "outputs": [],
   "source": [
    "def read_file(file_name):\n",
    "    pattern = re.compile(r'(\\d+),(\\{[^}]*\\}),(\\d+\\.\\d+)')\n",
    "\n",
    "    result = {}\n",
    "\n",
    "    with open('data0.txt', 'r') as f:\n",
    "        data = f.read()\n",
    "\n",
    "    matches = pattern.findall(data)\n",
    "\n",
    "    for match in matches:\n",
    "        key = int(match[0])\n",
    "        values = match[1]\n",
    "        if values:\n",
    "            values = [{int(val)} for val in values.strip('{}').split(',') if val]\n",
    "        else:\n",
    "            values = [set()]\n",
    "        result.setdefault(key, []).append((values, float(match[2])))\n",
    "    return result"
   ]
  },
  {
   "cell_type": "code",
   "execution_count": 7,
   "metadata": {},
   "outputs": [],
   "source": [
    "result = read_file('data0.txt')"
   ]
  },
  {
   "cell_type": "code",
   "execution_count": 8,
   "metadata": {},
   "outputs": [
    {
     "name": "stdout",
     "output_type": "stream",
     "text": [
      "{1: [([], 153.466), ([{3}], 96.093), ([{4}], 97.913), ([{5}], 99.835)], 2: [([], 141.023), ([{3}], 122.446), ([{4}], 121.576), ([{5}], 123.398)], 3: [([], 169.482), ([{1}], 112.109), ([{2}], 150.906), ([{1}, {2}], 107.516), ([{4}], 51.681), ([{5}], 41.775)], 4: [([], 169.482), ([{1}], 113.929), ([{2}], 150.036), ([{1}, {2}], 108.982), ([{3}], 51.681), ([{5}], 36.188)], 5: [([], 169.802), ([{1}], 116.171), ([{2}], 152.178), ([{1}, {2}], 111.473), ([{3}], 42.096), ([{4}], 36.508)]}\n"
     ]
    }
   ],
   "source": [
    "print(result)"
   ]
  },
  {
   "cell_type": "code",
   "execution_count": 13,
   "metadata": {},
   "outputs": [],
   "source": [
    "def print_dict(a):\n",
    "    for vertex, value in a.items():\n",
    "        print(f\"Vertex {vertex}:\")\n",
    "        for i, (parents, cost) in enumerate(value):\n",
    "            parents_str = \"{\" + \", \".join(str(p) for p in parents) + \"}\" if parents else \"∅\"\n",
    "            print(f\"  {i+1}. Parents: {parents_str}, Cost: {cost:.3f}\")\n"
   ]
  },
  {
   "cell_type": "code",
   "execution_count": 14,
   "metadata": {},
   "outputs": [
    {
     "name": "stdout",
     "output_type": "stream",
     "text": [
      "Vertex 1:\n",
      "  1. Parents: ∅, Cost: 153.466\n",
      "  2. Parents: {{3}}, Cost: 96.093\n",
      "  3. Parents: {{4}}, Cost: 97.913\n",
      "  4. Parents: {{5}}, Cost: 99.835\n",
      "Vertex 2:\n",
      "  1. Parents: ∅, Cost: 141.023\n",
      "  2. Parents: {{3}}, Cost: 122.446\n",
      "  3. Parents: {{4}}, Cost: 121.576\n",
      "  4. Parents: {{5}}, Cost: 123.398\n",
      "Vertex 3:\n",
      "  1. Parents: ∅, Cost: 169.482\n",
      "  2. Parents: {{1}}, Cost: 112.109\n",
      "  3. Parents: {{2}}, Cost: 150.906\n",
      "  4. Parents: {{1}, {2}}, Cost: 107.516\n",
      "  5. Parents: {{4}}, Cost: 51.681\n",
      "  6. Parents: {{5}}, Cost: 41.775\n",
      "Vertex 4:\n",
      "  1. Parents: ∅, Cost: 169.482\n",
      "  2. Parents: {{1}}, Cost: 113.929\n",
      "  3. Parents: {{2}}, Cost: 150.036\n",
      "  4. Parents: {{1}, {2}}, Cost: 108.982\n",
      "  5. Parents: {{3}}, Cost: 51.681\n",
      "  6. Parents: {{5}}, Cost: 36.188\n",
      "Vertex 5:\n",
      "  1. Parents: ∅, Cost: 169.802\n",
      "  2. Parents: {{1}}, Cost: 116.171\n",
      "  3. Parents: {{2}}, Cost: 152.178\n",
      "  4. Parents: {{1}, {2}}, Cost: 111.473\n",
      "  5. Parents: {{3}}, Cost: 42.096\n",
      "  6. Parents: {{4}}, Cost: 36.508\n"
     ]
    }
   ],
   "source": [
    "print_dict(result)"
   ]
  },
  {
   "cell_type": "markdown",
   "metadata": {},
   "source": [
    "# Hill Climbing "
   ]
  },
  {
   "cell_type": "code",
   "execution_count": 59,
   "metadata": {},
   "outputs": [
    {
     "name": "stdout",
     "output_type": "stream",
     "text": [
      "Best Ordering: [5, 3, 1, 4, 2]\n",
      "Best Cost: 465.43399999999997\n"
     ]
    }
   ],
   "source": [
    "import math\n",
    "\n",
    "# Define the data\n",
    "data = [(1, [([], 153.466), ([3], 96.093), ([4], 97.913), ([5], 99.835)]),\n",
    "        (2, [([], 141.023), ([3], 122.446), ([4], 121.576), ([5], 123.398)]),\n",
    "        (3, [([], 169.482), ([1], 112.109), ([2], 150.906), ([1, 2], 107.516), ([4], 51.681), ([5], 41.775)]),\n",
    "        (4, [([], 169.482), ([1], 113.929), ([2], 150.036), ([1, 2], 108.982), ([3], 51.681), ([5], 36.188)]),\n",
    "        (5, [([], 169.802), ([1], 116.171), ([2], 152.178), ([1, 2], 111.473), ([3], 42.096), ([4], 36.508)])]\n",
    "\n",
    "def calculate_cost(ordering):\n",
    "    total_cost = 0\n",
    "    for vertex, neighbors in data:\n",
    "        parent_set = set()\n",
    "        for neighbor in neighbors:\n",
    "            if set(tuple(neighbor[0])).issubset(set(ordering[:ordering.index(vertex)])):\n",
    "                parent_set.add(tuple(neighbor[0]))\n",
    "        if not parent_set:\n",
    "            total_cost += neighbors[0][1] # Use the default cost if there are no parents\n",
    "        else:\n",
    "            min_cost = float(\"inf\")\n",
    "            for parents in parent_set:\n",
    "                for neighbor in neighbors:\n",
    "                    if neighbor[0] == list(parents):\n",
    "                        cost = neighbor[1]\n",
    "                        if cost < min_cost:\n",
    "                            min_cost = cost\n",
    "            total_cost += min_cost\n",
    "    return total_cost\n",
    "\n",
    "def get_neighbors(ordering):\n",
    "    neighbors = []\n",
    "    for i in range(len(ordering)):\n",
    "        for j in range(i+1, len(ordering)):\n",
    "            neighbor = ordering[:i] + [ordering[j]] + ordering[i+1:j] + [ordering[i]] + ordering[j+1:]\n",
    "            neighbors.append(neighbor)\n",
    "    return neighbors\n",
    "\n",
    "def hill_climbing(ordering):\n",
    "    current_ordering = ordering\n",
    "    current_cost = calculate_cost(current_ordering)\n",
    "    while True:\n",
    "        neighbors = get_neighbors(current_ordering)\n",
    "        found_better_neighbor = False\n",
    "        for neighbor in neighbors:\n",
    "            neighbor_cost = calculate_cost(neighbor)\n",
    "            if neighbor_cost < current_cost:\n",
    "                current_ordering = neighbor\n",
    "                current_cost = neighbor_cost\n",
    "                found_better_neighbor = True\n",
    "        if not found_better_neighbor:\n",
    "            break\n",
    "    return current_ordering, current_cost\n",
    "\n",
    "ordering = [5, 3, 1, 4, 2]\n",
    "best_ordering, best_cost = hill_climbing(ordering)\n",
    "\n",
    "print(\"Best Ordering:\", best_ordering)\n",
    "print(\"Best Cost:\", best_cost)\n"
   ]
  },
  {
   "cell_type": "code",
   "execution_count": null,
   "metadata": {},
   "outputs": [],
   "source": []
  },
  {
   "cell_type": "markdown",
   "metadata": {},
   "source": [
    "# Simulated Annealing"
   ]
  },
  {
   "cell_type": "code",
   "execution_count": 28,
   "metadata": {},
   "outputs": [
    {
     "name": "stdout",
     "output_type": "stream",
     "text": [
      "Best Ordering: [5, 3, 1, 4, 2]\n",
      "Best Cost: 465.43399999999997\n"
     ]
    }
   ],
   "source": [
    "import math\n",
    "import random\n",
    "\n",
    "# Define the data\n",
    "data = [(1, [([], 153.466), ([3], 96.093), ([4], 97.913), ([5], 99.835)]),\n",
    "        (2, [([], 141.023), ([3], 122.446), ([4], 121.576), ([5], 123.398)]),\n",
    "        (3, [([], 169.482), ([1], 112.109), ([2], 150.906), ([1, 2], 107.516), ([4], 51.681), ([5], 41.775)]),\n",
    "        (4, [([], 169.482), ([1], 113.929), ([2], 150.036), ([1, 2], 108.982), ([3], 51.681), ([5], 36.188)]),\n",
    "        (5, [([], 169.802), ([1], 116.171), ([2], 152.178), ([1, 2], 111.473), ([3], 42.096), ([4], 36.508)])]\n",
    "\n",
    "def calculate_cost(ordering):\n",
    "    total_cost = 0\n",
    "    for vertex, neighbors in data:\n",
    "        parent_set = set()\n",
    "        for neighbor in neighbors:\n",
    "            if set(tuple(neighbor[0])).issubset(set(ordering[:ordering.index(vertex)])):\n",
    "                parent_set.add(tuple(neighbor[0]))\n",
    "        if not parent_set:\n",
    "            total_cost += neighbors[0][1] # Use the default cost if there are no parents\n",
    "        else:\n",
    "            min_cost = float(\"inf\")\n",
    "            for parents in parent_set:\n",
    "                for neighbor in neighbors:\n",
    "                    if neighbor[0] == list(parents):\n",
    "                        cost = neighbor[1]\n",
    "                        if cost < min_cost:\n",
    "                            min_cost = cost\n",
    "            total_cost += min_cost\n",
    "    return total_cost\n",
    "\n",
    "def simulated_annealing(ordering, T=1.0, cooling_rate=0.0001, stopping_T=0.0001):\n",
    "    best_ordering = ordering\n",
    "    best_cost = calculate_cost(best_ordering)\n",
    "    current_ordering = ordering\n",
    "    current_cost = calculate_cost(current_ordering)\n",
    "    while T > stopping_T:\n",
    "        i = random.randint(0, len(ordering) - 1)\n",
    "        j = random.randint(0, len(ordering) - 1)\n",
    "        new_ordering = current_ordering[:i] + current_ordering[i:j+1][::-1] + current_ordering[j+1:]\n",
    "        new_cost = calculate_cost(new_ordering)\n",
    "        delta_E = new_cost - current_cost\n",
    "        if delta_E < 0 or random.random() < math.exp(-delta_E / T):\n",
    "            current_ordering = new_ordering\n",
    "            current_cost = new_cost\n",
    "        if current_cost < best_cost:\n",
    "            best_ordering = current_ordering\n",
    "            best_cost = current_cost\n",
    "        T *= 1 - cooling_rate\n",
    "    return best_ordering, best_cost\n",
    "\n",
    "ordering = [5, 3, 1, 4, 2]\n",
    "best_ordering, best_cost = simulated_annealing(ordering)\n",
    "\n",
    "print(\"Best Ordering:\", best_ordering)\n",
    "print(\"Best Cost:\", best_cost)\n"
   ]
  },
  {
   "cell_type": "markdown",
   "metadata": {},
   "source": [
    "# Breadth First Search"
   ]
  },
  {
   "cell_type": "code",
   "execution_count": 54,
   "metadata": {},
   "outputs": [
    {
     "name": "stdout",
     "output_type": "stream",
     "text": [
      "Best Ordering: (4, 5, 3, 1, 2)\n",
      "Best Cost: 465.4339999999999\n"
     ]
    }
   ],
   "source": [
    "import math\n",
    "from collections import deque\n",
    "\n",
    "# Define the data\n",
    "data = [(1, [([], 153.466), ([3], 96.093), ([4], 97.913), ([5], 99.835)]),\n",
    "        (2, [([], 141.023), ([3], 122.446), ([4], 121.576), ([5], 123.398)]),\n",
    "        (3, [([], 169.482), ([1], 112.109), ([2], 150.906), ([1, 2], 107.516), ([4], 51.681), ([5], 41.775)]),\n",
    "        (4, [([], 169.482), ([1], 113.929), ([2], 150.036), ([1, 2], 108.982), ([3], 51.681), ([5], 36.188)]),\n",
    "        (5, [([], 169.802), ([1], 116.171), ([2], 152.178), ([1, 2], 111.473), ([3], 42.096), ([4], 36.508)])]\n",
    "\n",
    "def calculate_cost(ordering):\n",
    "    total_cost = 0\n",
    "    for vertex, neighbors in data:\n",
    "        parent_set = set()\n",
    "        for neighbor in neighbors:\n",
    "            if set(tuple(neighbor[0])).issubset(set(ordering[:ordering.index(vertex)])):\n",
    "                parent_set.add(tuple(neighbor[0]))\n",
    "        if not parent_set:\n",
    "            total_cost += neighbors[0][1] # Use the default cost if there are no parents\n",
    "        else:\n",
    "            min_cost = float(\"inf\")\n",
    "            for parents in parent_set:\n",
    "                for neighbor in neighbors:\n",
    "                    if neighbor[0] == list(parents):\n",
    "                        cost = neighbor[1]\n",
    "                        if cost < min_cost:\n",
    "                            min_cost = cost\n",
    "            total_cost += min_cost\n",
    "    return total_cost\n",
    "\n",
    "ordering = [5, 3, 1, 4, 2]\n",
    "visited = {tuple(ordering): calculate_cost(ordering)}\n",
    "queue = deque([ordering])\n",
    "while queue:\n",
    "    current_ordering = queue.popleft()\n",
    "    current_cost = visited[tuple(current_ordering)]\n",
    "    for i in range(len(current_ordering)):\n",
    "        for j in range(i+1, len(current_ordering)):\n",
    "            new_ordering = current_ordering[:i] + current_ordering[i:j+1][::-1] + current_ordering[j+1:]\n",
    "            new_cost = calculate_cost(new_ordering)\n",
    "            # Check if the new ordering is better than the current ordering\n",
    "            if tuple(new_ordering) not in visited or new_cost < visited[tuple(new_ordering)]:\n",
    "                visited[tuple(new_ordering)] = new_cost\n",
    "                queue.append(new_ordering)\n",
    "\n",
    "best_ordering = min(visited, key=visited.get)\n",
    "best_cost = visited[best_ordering]\n",
    "\n",
    "print(\"Best Ordering:\", best_ordering)\n",
    "print(\"Best Cost:\", best_cost)\n"
   ]
  },
  {
   "cell_type": "markdown",
   "metadata": {},
   "source": [
    "# Depth First Search"
   ]
  },
  {
   "cell_type": "code",
   "execution_count": 55,
   "metadata": {},
   "outputs": [
    {
     "name": "stdout",
     "output_type": "stream",
     "text": [
      "Best Ordering: (4, 5, 3, 1, 2)\n",
      "Best Cost: 465.4339999999999\n"
     ]
    }
   ],
   "source": [
    "import math\n",
    "from collections import deque\n",
    "\n",
    "# Define the data\n",
    "data = [(1, [([], 153.466), ([3], 96.093), ([4], 97.913), ([5], 99.835)]),\n",
    "        (2, [([], 141.023), ([3], 122.446), ([4], 121.576), ([5], 123.398)]),\n",
    "        (3, [([], 169.482), ([1], 112.109), ([2], 150.906), ([1, 2], 107.516), ([4], 51.681), ([5], 41.775)]),\n",
    "        (4, [([], 169.482), ([1], 113.929), ([2], 150.036), ([1, 2], 108.982), ([3], 51.681), ([5], 36.188)]),\n",
    "        (5, [([], 169.802), ([1], 116.171), ([2], 152.178), ([1, 2], 111.473), ([3], 42.096), ([4], 36.508)])]\n",
    "\n",
    "def calculate_cost(ordering):\n",
    "    total_cost = 0\n",
    "    for vertex, neighbors in data:\n",
    "        parent_set = set()\n",
    "        for neighbor in reversed(neighbors):\n",
    "            if set(tuple(neighbor[0])).issubset(set(ordering[:ordering.index(vertex)])):\n",
    "                parent_set.add(tuple(neighbor[0]))\n",
    "        if not parent_set:\n",
    "            total_cost += neighbors[0][1] # Use the default cost if there are no parents\n",
    "        else:\n",
    "            min_cost = float(\"inf\")\n",
    "            for parents in parent_set:\n",
    "                for neighbor in reversed(neighbors):\n",
    "                    if neighbor[0] == list(parents):\n",
    "                        cost = neighbor[1]\n",
    "                        if cost < min_cost:\n",
    "                            min_cost = cost\n",
    "            total_cost += min_cost\n",
    "    return total_cost\n",
    "\n",
    "ordering = [5, 3, 1, 4, 2]\n",
    "visited = {tuple(ordering): calculate_cost(ordering)}\n",
    "stack = [ordering]\n",
    "while stack:\n",
    "    current_ordering = stack.pop()\n",
    "    current_cost = visited[tuple(current_ordering)]\n",
    "    for i in reversed(range(len(current_ordering))):\n",
    "        for j in reversed(range(i+1, len(current_ordering))):\n",
    "            new_ordering = current_ordering[:i] + current_ordering[i:j+1][::-1] + current_ordering[j+1:]\n",
    "            new_cost = calculate_cost(new_ordering)\n",
    "            # Check if the new ordering is better than the current ordering\n",
    "            if tuple(new_ordering) not in visited or new_cost < visited[tuple(new_ordering)]:\n",
    "                visited[tuple(new_ordering)] = new_cost\n",
    "                stack.append(new_ordering)\n",
    "\n",
    "best_ordering = min(visited, key=visited.get)\n",
    "best_cost = visited[best_ordering]\n",
    "\n",
    "print(\"Best Ordering:\", best_ordering)\n",
    "print(\"Best Cost:\", best_cost)\n"
   ]
  },
  {
   "cell_type": "code",
   "execution_count": null,
   "metadata": {},
   "outputs": [],
   "source": []
  }
 ],
 "metadata": {
  "kernelspec": {
   "display_name": "Python 3 (ipykernel)",
   "language": "python",
   "name": "python3"
  },
  "language_info": {
   "codemirror_mode": {
    "name": "ipython",
    "version": 3
   },
   "file_extension": ".py",
   "mimetype": "text/x-python",
   "name": "python",
   "nbconvert_exporter": "python",
   "pygments_lexer": "ipython3",
   "version": "3.9.7"
  }
 },
 "nbformat": 4,
 "nbformat_minor": 4
}
