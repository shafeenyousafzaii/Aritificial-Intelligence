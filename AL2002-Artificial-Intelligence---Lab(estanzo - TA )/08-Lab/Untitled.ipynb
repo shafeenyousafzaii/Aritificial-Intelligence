{
 "cells": [
  {
   "cell_type": "code",
   "execution_count": 1,
   "id": "4f65a2d7-1de2-43f2-83aa-d94353f56aab",
   "metadata": {},
   "outputs": [],
   "source": [
    "import networkx as nx\n",
    "import matplotlib.pyplot as plt"
   ]
  },
  {
   "cell_type": "code",
   "execution_count": 2,
   "id": "ed74ee8c-c6c8-477e-a0ba-7b718faf887d",
   "metadata": {},
   "outputs": [],
   "source": [
    "G = nx.Graph()\n",
    "\n",
    "G.add_nodes_from([\"Arad\", \"Bucharest\", \"Oradea\", \"Zerind\", \"Timisoara\", \"Lugoj\", \"Mehadia\", \"Dobreta\", \"Craiova\", \"Pitesti\", \"Rimnicu Vilcea\", \"Sibiu\", \"Fagarus\", \"Giurgiu\", \"Urziceni\", \"Vaslui\", \"lasi\", \"Neamt\", \"Hirsova\", \"Eforie\"]) #add remaining nodes to the list\n"
   ]
  },
  {
   "cell_type": "code",
   "execution_count": 3,
   "id": "cd2cbc40-b7a8-4d1a-80d9-33f09e4b2b24",
   "metadata": {},
   "outputs": [],
   "source": [
    "edges = [(\"Arad\", \"Zerind\", 75),(\"Arad\", \"Sibiu\", 140),     \n",
    "         (\"Arad\", \"Timisoara\", 118), (\"Zerind\", \"Oradea\", 71), (\"Timisoara\", \"Lugoj\", 111), (\"Lugoj\", \"Mehadia\", 70), (\"Mehadia\", \"Dobreta\", 75),\n",
    "         (\"Dobreta\", \"Craiova\", 120), (\"Craiova\", \"Rimnicu Vilcea\", 146), (\"Craiova\", \"Pitesti\", 138), (\"Pitesti\", \"Rimnicu Vilcea\", 97),\n",
    "         (\"Rimnicu Vilcea\", \"Sibiu\", 80), (\"Oradea\", \"Subiu\", 151), (\"Subiu\", \"Fagaras\", 99), (\"Fagaras\", \"Bucharest\", 211),\n",
    "         (\"Pitesti\", \"Bucharest\", 101), (\"Bucharest\", \"Giurgiu\", 90), (\"Bucharest\", \"Urziceni\", 85), (\"Urziceni\", \"Vaslui\", 142), (\"Vaslui\", \"lasi\", 92),\n",
    "         (\"Lasi\", \"Neamt\", 87), (\"Urziceni\", \"Hirsova\", 98), (\"Hirsova\", \"Eforie\", 86), (\"Fagaras\", \"Bucharest\", 211)] #add remaining edges to the list\n",
    "\n",
    "for edge in edges:\n",
    "    G.add_edge(edge[0], edge[1], weight=edge[2])"
   ]
  },
  {
   "cell_type": "code",
   "execution_count": 4,
   "id": "61198a25-6077-447f-9339-566c6ead682a",
   "metadata": {},
   "outputs": [],
   "source": [
    "class Node():\n",
    "    def __init__(self, state, node, parent):\n",
    "        self.state = state\n",
    "        self.node = node\n",
    "        self.parent = parent"
   ]
  },
  {
   "cell_type": "code",
   "execution_count": 6,
   "id": "d50fefa0-a73f-46f8-9d9e-3fb56a72a31c",
   "metadata": {},
   "outputs": [],
   "source": [
    "class StackFrontier():\n",
    "    def __init__(self):\n",
    "        self.stack = []\n",
    "        \n",
    "    def add(self, node):\n",
    "        self.stack.append(node)\n",
    "        \n",
    "    def empty(self):\n",
    "        return len(self.stack) == 0\n",
    "    \n",
    "    def contains_state(self, state):\n",
    "        return (node.state == state for node in self.frontier)\n",
    "        \n",
    "    def remove(self, node):\n",
    "        if self.empty():\n",
    "            raise Exception(\"Empty Stack\")\n",
    "        else:\n",
    "            node = self.stack[-1]\n",
    "            self.stack = self.stack[:-1]\n",
    "            return node"
   ]
  },
  {
   "cell_type": "code",
   "execution_count": 7,
   "id": "fec3693c-a010-4501-b892-4f654140bfb5",
   "metadata": {},
   "outputs": [],
   "source": [
    "class QueueFrontier(StackFrontier):\n",
    "    def remove(self, node):\n",
    "        if self.empty():\n",
    "            return Exception(\"Emtpy Queue\")\n",
    "        else:\n",
    "            node = self.stack[0]\n",
    "            self.stack = self.stack[1:]\n",
    "            return node"
   ]
  },
  {
   "cell_type": "markdown",
   "id": "4d26e02f-f318-4b5a-9ca8-70b22c896507",
   "metadata": {},
   "source": [
    "# Network X Crash Course"
   ]
  },
  {
   "cell_type": "code",
   "execution_count": 8,
   "id": "73008caf-bb34-4ac9-bf39-218a652220b3",
   "metadata": {},
   "outputs": [],
   "source": [
    "import networkx as nx\n",
    "import matplotlib.pyplot as plt"
   ]
  },
  {
   "cell_type": "code",
   "execution_count": 9,
   "id": "77f299c7-84cd-46ed-af2b-f4b342b6c506",
   "metadata": {},
   "outputs": [],
   "source": [
    "# Simple UnDirected Graph\n",
    "G = nx.Graph()\n",
    "# For Directed Graph\n",
    "# G = nx.DiGraph()\n"
   ]
  },
  {
   "cell_type": "code",
   "execution_count": 10,
   "id": "9536a431-f626-4869-81a2-c992a3c68584",
   "metadata": {},
   "outputs": [],
   "source": [
    "# It will create node itself if 1, 2 does not exist\n",
    "G.add_edge(1, 2)"
   ]
  },
  {
   "cell_type": "code",
   "execution_count": 11,
   "id": "b54da98b-7f06-416e-b83a-804495479361",
   "metadata": {},
   "outputs": [],
   "source": [
    "G.add_edge(2, 3, weight=0.9)"
   ]
  },
  {
   "cell_type": "code",
   "execution_count": 12,
   "id": "fd74e4ab-d6f2-4e25-a348-9870283a054d",
   "metadata": {},
   "outputs": [],
   "source": [
    "G.add_edge(\"A\", \"B\")"
   ]
  },
  {
   "cell_type": "code",
   "execution_count": 13,
   "id": "963c8e98-516b-449c-a6bc-e091dd2ae117",
   "metadata": {},
   "outputs": [
    {
     "data": {
      "image/png": "[encoded data removed]",
      "text/plain": [
       "<Figure size 432x288 with 1 Axes>"
      ]
     },
     "metadata": {},
     "output_type": "display_data"
    }
   ],
   "source": [
    "nx.draw_spring(G, with_labels=True)\n",
    "plt.show()"
   ]
  },
  {
   "cell_type": "code",
   "execution_count": 14,
   "id": "118a06ca-18a3-4f73-ad86-40cb3334c6e1",
   "metadata": {},
   "outputs": [],
   "source": [
    "edge_list = [(1, 2), (2, 3), (3, 4), (4, 5), (4, 6), (4, 7)]"
   ]
  },
  {
   "cell_type": "code",
   "execution_count": 15,
   "id": "9f60ea1f-59f3-4c93-a1f9-d34d23e03b76",
   "metadata": {},
   "outputs": [],
   "source": [
    "G = nx.from_edgelist(edge_list)"
   ]
  },
  {
   "cell_type": "code",
   "execution_count": 16,
   "id": "acee6d57-b90a-4f0f-a93f-1c456fa32fd6",
   "metadata": {},
   "outputs": [
    {
     "data": {
      "image/png": "[encoded data removed]",
      "text/plain": [
       "<Figure size 432x288 with 1 Axes>"
      ]
     },
     "metadata": {},
     "output_type": "display_data"
    }
   ],
   "source": [
    "nx.draw_spring(G, with_labels=True)\n",
    "plt.show()"
   ]
  },
  {
   "cell_type": "code",
   "execution_count": 17,
   "id": "c0201aca-6d3c-4ba6-84b4-39098750766e",
   "metadata": {},
   "outputs": [],
   "source": [
    "G = nx.Graph()\n",
    "G.add_edges_from(edge_list)"
   ]
  },
  {
   "cell_type": "code",
   "execution_count": 18,
   "id": "9fa57853-e238-42ac-9eae-a67bfa674b7f",
   "metadata": {},
   "outputs": [
    {
     "data": {
      "image/png": "[encoded data removed]",
      "text/plain": [
       "<Figure size 432x288 with 1 Axes>"
      ]
     },
     "metadata": {},
     "output_type": "display_data"
    }
   ],
   "source": [
    "nx.draw_spring(G, with_labels=True)"
   ]
  },
  {
   "cell_type": "code",
   "execution_count": 19,
   "id": "eaa9d072-ddb5-42cc-8aa8-5e6f34df2348",
   "metadata": {},
   "outputs": [
    {
     "name": "stdout",
     "output_type": "stream",
     "text": [
      "  (0, 1)\t1\n",
      "  (1, 0)\t1\n",
      "  (1, 2)\t1\n",
      "  (2, 1)\t1\n",
      "  (2, 3)\t1\n",
      "  (3, 2)\t1\n",
      "  (3, 4)\t1\n",
      "  (3, 5)\t1\n",
      "  (3, 6)\t1\n",
      "  (4, 3)\t1\n",
      "  (5, 3)\t1\n",
      "  (6, 3)\t1\n"
     ]
    }
   ],
   "source": [
    "print(nx.adjacency_matrix(G))"
   ]
  },
  {
   "cell_type": "code",
   "execution_count": 20,
   "id": "c23f893d-d94c-491b-bf92-c55f5485aef8",
   "metadata": {},
   "outputs": [],
   "source": [
    "import numpy as np"
   ]
  },
  {
   "cell_type": "code",
   "execution_count": null,
   "id": "79a679ce-18e5-49d4-8f95-1e18125777d1",
   "metadata": {},
   "outputs": [],
   "source": []
  },
  {
   "cell_type": "code",
   "execution_count": null,
   "id": "b401f1f1-e889-4b94-beef-380f01ce548c",
   "metadata": {},
   "outputs": [],
   "source": []
  }
 ],
 "metadata": {
  "kernelspec": {
   "display_name": "Python 3 (ipykernel)",
   "language": "python",
   "name": "python3"
  },
  "language_info": {
   "codemirror_mode": {
    "name": "ipython",
    "version": 3
   },
   "file_extension": ".py",
   "mimetype": "text/x-python",
   "name": "python",
   "nbconvert_exporter": "python",
   "pygments_lexer": "ipython3",
   "version": "3.9.7"
  }
 },
 "nbformat": 4,
 "nbformat_minor": 5
}
