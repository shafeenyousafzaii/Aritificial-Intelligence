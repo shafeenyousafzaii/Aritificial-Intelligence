{
 "cells": [
  {
   "cell_type": "markdown",
   "metadata": {
    "tags": []
   },
   "source": [
    "# Lab 12: Genetic Algorithms\n",
    "### Name: Jawad Ahmed\n",
    "### Roll No: 20P-0165\n",
    "### Section: BCS-6A"
   ]
  },
  {
   "cell_type": "code",
   "execution_count": 1,
   "metadata": {},
   "outputs": [],
   "source": [
    "import numpy as np"
   ]
  },
  {
   "cell_type": "code",
   "execution_count": 2,
   "metadata": {},
   "outputs": [],
   "source": [
    "# Initialize a 2D numpy array with 3 rows and 4 columns filled with integer zeros\n",
    "arr = np.zeros((4, 4), dtype=int)"
   ]
  },
  {
   "cell_type": "code",
   "execution_count": 3,
   "metadata": {},
   "outputs": [
    {
     "data": {
      "text/plain": [
       "array([[0, 0, 0, 0],\n",
       "       [0, 0, 0, 0],\n",
       "       [0, 0, 0, 0],\n",
       "       [0, 0, 0, 0]])"
      ]
     },
     "execution_count": 3,
     "metadata": {},
     "output_type": "execute_result"
    }
   ],
   "source": [
    "arr"
   ]
  },
  {
   "cell_type": "markdown",
   "metadata": {},
   "source": [
    "### Step 1: Initial Population\n",
    "Select any random states as initial population i.e.\n",
    "\n",
    "No. of population is a random or your choice.\n",
    "\n",
    "Values in each population represents a random state."
   ]
  },
  {
   "cell_type": "code",
   "execution_count": 4,
   "metadata": {},
   "outputs": [],
   "source": [
    "def fitness_function(arr):\n",
    "    return np.count_nonzero(arr == 1)"
   ]
  },
  {
   "cell_type": "code",
   "execution_count": 5,
   "metadata": {},
   "outputs": [],
   "source": [
    "def generate_initial_chromosomes(n):\n",
    "    arr = np.zeros((4,4), dtype=int)\n",
    "    arr = arr.reshape(16)\n",
    "    chromosomes = []\n",
    "    for i in range(n):\n",
    "        random_numbers = np.random.randint(0, 16, size=10)\n",
    "        for random_number in random_numbers:\n",
    "            arr[random_number] = 1\n",
    "        chromosomes.append(arr)\n",
    "        arr = np.zeros((4, 4), dtype=int)\n",
    "        arr = arr.reshape(16)\n",
    "    return chromosomes"
   ]
  },
  {
   "cell_type": "code",
   "execution_count": 6,
   "metadata": {},
   "outputs": [],
   "source": [
    "chromosomes = generate_initial_chromosomes(30)"
   ]
  },
  {
   "cell_type": "code",
   "execution_count": 7,
   "metadata": {},
   "outputs": [
    {
     "data": {
      "text/plain": [
       "[array([0, 0, 0, 1, 0, 1, 0, 0, 0, 1, 1, 0, 1, 0, 1, 0]),\n",
       " array([1, 0, 1, 0, 0, 0, 0, 0, 1, 0, 0, 0, 1, 0, 1, 0]),\n",
       " array([1, 0, 0, 0, 0, 1, 1, 1, 0, 0, 0, 0, 0, 1, 0, 1]),\n",
       " array([0, 0, 1, 0, 1, 0, 1, 0, 1, 1, 0, 0, 1, 0, 0, 1]),\n",
       " array([0, 0, 0, 1, 1, 1, 0, 0, 0, 1, 1, 0, 0, 1, 0, 1]),\n",
       " array([1, 0, 1, 1, 1, 0, 0, 1, 1, 0, 0, 0, 0, 0, 0, 1]),\n",
       " array([0, 1, 1, 0, 1, 0, 0, 1, 0, 1, 0, 0, 1, 0, 1, 1]),\n",
       " array([1, 1, 1, 1, 0, 0, 0, 0, 0, 1, 0, 0, 1, 0, 0, 1]),\n",
       " array([1, 1, 0, 1, 1, 0, 1, 0, 1, 0, 0, 1, 0, 0, 0, 1]),\n",
       " array([0, 1, 0, 1, 1, 0, 1, 0, 0, 1, 0, 0, 1, 1, 0, 0]),\n",
       " array([0, 1, 0, 0, 1, 1, 1, 0, 1, 1, 0, 0, 1, 0, 0, 0]),\n",
       " array([1, 1, 0, 0, 0, 1, 0, 0, 0, 0, 1, 1, 1, 1, 1, 1]),\n",
       " array([0, 0, 1, 1, 0, 0, 1, 1, 0, 1, 0, 0, 0, 1, 1, 0]),\n",
       " array([0, 1, 0, 1, 0, 1, 0, 0, 0, 1, 1, 1, 0, 1, 1, 0]),\n",
       " array([1, 0, 1, 0, 1, 1, 0, 1, 0, 1, 0, 1, 1, 0, 0, 1]),\n",
       " array([0, 0, 0, 1, 1, 1, 1, 1, 0, 0, 1, 0, 0, 1, 1, 1]),\n",
       " array([1, 0, 1, 1, 1, 0, 0, 0, 0, 0, 1, 0, 1, 0, 1, 1]),\n",
       " array([1, 1, 1, 1, 1, 1, 0, 1, 1, 0, 0, 1, 0, 0, 0, 1]),\n",
       " array([1, 1, 0, 0, 0, 1, 1, 1, 0, 0, 0, 1, 0, 1, 0, 1]),\n",
       " array([1, 0, 1, 0, 0, 1, 0, 0, 0, 0, 1, 0, 1, 1, 1, 1]),\n",
       " array([1, 0, 1, 1, 1, 0, 0, 0, 0, 1, 0, 1, 1, 0, 0, 0]),\n",
       " array([0, 0, 0, 1, 1, 0, 1, 1, 0, 1, 1, 1, 0, 0, 0, 0]),\n",
       " array([1, 1, 0, 1, 0, 1, 0, 0, 0, 1, 0, 0, 1, 1, 1, 1]),\n",
       " array([1, 0, 1, 1, 0, 1, 1, 1, 0, 0, 0, 0, 0, 1, 0, 0]),\n",
       " array([0, 0, 1, 0, 0, 0, 1, 0, 1, 1, 1, 1, 0, 1, 0, 1]),\n",
       " array([1, 0, 1, 0, 0, 0, 0, 0, 1, 1, 0, 0, 1, 0, 1, 1]),\n",
       " array([0, 0, 0, 0, 0, 0, 1, 1, 1, 0, 1, 1, 0, 1, 1, 1]),\n",
       " array([1, 1, 1, 0, 0, 1, 0, 0, 0, 1, 0, 1, 1, 0, 0, 1]),\n",
       " array([0, 1, 0, 0, 0, 1, 1, 1, 0, 0, 1, 0, 0, 1, 1, 0]),\n",
       " array([0, 1, 1, 1, 0, 0, 0, 0, 1, 1, 1, 1, 0, 0, 1, 0])]"
      ]
     },
     "execution_count": 7,
     "metadata": {},
     "output_type": "execute_result"
    }
   ],
   "source": [
    "chromosomes"
   ]
  },
  {
   "cell_type": "markdown",
   "metadata": {},
   "source": [
    "### Step 2: Selection of Parents\n",
    "1. Parents will be selected random from the population in the first step.\n",
    "2. High fitness value population will have high chances of selection as a parent i.e. P4\n",
    "will have high weightage to be selected as randomly\n",
    "Selection_Probability P(i) = Fitness of P(i)/Total Fitness of all Populations"
   ]
  },
  {
   "cell_type": "code",
   "execution_count": 8,
   "metadata": {},
   "outputs": [],
   "source": [
    "def calculate_probabilities(chromosomes):\n",
    "#     Calculate Total Fitness of all the population\n",
    "    total_fitness_all_population = 0\n",
    "    for chromosome in chromosomes:\n",
    "        total_fitness_all_population += fitness_function(chromosome)\n",
    "#     Calculate selection probabitlies\n",
    "    selection_probabilities = []\n",
    "    for chromosome in chromosomes:\n",
    "        selection_probabilities.append((fitness_function(chromosome)) / total_fitness_all_population)\n",
    "    return selection_probabilities"
   ]
  },
  {
   "cell_type": "code",
   "execution_count": 9,
   "metadata": {},
   "outputs": [],
   "source": [
    "def convert_chromosomes_to_indices(chromosomes):\n",
    "    indices_chromosomes = []\n",
    "    for i in range(len(chromosomes)):\n",
    "        indices_chromosomes.append(i)\n",
    "    return indices_chromosomes"
   ]
  },
  {
   "cell_type": "code",
   "execution_count": 10,
   "metadata": {},
   "outputs": [],
   "source": [
    "def roulette_wheel_selection(chromosomes):\n",
    "    selection_probabilities = calculate_probabilities(chromosomes)\n",
    "    indices_chromosomes = convert_chromosomes_to_indices(chromosomes)\n",
    "    selected_parents_indices = np.random.choice(indices_chromosomes, 2, p=selection_probabilities)\n",
    "    selected_parents = []\n",
    "    selected_parents.append(chromosomes[selected_parents_indices[0]])\n",
    "    selected_parents.append(chromosomes[selected_parents_indices[1]])\n",
    "    return selected_parents"
   ]
  },
  {
   "cell_type": "code",
   "execution_count": 11,
   "metadata": {},
   "outputs": [],
   "source": [
    "selected_parents = roulette_wheel_selection(chromosomes)"
   ]
  },
  {
   "cell_type": "code",
   "execution_count": 12,
   "metadata": {},
   "outputs": [
    {
     "data": {
      "text/plain": [
       "[array([0, 1, 0, 0, 1, 1, 1, 0, 1, 1, 0, 0, 1, 0, 0, 0]),\n",
       " array([0, 1, 1, 0, 1, 0, 0, 1, 0, 1, 0, 0, 1, 0, 1, 1])]"
      ]
     },
     "execution_count": 12,
     "metadata": {},
     "output_type": "execute_result"
    }
   ],
   "source": [
    "selected_parents"
   ]
  },
  {
   "cell_type": "markdown",
   "metadata": {},
   "source": [
    "### Step 3: Modification\n",
    "Crossover:\n",
    "1. This is called convergence step because it will generate children (new states)\n",
    "2.\n",
    "Create children from meeting of the parents\n",
    "3. Generate two children/successor from two parents (new version of genetic\n",
    "algorithm produce one child instead)"
   ]
  },
  {
   "cell_type": "code",
   "execution_count": 13,
   "metadata": {},
   "outputs": [],
   "source": [
    "def generate_childs_using_crossover(selected_parents):\n",
    "    crossover_point = np.random.randint(0, len(selected_parents[0]))\n",
    "    \n",
    "#     Create child\n",
    "    child_one = np.concatenate((selected_parents[0][:crossover_point], selected_parents[1][crossover_point:]))\n",
    "    child_two = np.concatenate((selected_parents[1][:crossover_point], selected_parents[0][crossover_point:]))\n",
    "    \n",
    "    childs = []\n",
    "    childs.append(child_one)\n",
    "    childs.append(child_two)\n",
    "    \n",
    "    return childs"
   ]
  },
  {
   "cell_type": "code",
   "execution_count": 14,
   "metadata": {},
   "outputs": [],
   "source": [
    "childs = generate_childs_using_crossover(selected_parents)"
   ]
  },
  {
   "cell_type": "code",
   "execution_count": 15,
   "metadata": {},
   "outputs": [
    {
     "data": {
      "text/plain": [
       "[array([0, 1, 1, 0, 1, 0, 0, 1, 0, 1, 0, 0, 1, 0, 1, 1]),\n",
       " array([0, 1, 0, 0, 1, 1, 1, 0, 1, 1, 0, 0, 1, 0, 0, 0])]"
      ]
     },
     "execution_count": 15,
     "metadata": {},
     "output_type": "execute_result"
    }
   ],
   "source": [
    "childs"
   ]
  },
  {
   "cell_type": "markdown",
   "metadata": {},
   "source": [
    "### Mutation:\n",
    "1. Apply mutation on children in order to get the new/updated state (assuming it will\n",
    "quickly lead us to goal)\n",
    "2. Mutation probability or mutation rate is fixed and chosen a very small value i.e.\n",
    "0.01 means generate a random no. between (1-100), mutate the child if random\n",
    "no. is 1 else skip. i.e. 0.2 means generate a random no. between (1-10), mutate the\n",
    "child if random no. is 1 or 2. Skip otherwise\n",
    "3. Mutation rate will be applied and checked for each digit/char in a population i.e.\n",
    "You will keep repeating this process for each array value in a single population\n",
    "means 16 times random no. will be generated and checked respectively."
   ]
  },
  {
   "cell_type": "code",
   "execution_count": 32,
   "metadata": {},
   "outputs": [],
   "source": [
    "def mutation(childs, mutation_rate = 0.2):\n",
    "    random_number = 0\n",
    "    if (mutation_rate == 0.01):\n",
    "        random_number = np.random.randint(1, 100)\n",
    "        for child in childs:\n",
    "            for i in range(len(child)):\n",
    "#                 If random number is 1 mutate the child\n",
    "                if random_number == 1:\n",
    "                    if (childs[i] == 1):\n",
    "                        childs[i] = 0\n",
    "                    else:\n",
    "                        childs[i] = 1\n",
    "        \n",
    "    else:\n",
    "        random_number = np.random.randint(1, 10)\n",
    "        for child in childs:\n",
    "            for i in range(len(child)):\n",
    "#                 If random number is 1 or 2 mutate it\n",
    "                if random_number == 1 or random_number == 2:\n",
    "                    if childs[i] == 1:\n",
    "                        childs[i] = 0\n",
    "                    else:\n",
    "                        childs[i] = 1\n",
    "    return childs"
   ]
  },
  {
   "cell_type": "code",
   "execution_count": 33,
   "metadata": {},
   "outputs": [
    {
     "data": {
      "text/plain": [
       "[array([0, 1, 1, 0, 1, 0, 0, 1, 0, 1, 0, 0, 1, 0, 1, 1]),\n",
       " array([0, 1, 0, 0, 1, 1, 1, 0, 1, 1, 0, 0, 1, 0, 0, 0])]"
      ]
     },
     "execution_count": 33,
     "metadata": {},
     "output_type": "execute_result"
    }
   ],
   "source": [
    "childs"
   ]
  },
  {
   "cell_type": "code",
   "execution_count": 34,
   "metadata": {},
   "outputs": [
    {
     "data": {
      "text/plain": [
       "[array([0, 1, 1, 0, 1, 0, 0, 1, 0, 1, 0, 0, 1, 0, 1, 1]),\n",
       " array([0, 1, 0, 0, 1, 1, 1, 0, 1, 1, 0, 0, 1, 0, 0, 0])]"
      ]
     },
     "execution_count": 34,
     "metadata": {},
     "output_type": "execute_result"
    }
   ],
   "source": [
    "mutation(childs)"
   ]
  },
  {
   "cell_type": "code",
   "execution_count": 35,
   "metadata": {},
   "outputs": [
    {
     "data": {
      "text/plain": [
       "[array([0, 1, 1, 0, 1, 0, 0, 1, 0, 1, 0, 0, 1, 0, 1, 1]),\n",
       " array([0, 1, 0, 0, 1, 1, 1, 0, 1, 1, 0, 0, 1, 0, 0, 0])]"
      ]
     },
     "execution_count": 35,
     "metadata": {},
     "output_type": "execute_result"
    }
   ],
   "source": [
    "childs"
   ]
  },
  {
   "cell_type": "markdown",
   "metadata": {},
   "source": [
    "### Step 4: Evaluation\n",
    "1. Compute the fitness values of newly generated children\n",
    "2. Apply the goal test\n",
    "3. Replace the old population with newly created population having new children\n",
    "4. Repeat the steps 1-4 if goal is not found."
   ]
  },
  {
   "cell_type": "code",
   "execution_count": 52,
   "metadata": {},
   "outputs": [],
   "source": [
    "def evaluation(goal_fitness_value = 16, no_of_iterations = 10000):\n",
    "    a = 0\n",
    "    new_fitness_value = 0\n",
    "    goal_state = np.array([])\n",
    "    while(new_fitness_value <= goal_fitness_value and a < no_of_iterations):\n",
    "        chromosomes = generate_initial_chromosomes(30)\n",
    "        selected_parents = roulette_wheel_selection(chromosomes)\n",
    "        childs = generate_childs_using_crossover(selected_parents)\n",
    "        if (fitness_function(childs[0]) > fitness_function(childs[1])) and (fitness_function(childs[0]) > new_fitness_value):\n",
    "            new_fitness_value = fitness_function(childs[0])\n",
    "            goal_state = childs[0]\n",
    "        elif (fitness_function(childs[1]) > new_fitness_value):\n",
    "            new_fitness_value = fitness_function(childs[1])\n",
    "            goal_state = childs[1]\n",
    "        a += 1\n",
    "    return goal_state, new_fitness_value"
   ]
  },
  {
   "cell_type": "code",
   "execution_count": 53,
   "metadata": {},
   "outputs": [
    {
     "data": {
      "text/plain": [
       "(array([1, 1, 1, 1, 1, 1, 1, 1, 1, 1, 1, 1, 1, 0, 1, 1]), 15)"
      ]
     },
     "execution_count": 53,
     "metadata": {},
     "output_type": "execute_result"
    }
   ],
   "source": [
    "evaluation()"
   ]
  },
  {
   "cell_type": "code",
   "execution_count": null,
   "metadata": {},
   "outputs": [],
   "source": []
  },
  {
   "cell_type": "code",
   "execution_count": null,
   "metadata": {},
   "outputs": [],
   "source": []
  }
 ],
 "metadata": {
  "kernelspec": {
   "display_name": "Python 3 (ipykernel)",
   "language": "python",
   "name": "python3"
  },
  "language_info": {
   "codemirror_mode": {
    "name": "ipython",
    "version": 3
   },
   "file_extension": ".py",
   "mimetype": "text/x-python",
   "name": "python",
   "nbconvert_exporter": "python",
   "pygments_lexer": "ipython3",
   "version": "3.9.7"
  }
 },
 "nbformat": 4,
 "nbformat_minor": 4
}
