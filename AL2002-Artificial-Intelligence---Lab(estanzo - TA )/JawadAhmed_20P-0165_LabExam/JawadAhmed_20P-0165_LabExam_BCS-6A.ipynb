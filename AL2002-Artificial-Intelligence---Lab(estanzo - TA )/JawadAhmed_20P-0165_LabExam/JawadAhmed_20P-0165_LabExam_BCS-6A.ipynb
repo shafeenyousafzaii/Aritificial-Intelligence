{
 "cells": [
  {
   "cell_type": "markdown",
   "id": "61e0c146-9d36-44f4-a4a2-0a090826537e",
   "metadata": {
    "tags": []
   },
   "source": [
    "# Lab Exam\n",
    "## Question No 2"
   ]
  },
  {
   "cell_type": "code",
   "execution_count": 1,
   "id": "422275b8-2352-46cf-aa9a-1236e283342c",
   "metadata": {},
   "outputs": [],
   "source": [
    "percept = ['elevator_control_system']\n",
    "# On calling the elevator will call -> call move_to_floor(floor_number)\n",
    "# On capacity exceeded will call -> check_capacity()\n",
    "# On emergency buttong pressed will call -> emergency_stop() function\n",
    "states = ['calling_the_elevator', 'capacity_exceeded', 'emergency_button_pressed']\n",
    "rules = ['call_move_to_floor_function', 'call_capacity_exceeded_function', 'call_emergency_stop_function', 'No Action Needed']\n",
    "\n",
    "\n",
    "def getState(is_call_elevator, is_capacity_exceeded, is_emergency_button_pressed):\n",
    "    l = []\n",
    "    if (not(is_call_elevator) and not(is_capacity_exceeded) and not(is_emergency_button_pressed)):\n",
    "        return []\n",
    "    elif (not(is_call_elevator) and not(is_capacity_exceeded) and is_emergency_button_pressed):\n",
    "        l = []\n",
    "        l.append(states[2])\n",
    "        return l\n",
    "    elif (not(is_call_elevator) and is_capacity_exceeded and not(is_emergency_button_pressed)):\n",
    "        l = []\n",
    "        l.append(states[1])\n",
    "        return l\n",
    "    elif (not(is_call_elevator) and is_capacity_exceeded and is_emergency_button_pressed):\n",
    "        l = []\n",
    "        l.append(states[1])\n",
    "        l.append(states[2])\n",
    "        return l\n",
    "    elif (is_call_elevator and not(is_capacity_exceeded) and not(is_emergency_button_pressed)):\n",
    "        l = []\n",
    "        l.append(states[0])\n",
    "        return l\n",
    "    elif (is_call_elevator and not(is_capacity_exceeded) and is_emergency_button_pressed):\n",
    "        l = []\n",
    "        l.append(states[0])\n",
    "        l.append(states[2])\n",
    "        return states[0], states[2]\n",
    "    elif (is_call_elevator and is_capacity_exceeded and not(is_emergency_button_pressed)):\n",
    "        l.append(states[0])\n",
    "        l.append(states[1])\n",
    "        return states[0], states[1]\n",
    "    else:\n",
    "        return states"
   ]
  },
  {
   "cell_type": "code",
   "execution_count": 2,
   "id": "3120542d-8b60-4773-928c-0252e27f2750",
   "metadata": {},
   "outputs": [],
   "source": [
    "def move_to_floor(floor_number):\n",
    "    print('Lift is coming to floor number => ', floor_number)\n",
    "    \n",
    "def check_capacity():\n",
    "    print(\"Check the passengers in the elevator\")\n",
    "\n",
    "def emergency_stop():\n",
    "    print(\"Alert to Security Life if overloaded\")\n",
    "\n",
    "\n",
    "def getRules(state_value):\n",
    "    floor_number = 0\n",
    "    if (len(state_value) == 0):\n",
    "        return rules[-1]\n",
    "    elif (len(state_value) == 1):\n",
    "        print(state_value)\n",
    "        if (state_value[0] == 'calling_the_elevator'):\n",
    "            floor_number = int(input(\"Enter Floor Number => \"))\n",
    "            move_to_floor(floor_number)\n",
    "        elif (state_value[0] == 'capacity_exceeded'):\n",
    "            check_capacity()\n",
    "        elif (state_value[0] == 'emergency_button_pressed'):\n",
    "            emergency_stop()\n",
    "    elif (len(state_value) == 2):\n",
    "        if (state_value[0] == 'capacity_exceeded' and state_value[1] == 'emergency_button_pressed' or state_value[0] == 'emergency_button_pressed' and state_value[1] == 'capacity_exceeded'):\n",
    "            check_capacity()\n",
    "            emergency_stop()\n",
    "        elif (state_value[0] == 'calling_the_elevator' and state_value[1] == 'emergency_button_pressed' or state_value[0] == 'emergency_button_pressed' and state_value[1] == 'calling_the_elevator'):\n",
    "            floor_number = int(input(\"Enter Floor Number => \"))\n",
    "            move_to_floor(floor_number)\n",
    "            emergency_stop()\n",
    "            \n",
    "        elif (state_value[0] == 'calling_the_elevator' and state_value[1] == 'capacity_exceeded' or state_value[0] == 'capacity_exceeded' and state_value[1] == 'calling_the_elevator'):\n",
    "            floor_number = int(input(\"Enter Floor Number => \"))\n",
    "            move_to_floor(floor_number)\n",
    "            check_capacity()\n",
    "    elif (len(state_value) == 3):\n",
    "        floor_number = int(input(\"Enter Floor Number => \"))\n",
    "        move_to_floor(floor_number)\n",
    "        check_capacity()\n",
    "        emergency_stop()\n",
    "    else:\n",
    "        print(rules[3])\n",
    "        "
   ]
  },
  {
   "cell_type": "code",
   "execution_count": 3,
   "id": "7a28bd0a-ed64-4392-b54c-9c6e90f348c0",
   "metadata": {},
   "outputs": [],
   "source": [
    "def simpleReflex_Agent(visual_input_one, visual_input_two, visual_input_three):\n",
    "    getRules(getState(visual_input_one, visual_input_two, visual_input_three))"
   ]
  },
  {
   "cell_type": "code",
   "execution_count": 4,
   "id": "5f338097-a025-4553-b764-66d4aee575fb",
   "metadata": {},
   "outputs": [
    {
     "name": "stdin",
     "output_type": "stream",
     "text": [
      "Do You want to call the elevator [0/1] 0\n",
      "Is capacity of the elevator exceeded [0/1] 1\n",
      "Is Emergency Button pressed [0/1] 0\n"
     ]
    },
    {
     "name": "stdout",
     "output_type": "stream",
     "text": [
      "['capacity_exceeded']\n",
      "Check the passengers in the elevator\n"
     ]
    },
    {
     "name": "stdin",
     "output_type": "stream",
     "text": [
      "Do You want to call the elevator [0/1] 1\n",
      "Is capacity of the elevator exceeded [0/1] 0\n",
      "Is Emergency Button pressed [0/1] 0\n"
     ]
    },
    {
     "name": "stdout",
     "output_type": "stream",
     "text": [
      "['calling_the_elevator']\n"
     ]
    },
    {
     "name": "stdin",
     "output_type": "stream",
     "text": [
      "Enter Floor Number =>  5\n"
     ]
    },
    {
     "name": "stdout",
     "output_type": "stream",
     "text": [
      "Lift is coming to floor number =>  5\n"
     ]
    }
   ],
   "source": [
    "test = 0\n",
    "while(test < 2):\n",
    "    visual_input_one = bool(int(input(\"Do You want to call the elevator [0/1]\")))\n",
    "    visual_input_two = bool(int(input(\"Is capacity of the elevator exceeded [0/1]\")))\n",
    "    visual_input_three = bool(int(input(\"Is Emergency Button pressed [0/1]\")))\n",
    "    simpleReflex_Agent(visual_input_one, visual_input_two, visual_input_three)\n",
    "    test += 1"
   ]
  },
  {
   "cell_type": "markdown",
   "id": "1ffe4155-f58d-4356-a75d-41a633896f21",
   "metadata": {},
   "source": [
    "## Question NO 1"
   ]
  },
  {
   "cell_type": "code",
   "execution_count": 5,
   "id": "d65f4dfc-a33b-4411-9847-c87ce93e6296",
   "metadata": {},
   "outputs": [],
   "source": [
    "import pandas as pd\n",
    "import numpy as np\n",
    "import matplotlib.pyplot as plt\n",
    "from sklearn.preprocessing import LabelEncoder\n",
    "from sklearn.preprocessing import StandardScaler\n",
    "import seaborn as sns\n",
    "from sklearn.feature_selection import mutual_info_classif\n",
    "from sklearn.model_selection import train_test_split\n",
    "from sklearn.neural_network import MLPClassifier\n",
    "from sklearn.metrics import confusion_matrix, f1_score, accuracy_score, precision_score, recall_score"
   ]
  },
  {
   "cell_type": "code",
   "execution_count": 6,
   "id": "d808dcfe-6141-4f18-931b-533ae802d16d",
   "metadata": {},
   "outputs": [],
   "source": [
    "heart_dataset = pd.read_csv('AI_heart.csv')"
   ]
  },
  {
   "cell_type": "code",
   "execution_count": 7,
   "id": "05578a0e-1478-4b69-b088-f9b040f2266d",
   "metadata": {},
   "outputs": [
    {
     "data": {
      "text/html": [
       "<div>\n",
       "<style scoped>\n",
       "    .dataframe tbody tr th:only-of-type {\n",
       "        vertical-align: middle;\n",
       "    }\n",
       "\n",
       "    .dataframe tbody tr th {\n",
       "        vertical-align: top;\n",
       "    }\n",
       "\n",
       "    .dataframe thead th {\n",
       "        text-align: right;\n",
       "    }\n",
       "</style>\n",
       "<table border=\"1\" class=\"dataframe\">\n",
       "  <thead>\n",
       "    <tr style=\"text-align: right;\">\n",
       "      <th></th>\n",
       "      <th>age</th>\n",
       "      <th>sex</th>\n",
       "      <th>cp</th>\n",
       "      <th>trestbps</th>\n",
       "      <th>chol</th>\n",
       "      <th>fbs</th>\n",
       "      <th>restecg</th>\n",
       "      <th>thalach</th>\n",
       "      <th>exang</th>\n",
       "      <th>oldpeak</th>\n",
       "      <th>slope</th>\n",
       "      <th>ca</th>\n",
       "      <th>thal</th>\n",
       "      <th>target</th>\n",
       "    </tr>\n",
       "  </thead>\n",
       "  <tbody>\n",
       "    <tr>\n",
       "      <th>0</th>\n",
       "      <td>52.0</td>\n",
       "      <td>M</td>\n",
       "      <td>0</td>\n",
       "      <td>125</td>\n",
       "      <td>212</td>\n",
       "      <td>0</td>\n",
       "      <td>1</td>\n",
       "      <td>168</td>\n",
       "      <td>0</td>\n",
       "      <td>1.0</td>\n",
       "      <td>2</td>\n",
       "      <td>2</td>\n",
       "      <td>3</td>\n",
       "      <td>0</td>\n",
       "    </tr>\n",
       "    <tr>\n",
       "      <th>1</th>\n",
       "      <td>53.0</td>\n",
       "      <td>M</td>\n",
       "      <td>0</td>\n",
       "      <td>140</td>\n",
       "      <td>203</td>\n",
       "      <td>1</td>\n",
       "      <td>0</td>\n",
       "      <td>155</td>\n",
       "      <td>1</td>\n",
       "      <td>3.1</td>\n",
       "      <td>0</td>\n",
       "      <td>0</td>\n",
       "      <td>3</td>\n",
       "      <td>0</td>\n",
       "    </tr>\n",
       "    <tr>\n",
       "      <th>2</th>\n",
       "      <td>70.0</td>\n",
       "      <td>M</td>\n",
       "      <td>0</td>\n",
       "      <td>145</td>\n",
       "      <td>174</td>\n",
       "      <td>0</td>\n",
       "      <td>1</td>\n",
       "      <td>125</td>\n",
       "      <td>1</td>\n",
       "      <td>2.6</td>\n",
       "      <td>0</td>\n",
       "      <td>0</td>\n",
       "      <td>3</td>\n",
       "      <td>0</td>\n",
       "    </tr>\n",
       "    <tr>\n",
       "      <th>3</th>\n",
       "      <td>61.0</td>\n",
       "      <td>M</td>\n",
       "      <td>0</td>\n",
       "      <td>148</td>\n",
       "      <td>203</td>\n",
       "      <td>0</td>\n",
       "      <td>1</td>\n",
       "      <td>161</td>\n",
       "      <td>0</td>\n",
       "      <td>0.0</td>\n",
       "      <td>2</td>\n",
       "      <td>1</td>\n",
       "      <td>3</td>\n",
       "      <td>0</td>\n",
       "    </tr>\n",
       "    <tr>\n",
       "      <th>4</th>\n",
       "      <td>62.0</td>\n",
       "      <td>F</td>\n",
       "      <td>0</td>\n",
       "      <td>138</td>\n",
       "      <td>294</td>\n",
       "      <td>1</td>\n",
       "      <td>1</td>\n",
       "      <td>106</td>\n",
       "      <td>0</td>\n",
       "      <td>1.9</td>\n",
       "      <td>1</td>\n",
       "      <td>3</td>\n",
       "      <td>2</td>\n",
       "      <td>0</td>\n",
       "    </tr>\n",
       "  </tbody>\n",
       "</table>\n",
       "</div>"
      ],
      "text/plain": [
       "    age sex  cp  trestbps  chol  fbs  restecg  thalach  exang  oldpeak  slope  \\\n",
       "0  52.0   M   0       125   212    0        1      168      0      1.0      2   \n",
       "1  53.0   M   0       140   203    1        0      155      1      3.1      0   \n",
       "2  70.0   M   0       145   174    0        1      125      1      2.6      0   \n",
       "3  61.0   M   0       148   203    0        1      161      0      0.0      2   \n",
       "4  62.0   F   0       138   294    1        1      106      0      1.9      1   \n",
       "\n",
       "   ca  thal  target  \n",
       "0   2     3       0  \n",
       "1   0     3       0  \n",
       "2   0     3       0  \n",
       "3   1     3       0  \n",
       "4   3     2       0  "
      ]
     },
     "execution_count": 7,
     "metadata": {},
     "output_type": "execute_result"
    }
   ],
   "source": [
    "heart_dataset.head()"
   ]
  },
  {
   "cell_type": "code",
   "execution_count": 8,
   "id": "f5b3bd62-fee1-4cf3-9b3c-03c0007a279a",
   "metadata": {},
   "outputs": [
    {
     "data": {
      "text/plain": [
       "(1025, 14)"
      ]
     },
     "execution_count": 8,
     "metadata": {},
     "output_type": "execute_result"
    }
   ],
   "source": [
    "heart_dataset.shape"
   ]
  },
  {
   "cell_type": "code",
   "execution_count": 9,
   "id": "2703f0df-f032-4ff0-a625-d0f2036d10fe",
   "metadata": {},
   "outputs": [
    {
     "data": {
      "text/html": [
       "<div>\n",
       "<style scoped>\n",
       "    .dataframe tbody tr th:only-of-type {\n",
       "        vertical-align: middle;\n",
       "    }\n",
       "\n",
       "    .dataframe tbody tr th {\n",
       "        vertical-align: top;\n",
       "    }\n",
       "\n",
       "    .dataframe thead th {\n",
       "        text-align: right;\n",
       "    }\n",
       "</style>\n",
       "<table border=\"1\" class=\"dataframe\">\n",
       "  <thead>\n",
       "    <tr style=\"text-align: right;\">\n",
       "      <th></th>\n",
       "      <th>age</th>\n",
       "      <th>sex</th>\n",
       "      <th>cp</th>\n",
       "      <th>trestbps</th>\n",
       "      <th>chol</th>\n",
       "      <th>fbs</th>\n",
       "      <th>restecg</th>\n",
       "      <th>thalach</th>\n",
       "      <th>exang</th>\n",
       "      <th>oldpeak</th>\n",
       "      <th>slope</th>\n",
       "      <th>ca</th>\n",
       "      <th>thal</th>\n",
       "      <th>target</th>\n",
       "    </tr>\n",
       "  </thead>\n",
       "  <tbody>\n",
       "    <tr>\n",
       "      <th>1020</th>\n",
       "      <td>59.0</td>\n",
       "      <td>M</td>\n",
       "      <td>1</td>\n",
       "      <td>140</td>\n",
       "      <td>221</td>\n",
       "      <td>0</td>\n",
       "      <td>1</td>\n",
       "      <td>164</td>\n",
       "      <td>1</td>\n",
       "      <td>0.0</td>\n",
       "      <td>2</td>\n",
       "      <td>0</td>\n",
       "      <td>2</td>\n",
       "      <td>1</td>\n",
       "    </tr>\n",
       "    <tr>\n",
       "      <th>1021</th>\n",
       "      <td>60.0</td>\n",
       "      <td>M</td>\n",
       "      <td>0</td>\n",
       "      <td>125</td>\n",
       "      <td>258</td>\n",
       "      <td>0</td>\n",
       "      <td>0</td>\n",
       "      <td>141</td>\n",
       "      <td>1</td>\n",
       "      <td>2.8</td>\n",
       "      <td>1</td>\n",
       "      <td>1</td>\n",
       "      <td>3</td>\n",
       "      <td>0</td>\n",
       "    </tr>\n",
       "    <tr>\n",
       "      <th>1022</th>\n",
       "      <td>47.0</td>\n",
       "      <td>M</td>\n",
       "      <td>0</td>\n",
       "      <td>110</td>\n",
       "      <td>275</td>\n",
       "      <td>0</td>\n",
       "      <td>0</td>\n",
       "      <td>118</td>\n",
       "      <td>1</td>\n",
       "      <td>1.0</td>\n",
       "      <td>1</td>\n",
       "      <td>1</td>\n",
       "      <td>2</td>\n",
       "      <td>0</td>\n",
       "    </tr>\n",
       "    <tr>\n",
       "      <th>1023</th>\n",
       "      <td>50.0</td>\n",
       "      <td>F</td>\n",
       "      <td>0</td>\n",
       "      <td>110</td>\n",
       "      <td>254</td>\n",
       "      <td>0</td>\n",
       "      <td>0</td>\n",
       "      <td>159</td>\n",
       "      <td>0</td>\n",
       "      <td>0.0</td>\n",
       "      <td>2</td>\n",
       "      <td>0</td>\n",
       "      <td>2</td>\n",
       "      <td>1</td>\n",
       "    </tr>\n",
       "    <tr>\n",
       "      <th>1024</th>\n",
       "      <td>NaN</td>\n",
       "      <td>M</td>\n",
       "      <td>0</td>\n",
       "      <td>120</td>\n",
       "      <td>188</td>\n",
       "      <td>0</td>\n",
       "      <td>1</td>\n",
       "      <td>113</td>\n",
       "      <td>0</td>\n",
       "      <td>1.4</td>\n",
       "      <td>1</td>\n",
       "      <td>1</td>\n",
       "      <td>3</td>\n",
       "      <td>0</td>\n",
       "    </tr>\n",
       "  </tbody>\n",
       "</table>\n",
       "</div>"
      ],
      "text/plain": [
       "       age sex  cp  trestbps  chol  fbs  restecg  thalach  exang  oldpeak  \\\n",
       "1020  59.0   M   1       140   221    0        1      164      1      0.0   \n",
       "1021  60.0   M   0       125   258    0        0      141      1      2.8   \n",
       "1022  47.0   M   0       110   275    0        0      118      1      1.0   \n",
       "1023  50.0   F   0       110   254    0        0      159      0      0.0   \n",
       "1024   NaN   M   0       120   188    0        1      113      0      1.4   \n",
       "\n",
       "      slope  ca  thal  target  \n",
       "1020      2   0     2       1  \n",
       "1021      1   1     3       0  \n",
       "1022      1   1     2       0  \n",
       "1023      2   0     2       1  \n",
       "1024      1   1     3       0  "
      ]
     },
     "execution_count": 9,
     "metadata": {},
     "output_type": "execute_result"
    }
   ],
   "source": [
    "heart_dataset.tail()"
   ]
  },
  {
   "cell_type": "code",
   "execution_count": 10,
   "id": "d3df37ea-a359-47b9-b70e-24b00100702a",
   "metadata": {},
   "outputs": [
    {
     "name": "stdout",
     "output_type": "stream",
     "text": [
      "<class 'pandas.core.frame.DataFrame'>\n",
      "RangeIndex: 1025 entries, 0 to 1024\n",
      "Data columns (total 14 columns):\n",
      " #   Column    Non-Null Count  Dtype  \n",
      "---  ------    --------------  -----  \n",
      " 0   age       923 non-null    float64\n",
      " 1   sex       1025 non-null   object \n",
      " 2   cp        1025 non-null   int64  \n",
      " 3   trestbps  1025 non-null   int64  \n",
      " 4   chol      1025 non-null   int64  \n",
      " 5   fbs       1025 non-null   int64  \n",
      " 6   restecg   1025 non-null   int64  \n",
      " 7   thalach   1025 non-null   int64  \n",
      " 8   exang     1025 non-null   int64  \n",
      " 9   oldpeak   1025 non-null   float64\n",
      " 10  slope     1025 non-null   int64  \n",
      " 11  ca        1025 non-null   int64  \n",
      " 12  thal      1025 non-null   int64  \n",
      " 13  target    1025 non-null   int64  \n",
      "dtypes: float64(2), int64(11), object(1)\n",
      "memory usage: 112.2+ KB\n"
     ]
    }
   ],
   "source": [
    "heart_dataset.info()"
   ]
  },
  {
   "cell_type": "code",
   "execution_count": 11,
   "id": "ffcdb335-152f-4bb2-9785-e74ec90e4b47",
   "metadata": {},
   "outputs": [
    {
     "data": {
      "text/html": [
       "<div>\n",
       "<style scoped>\n",
       "    .dataframe tbody tr th:only-of-type {\n",
       "        vertical-align: middle;\n",
       "    }\n",
       "\n",
       "    .dataframe tbody tr th {\n",
       "        vertical-align: top;\n",
       "    }\n",
       "\n",
       "    .dataframe thead th {\n",
       "        text-align: right;\n",
       "    }\n",
       "</style>\n",
       "<table border=\"1\" class=\"dataframe\">\n",
       "  <thead>\n",
       "    <tr style=\"text-align: right;\">\n",
       "      <th></th>\n",
       "      <th>age</th>\n",
       "      <th>cp</th>\n",
       "      <th>trestbps</th>\n",
       "      <th>chol</th>\n",
       "      <th>fbs</th>\n",
       "      <th>restecg</th>\n",
       "      <th>thalach</th>\n",
       "      <th>exang</th>\n",
       "      <th>oldpeak</th>\n",
       "      <th>slope</th>\n",
       "      <th>ca</th>\n",
       "      <th>thal</th>\n",
       "      <th>target</th>\n",
       "    </tr>\n",
       "  </thead>\n",
       "  <tbody>\n",
       "    <tr>\n",
       "      <th>count</th>\n",
       "      <td>923.00000</td>\n",
       "      <td>1025.000000</td>\n",
       "      <td>1025.000000</td>\n",
       "      <td>1025.00000</td>\n",
       "      <td>1025.000000</td>\n",
       "      <td>1025.000000</td>\n",
       "      <td>1025.000000</td>\n",
       "      <td>1025.000000</td>\n",
       "      <td>1025.000000</td>\n",
       "      <td>1025.000000</td>\n",
       "      <td>1025.000000</td>\n",
       "      <td>1025.000000</td>\n",
       "      <td>1025.000000</td>\n",
       "    </tr>\n",
       "    <tr>\n",
       "      <th>mean</th>\n",
       "      <td>54.52221</td>\n",
       "      <td>0.942439</td>\n",
       "      <td>131.611707</td>\n",
       "      <td>246.00000</td>\n",
       "      <td>0.149268</td>\n",
       "      <td>0.529756</td>\n",
       "      <td>149.114146</td>\n",
       "      <td>0.336585</td>\n",
       "      <td>1.071512</td>\n",
       "      <td>1.385366</td>\n",
       "      <td>0.754146</td>\n",
       "      <td>2.323902</td>\n",
       "      <td>0.513171</td>\n",
       "    </tr>\n",
       "    <tr>\n",
       "      <th>std</th>\n",
       "      <td>9.11771</td>\n",
       "      <td>1.029641</td>\n",
       "      <td>17.516718</td>\n",
       "      <td>51.59251</td>\n",
       "      <td>0.356527</td>\n",
       "      <td>0.527878</td>\n",
       "      <td>23.005724</td>\n",
       "      <td>0.472772</td>\n",
       "      <td>1.175053</td>\n",
       "      <td>0.617755</td>\n",
       "      <td>1.030798</td>\n",
       "      <td>0.620660</td>\n",
       "      <td>0.500070</td>\n",
       "    </tr>\n",
       "    <tr>\n",
       "      <th>min</th>\n",
       "      <td>29.00000</td>\n",
       "      <td>0.000000</td>\n",
       "      <td>94.000000</td>\n",
       "      <td>126.00000</td>\n",
       "      <td>0.000000</td>\n",
       "      <td>0.000000</td>\n",
       "      <td>71.000000</td>\n",
       "      <td>0.000000</td>\n",
       "      <td>0.000000</td>\n",
       "      <td>0.000000</td>\n",
       "      <td>0.000000</td>\n",
       "      <td>0.000000</td>\n",
       "      <td>0.000000</td>\n",
       "    </tr>\n",
       "    <tr>\n",
       "      <th>25%</th>\n",
       "      <td>48.00000</td>\n",
       "      <td>0.000000</td>\n",
       "      <td>120.000000</td>\n",
       "      <td>211.00000</td>\n",
       "      <td>0.000000</td>\n",
       "      <td>0.000000</td>\n",
       "      <td>132.000000</td>\n",
       "      <td>0.000000</td>\n",
       "      <td>0.000000</td>\n",
       "      <td>1.000000</td>\n",
       "      <td>0.000000</td>\n",
       "      <td>2.000000</td>\n",
       "      <td>0.000000</td>\n",
       "    </tr>\n",
       "    <tr>\n",
       "      <th>50%</th>\n",
       "      <td>56.00000</td>\n",
       "      <td>1.000000</td>\n",
       "      <td>130.000000</td>\n",
       "      <td>240.00000</td>\n",
       "      <td>0.000000</td>\n",
       "      <td>1.000000</td>\n",
       "      <td>152.000000</td>\n",
       "      <td>0.000000</td>\n",
       "      <td>0.800000</td>\n",
       "      <td>1.000000</td>\n",
       "      <td>0.000000</td>\n",
       "      <td>2.000000</td>\n",
       "      <td>1.000000</td>\n",
       "    </tr>\n",
       "    <tr>\n",
       "      <th>75%</th>\n",
       "      <td>61.00000</td>\n",
       "      <td>2.000000</td>\n",
       "      <td>140.000000</td>\n",
       "      <td>275.00000</td>\n",
       "      <td>0.000000</td>\n",
       "      <td>1.000000</td>\n",
       "      <td>166.000000</td>\n",
       "      <td>1.000000</td>\n",
       "      <td>1.800000</td>\n",
       "      <td>2.000000</td>\n",
       "      <td>1.000000</td>\n",
       "      <td>3.000000</td>\n",
       "      <td>1.000000</td>\n",
       "    </tr>\n",
       "    <tr>\n",
       "      <th>max</th>\n",
       "      <td>77.00000</td>\n",
       "      <td>3.000000</td>\n",
       "      <td>200.000000</td>\n",
       "      <td>564.00000</td>\n",
       "      <td>1.000000</td>\n",
       "      <td>2.000000</td>\n",
       "      <td>202.000000</td>\n",
       "      <td>1.000000</td>\n",
       "      <td>6.200000</td>\n",
       "      <td>2.000000</td>\n",
       "      <td>4.000000</td>\n",
       "      <td>3.000000</td>\n",
       "      <td>1.000000</td>\n",
       "    </tr>\n",
       "  </tbody>\n",
       "</table>\n",
       "</div>"
      ],
      "text/plain": [
       "             age           cp     trestbps        chol          fbs  \\\n",
       "count  923.00000  1025.000000  1025.000000  1025.00000  1025.000000   \n",
       "mean    54.52221     0.942439   131.611707   246.00000     0.149268   \n",
       "std      9.11771     1.029641    17.516718    51.59251     0.356527   \n",
       "min     29.00000     0.000000    94.000000   126.00000     0.000000   \n",
       "25%     48.00000     0.000000   120.000000   211.00000     0.000000   \n",
       "50%     56.00000     1.000000   130.000000   240.00000     0.000000   \n",
       "75%     61.00000     2.000000   140.000000   275.00000     0.000000   \n",
       "max     77.00000     3.000000   200.000000   564.00000     1.000000   \n",
       "\n",
       "           restecg      thalach        exang      oldpeak        slope  \\\n",
       "count  1025.000000  1025.000000  1025.000000  1025.000000  1025.000000   \n",
       "mean      0.529756   149.114146     0.336585     1.071512     1.385366   \n",
       "std       0.527878    23.005724     0.472772     1.175053     0.617755   \n",
       "min       0.000000    71.000000     0.000000     0.000000     0.000000   \n",
       "25%       0.000000   132.000000     0.000000     0.000000     1.000000   \n",
       "50%       1.000000   152.000000     0.000000     0.800000     1.000000   \n",
       "75%       1.000000   166.000000     1.000000     1.800000     2.000000   \n",
       "max       2.000000   202.000000     1.000000     6.200000     2.000000   \n",
       "\n",
       "                ca         thal       target  \n",
       "count  1025.000000  1025.000000  1025.000000  \n",
       "mean      0.754146     2.323902     0.513171  \n",
       "std       1.030798     0.620660     0.500070  \n",
       "min       0.000000     0.000000     0.000000  \n",
       "25%       0.000000     2.000000     0.000000  \n",
       "50%       0.000000     2.000000     1.000000  \n",
       "75%       1.000000     3.000000     1.000000  \n",
       "max       4.000000     3.000000     1.000000  "
      ]
     },
     "execution_count": 11,
     "metadata": {},
     "output_type": "execute_result"
    }
   ],
   "source": [
    "heart_dataset.describe()"
   ]
  },
  {
   "cell_type": "code",
   "execution_count": 12,
   "id": "d8f789c7-bfff-454e-8045-a32c1a23e69c",
   "metadata": {},
   "outputs": [],
   "source": [
    "### Data Visualization"
   ]
  },
  {
   "cell_type": "code",
   "execution_count": 13,
   "id": "501f8c34-5a85-49bc-bd15-4922e8f12ae3",
   "metadata": {},
   "outputs": [
    {
     "data": {
      "text/html": [
       "<div>\n",
       "<style scoped>\n",
       "    .dataframe tbody tr th:only-of-type {\n",
       "        vertical-align: middle;\n",
       "    }\n",
       "\n",
       "    .dataframe tbody tr th {\n",
       "        vertical-align: top;\n",
       "    }\n",
       "\n",
       "    .dataframe thead th {\n",
       "        text-align: right;\n",
       "    }\n",
       "</style>\n",
       "<table border=\"1\" class=\"dataframe\">\n",
       "  <thead>\n",
       "    <tr style=\"text-align: right;\">\n",
       "      <th></th>\n",
       "      <th>age</th>\n",
       "      <th>sex</th>\n",
       "      <th>cp</th>\n",
       "      <th>trestbps</th>\n",
       "      <th>chol</th>\n",
       "      <th>fbs</th>\n",
       "      <th>restecg</th>\n",
       "      <th>thalach</th>\n",
       "      <th>exang</th>\n",
       "      <th>oldpeak</th>\n",
       "      <th>slope</th>\n",
       "      <th>ca</th>\n",
       "      <th>thal</th>\n",
       "      <th>target</th>\n",
       "    </tr>\n",
       "  </thead>\n",
       "  <tbody>\n",
       "    <tr>\n",
       "      <th>0</th>\n",
       "      <td>52.0</td>\n",
       "      <td>M</td>\n",
       "      <td>0</td>\n",
       "      <td>125</td>\n",
       "      <td>212</td>\n",
       "      <td>0</td>\n",
       "      <td>1</td>\n",
       "      <td>168</td>\n",
       "      <td>0</td>\n",
       "      <td>1.0</td>\n",
       "      <td>2</td>\n",
       "      <td>2</td>\n",
       "      <td>3</td>\n",
       "      <td>0</td>\n",
       "    </tr>\n",
       "    <tr>\n",
       "      <th>1</th>\n",
       "      <td>53.0</td>\n",
       "      <td>M</td>\n",
       "      <td>0</td>\n",
       "      <td>140</td>\n",
       "      <td>203</td>\n",
       "      <td>1</td>\n",
       "      <td>0</td>\n",
       "      <td>155</td>\n",
       "      <td>1</td>\n",
       "      <td>3.1</td>\n",
       "      <td>0</td>\n",
       "      <td>0</td>\n",
       "      <td>3</td>\n",
       "      <td>0</td>\n",
       "    </tr>\n",
       "    <tr>\n",
       "      <th>2</th>\n",
       "      <td>70.0</td>\n",
       "      <td>M</td>\n",
       "      <td>0</td>\n",
       "      <td>145</td>\n",
       "      <td>174</td>\n",
       "      <td>0</td>\n",
       "      <td>1</td>\n",
       "      <td>125</td>\n",
       "      <td>1</td>\n",
       "      <td>2.6</td>\n",
       "      <td>0</td>\n",
       "      <td>0</td>\n",
       "      <td>3</td>\n",
       "      <td>0</td>\n",
       "    </tr>\n",
       "    <tr>\n",
       "      <th>3</th>\n",
       "      <td>61.0</td>\n",
       "      <td>M</td>\n",
       "      <td>0</td>\n",
       "      <td>148</td>\n",
       "      <td>203</td>\n",
       "      <td>0</td>\n",
       "      <td>1</td>\n",
       "      <td>161</td>\n",
       "      <td>0</td>\n",
       "      <td>0.0</td>\n",
       "      <td>2</td>\n",
       "      <td>1</td>\n",
       "      <td>3</td>\n",
       "      <td>0</td>\n",
       "    </tr>\n",
       "    <tr>\n",
       "      <th>4</th>\n",
       "      <td>62.0</td>\n",
       "      <td>F</td>\n",
       "      <td>0</td>\n",
       "      <td>138</td>\n",
       "      <td>294</td>\n",
       "      <td>1</td>\n",
       "      <td>1</td>\n",
       "      <td>106</td>\n",
       "      <td>0</td>\n",
       "      <td>1.9</td>\n",
       "      <td>1</td>\n",
       "      <td>3</td>\n",
       "      <td>2</td>\n",
       "      <td>0</td>\n",
       "    </tr>\n",
       "  </tbody>\n",
       "</table>\n",
       "</div>"
      ],
      "text/plain": [
       "    age sex  cp  trestbps  chol  fbs  restecg  thalach  exang  oldpeak  slope  \\\n",
       "0  52.0   M   0       125   212    0        1      168      0      1.0      2   \n",
       "1  53.0   M   0       140   203    1        0      155      1      3.1      0   \n",
       "2  70.0   M   0       145   174    0        1      125      1      2.6      0   \n",
       "3  61.0   M   0       148   203    0        1      161      0      0.0      2   \n",
       "4  62.0   F   0       138   294    1        1      106      0      1.9      1   \n",
       "\n",
       "   ca  thal  target  \n",
       "0   2     3       0  \n",
       "1   0     3       0  \n",
       "2   0     3       0  \n",
       "3   1     3       0  \n",
       "4   3     2       0  "
      ]
     },
     "execution_count": 13,
     "metadata": {},
     "output_type": "execute_result"
    }
   ],
   "source": [
    "heart_dataset.head()"
   ]
  },
  {
   "cell_type": "code",
   "execution_count": 14,
   "id": "9128345a-edcc-4cef-bf0b-f9128ad538bc",
   "metadata": {},
   "outputs": [],
   "source": [
    "target_count = heart_dataset['target'].value_counts()"
   ]
  },
  {
   "cell_type": "code",
   "execution_count": 15,
   "id": "3f3669b0-1ee1-4e57-bbdd-e87d31a8239c",
   "metadata": {},
   "outputs": [],
   "source": [
    "colors = ['green', 'blue']"
   ]
  },
  {
   "cell_type": "code",
   "execution_count": 16,
   "id": "bbff1876-14cb-49dd-95ea-65828ce962c5",
   "metadata": {},
   "outputs": [
    {
     "data": {
      "text/plain": [
       "Text(0, 0.5, 'Target Frequency')"
      ]
     },
     "execution_count": 16,
     "metadata": {},
     "output_type": "execute_result"
    },
    {
     "data": {
      "image/png": "[encoded data removed]",
      "text/plain": [
       "<Figure size 720x720 with 1 Axes>"
      ]
     },
     "metadata": {
      "needs_background": "light"
     },
     "output_type": "display_data"
    }
   ],
   "source": [
    "fig = plt.figure(figsize=(10,10))\n",
    "plt.bar(target_count.index, target_count.values, color=colors)\n",
    "\n",
    "plt.title('Target Frequecies')\n",
    "plt.xlabel('Target')\n",
    "plt.ylabel('Target Frequency')"
   ]
  },
  {
   "cell_type": "markdown",
   "id": "0ff72396-ab37-49a4-a5b8-11bf2c1f895b",
   "metadata": {},
   "source": [
    "### Inference:\n",
    "1. The dataset shows that there are data values in which the person has heart failure"
   ]
  },
  {
   "cell_type": "code",
   "execution_count": 17,
   "id": "e6213a78-4504-40bb-9405-6f719a7005f6",
   "metadata": {},
   "outputs": [],
   "source": [
    "gender_count = heart_dataset['sex'].value_counts()"
   ]
  },
  {
   "cell_type": "code",
   "execution_count": 18,
   "id": "9f7aebbe-f3bb-4f02-bcb4-c4e753574d55",
   "metadata": {},
   "outputs": [
    {
     "data": {
      "text/plain": [
       "Text(0, 0.5, 'Target Frequency')"
      ]
     },
     "execution_count": 18,
     "metadata": {},
     "output_type": "execute_result"
    },
    {
     "data": {
      "image/png": "[encoded data removed]",
      "text/plain": [
       "<Figure size 720x720 with 1 Axes>"
      ]
     },
     "metadata": {
      "needs_background": "light"
     },
     "output_type": "display_data"
    }
   ],
   "source": [
    "fig = plt.figure(figsize=(10,10))\n",
    "plt.bar(gender_count.index, gender_count.values, color=colors)\n",
    "\n",
    "plt.title('Target Frequecies')\n",
    "plt.xlabel('Target')\n",
    "plt.ylabel('Target Frequency')"
   ]
  },
  {
   "cell_type": "code",
   "execution_count": 19,
   "id": "6a8ffdcd-ae07-4a2e-90ff-43c5ede3ceb7",
   "metadata": {},
   "outputs": [
    {
     "data": {
      "text/html": [
       "<div>\n",
       "<style scoped>\n",
       "    .dataframe tbody tr th:only-of-type {\n",
       "        vertical-align: middle;\n",
       "    }\n",
       "\n",
       "    .dataframe tbody tr th {\n",
       "        vertical-align: top;\n",
       "    }\n",
       "\n",
       "    .dataframe thead th {\n",
       "        text-align: right;\n",
       "    }\n",
       "</style>\n",
       "<table border=\"1\" class=\"dataframe\">\n",
       "  <thead>\n",
       "    <tr style=\"text-align: right;\">\n",
       "      <th></th>\n",
       "      <th>age</th>\n",
       "      <th>sex</th>\n",
       "      <th>cp</th>\n",
       "      <th>trestbps</th>\n",
       "      <th>chol</th>\n",
       "      <th>fbs</th>\n",
       "      <th>restecg</th>\n",
       "      <th>thalach</th>\n",
       "      <th>exang</th>\n",
       "      <th>oldpeak</th>\n",
       "      <th>slope</th>\n",
       "      <th>ca</th>\n",
       "      <th>thal</th>\n",
       "      <th>target</th>\n",
       "    </tr>\n",
       "  </thead>\n",
       "  <tbody>\n",
       "    <tr>\n",
       "      <th>0</th>\n",
       "      <td>52.0</td>\n",
       "      <td>M</td>\n",
       "      <td>0</td>\n",
       "      <td>125</td>\n",
       "      <td>212</td>\n",
       "      <td>0</td>\n",
       "      <td>1</td>\n",
       "      <td>168</td>\n",
       "      <td>0</td>\n",
       "      <td>1.0</td>\n",
       "      <td>2</td>\n",
       "      <td>2</td>\n",
       "      <td>3</td>\n",
       "      <td>0</td>\n",
       "    </tr>\n",
       "    <tr>\n",
       "      <th>1</th>\n",
       "      <td>53.0</td>\n",
       "      <td>M</td>\n",
       "      <td>0</td>\n",
       "      <td>140</td>\n",
       "      <td>203</td>\n",
       "      <td>1</td>\n",
       "      <td>0</td>\n",
       "      <td>155</td>\n",
       "      <td>1</td>\n",
       "      <td>3.1</td>\n",
       "      <td>0</td>\n",
       "      <td>0</td>\n",
       "      <td>3</td>\n",
       "      <td>0</td>\n",
       "    </tr>\n",
       "    <tr>\n",
       "      <th>2</th>\n",
       "      <td>70.0</td>\n",
       "      <td>M</td>\n",
       "      <td>0</td>\n",
       "      <td>145</td>\n",
       "      <td>174</td>\n",
       "      <td>0</td>\n",
       "      <td>1</td>\n",
       "      <td>125</td>\n",
       "      <td>1</td>\n",
       "      <td>2.6</td>\n",
       "      <td>0</td>\n",
       "      <td>0</td>\n",
       "      <td>3</td>\n",
       "      <td>0</td>\n",
       "    </tr>\n",
       "    <tr>\n",
       "      <th>3</th>\n",
       "      <td>61.0</td>\n",
       "      <td>M</td>\n",
       "      <td>0</td>\n",
       "      <td>148</td>\n",
       "      <td>203</td>\n",
       "      <td>0</td>\n",
       "      <td>1</td>\n",
       "      <td>161</td>\n",
       "      <td>0</td>\n",
       "      <td>0.0</td>\n",
       "      <td>2</td>\n",
       "      <td>1</td>\n",
       "      <td>3</td>\n",
       "      <td>0</td>\n",
       "    </tr>\n",
       "    <tr>\n",
       "      <th>4</th>\n",
       "      <td>62.0</td>\n",
       "      <td>F</td>\n",
       "      <td>0</td>\n",
       "      <td>138</td>\n",
       "      <td>294</td>\n",
       "      <td>1</td>\n",
       "      <td>1</td>\n",
       "      <td>106</td>\n",
       "      <td>0</td>\n",
       "      <td>1.9</td>\n",
       "      <td>1</td>\n",
       "      <td>3</td>\n",
       "      <td>2</td>\n",
       "      <td>0</td>\n",
       "    </tr>\n",
       "  </tbody>\n",
       "</table>\n",
       "</div>"
      ],
      "text/plain": [
       "    age sex  cp  trestbps  chol  fbs  restecg  thalach  exang  oldpeak  slope  \\\n",
       "0  52.0   M   0       125   212    0        1      168      0      1.0      2   \n",
       "1  53.0   M   0       140   203    1        0      155      1      3.1      0   \n",
       "2  70.0   M   0       145   174    0        1      125      1      2.6      0   \n",
       "3  61.0   M   0       148   203    0        1      161      0      0.0      2   \n",
       "4  62.0   F   0       138   294    1        1      106      0      1.9      1   \n",
       "\n",
       "   ca  thal  target  \n",
       "0   2     3       0  \n",
       "1   0     3       0  \n",
       "2   0     3       0  \n",
       "3   1     3       0  \n",
       "4   3     2       0  "
      ]
     },
     "execution_count": 19,
     "metadata": {},
     "output_type": "execute_result"
    }
   ],
   "source": [
    "heart_dataset.head()"
   ]
  },
  {
   "cell_type": "code",
   "execution_count": 20,
   "id": "a77b39ea-5eee-49bf-a83b-b81aec447316",
   "metadata": {},
   "outputs": [],
   "source": [
    "label_encoder = LabelEncoder()"
   ]
  },
  {
   "cell_type": "code",
   "execution_count": 21,
   "id": "aeb63e73-8a6f-4088-8822-0fe800bf9776",
   "metadata": {},
   "outputs": [],
   "source": [
    "heart_dataset['sex'] = label_encoder.fit_transform(heart_dataset['sex'])"
   ]
  },
  {
   "cell_type": "code",
   "execution_count": 22,
   "id": "64f83c69-6a20-495b-afc1-0fb41e3591ef",
   "metadata": {},
   "outputs": [
    {
     "data": {
      "text/html": [
       "<div>\n",
       "<style scoped>\n",
       "    .dataframe tbody tr th:only-of-type {\n",
       "        vertical-align: middle;\n",
       "    }\n",
       "\n",
       "    .dataframe tbody tr th {\n",
       "        vertical-align: top;\n",
       "    }\n",
       "\n",
       "    .dataframe thead th {\n",
       "        text-align: right;\n",
       "    }\n",
       "</style>\n",
       "<table border=\"1\" class=\"dataframe\">\n",
       "  <thead>\n",
       "    <tr style=\"text-align: right;\">\n",
       "      <th></th>\n",
       "      <th>age</th>\n",
       "      <th>sex</th>\n",
       "      <th>cp</th>\n",
       "      <th>trestbps</th>\n",
       "      <th>chol</th>\n",
       "      <th>fbs</th>\n",
       "      <th>restecg</th>\n",
       "      <th>thalach</th>\n",
       "      <th>exang</th>\n",
       "      <th>oldpeak</th>\n",
       "      <th>slope</th>\n",
       "      <th>ca</th>\n",
       "      <th>thal</th>\n",
       "      <th>target</th>\n",
       "    </tr>\n",
       "  </thead>\n",
       "  <tbody>\n",
       "    <tr>\n",
       "      <th>0</th>\n",
       "      <td>52.0</td>\n",
       "      <td>1</td>\n",
       "      <td>0</td>\n",
       "      <td>125</td>\n",
       "      <td>212</td>\n",
       "      <td>0</td>\n",
       "      <td>1</td>\n",
       "      <td>168</td>\n",
       "      <td>0</td>\n",
       "      <td>1.0</td>\n",
       "      <td>2</td>\n",
       "      <td>2</td>\n",
       "      <td>3</td>\n",
       "      <td>0</td>\n",
       "    </tr>\n",
       "    <tr>\n",
       "      <th>1</th>\n",
       "      <td>53.0</td>\n",
       "      <td>1</td>\n",
       "      <td>0</td>\n",
       "      <td>140</td>\n",
       "      <td>203</td>\n",
       "      <td>1</td>\n",
       "      <td>0</td>\n",
       "      <td>155</td>\n",
       "      <td>1</td>\n",
       "      <td>3.1</td>\n",
       "      <td>0</td>\n",
       "      <td>0</td>\n",
       "      <td>3</td>\n",
       "      <td>0</td>\n",
       "    </tr>\n",
       "    <tr>\n",
       "      <th>2</th>\n",
       "      <td>70.0</td>\n",
       "      <td>1</td>\n",
       "      <td>0</td>\n",
       "      <td>145</td>\n",
       "      <td>174</td>\n",
       "      <td>0</td>\n",
       "      <td>1</td>\n",
       "      <td>125</td>\n",
       "      <td>1</td>\n",
       "      <td>2.6</td>\n",
       "      <td>0</td>\n",
       "      <td>0</td>\n",
       "      <td>3</td>\n",
       "      <td>0</td>\n",
       "    </tr>\n",
       "    <tr>\n",
       "      <th>3</th>\n",
       "      <td>61.0</td>\n",
       "      <td>1</td>\n",
       "      <td>0</td>\n",
       "      <td>148</td>\n",
       "      <td>203</td>\n",
       "      <td>0</td>\n",
       "      <td>1</td>\n",
       "      <td>161</td>\n",
       "      <td>0</td>\n",
       "      <td>0.0</td>\n",
       "      <td>2</td>\n",
       "      <td>1</td>\n",
       "      <td>3</td>\n",
       "      <td>0</td>\n",
       "    </tr>\n",
       "    <tr>\n",
       "      <th>4</th>\n",
       "      <td>62.0</td>\n",
       "      <td>0</td>\n",
       "      <td>0</td>\n",
       "      <td>138</td>\n",
       "      <td>294</td>\n",
       "      <td>1</td>\n",
       "      <td>1</td>\n",
       "      <td>106</td>\n",
       "      <td>0</td>\n",
       "      <td>1.9</td>\n",
       "      <td>1</td>\n",
       "      <td>3</td>\n",
       "      <td>2</td>\n",
       "      <td>0</td>\n",
       "    </tr>\n",
       "  </tbody>\n",
       "</table>\n",
       "</div>"
      ],
      "text/plain": [
       "    age  sex  cp  trestbps  chol  fbs  restecg  thalach  exang  oldpeak  \\\n",
       "0  52.0    1   0       125   212    0        1      168      0      1.0   \n",
       "1  53.0    1   0       140   203    1        0      155      1      3.1   \n",
       "2  70.0    1   0       145   174    0        1      125      1      2.6   \n",
       "3  61.0    1   0       148   203    0        1      161      0      0.0   \n",
       "4  62.0    0   0       138   294    1        1      106      0      1.9   \n",
       "\n",
       "   slope  ca  thal  target  \n",
       "0      2   2     3       0  \n",
       "1      0   0     3       0  \n",
       "2      0   0     3       0  \n",
       "3      2   1     3       0  \n",
       "4      1   3     2       0  "
      ]
     },
     "execution_count": 22,
     "metadata": {},
     "output_type": "execute_result"
    }
   ],
   "source": [
    "heart_dataset.head()"
   ]
  },
  {
   "cell_type": "code",
   "execution_count": 23,
   "id": "d70854d1-7aae-48cc-91db-f55f83ba27ee",
   "metadata": {},
   "outputs": [],
   "source": [
    "scalar = StandardScaler()"
   ]
  },
  {
   "cell_type": "code",
   "execution_count": 24,
   "id": "d3ae9cbe-f18d-4dbf-86cc-6deeff349c98",
   "metadata": {},
   "outputs": [
    {
     "data": {
      "text/html": [
       "<div>\n",
       "<style scoped>\n",
       "    .dataframe tbody tr th:only-of-type {\n",
       "        vertical-align: middle;\n",
       "    }\n",
       "\n",
       "    .dataframe tbody tr th {\n",
       "        vertical-align: top;\n",
       "    }\n",
       "\n",
       "    .dataframe thead th {\n",
       "        text-align: right;\n",
       "    }\n",
       "</style>\n",
       "<table border=\"1\" class=\"dataframe\">\n",
       "  <thead>\n",
       "    <tr style=\"text-align: right;\">\n",
       "      <th></th>\n",
       "      <th>age</th>\n",
       "      <th>sex</th>\n",
       "      <th>cp</th>\n",
       "      <th>trestbps</th>\n",
       "      <th>chol</th>\n",
       "      <th>fbs</th>\n",
       "      <th>restecg</th>\n",
       "      <th>thalach</th>\n",
       "      <th>exang</th>\n",
       "      <th>oldpeak</th>\n",
       "      <th>slope</th>\n",
       "      <th>ca</th>\n",
       "      <th>thal</th>\n",
       "      <th>target</th>\n",
       "    </tr>\n",
       "  </thead>\n",
       "  <tbody>\n",
       "    <tr>\n",
       "      <th>count</th>\n",
       "      <td>923.00000</td>\n",
       "      <td>1025.000000</td>\n",
       "      <td>1025.000000</td>\n",
       "      <td>1025.000000</td>\n",
       "      <td>1025.00000</td>\n",
       "      <td>1025.000000</td>\n",
       "      <td>1025.000000</td>\n",
       "      <td>1025.000000</td>\n",
       "      <td>1025.000000</td>\n",
       "      <td>1025.000000</td>\n",
       "      <td>1025.000000</td>\n",
       "      <td>1025.000000</td>\n",
       "      <td>1025.000000</td>\n",
       "      <td>1025.000000</td>\n",
       "    </tr>\n",
       "    <tr>\n",
       "      <th>mean</th>\n",
       "      <td>54.52221</td>\n",
       "      <td>0.695610</td>\n",
       "      <td>0.942439</td>\n",
       "      <td>131.611707</td>\n",
       "      <td>246.00000</td>\n",
       "      <td>0.149268</td>\n",
       "      <td>0.529756</td>\n",
       "      <td>149.114146</td>\n",
       "      <td>0.336585</td>\n",
       "      <td>1.071512</td>\n",
       "      <td>1.385366</td>\n",
       "      <td>0.754146</td>\n",
       "      <td>2.323902</td>\n",
       "      <td>0.513171</td>\n",
       "    </tr>\n",
       "    <tr>\n",
       "      <th>std</th>\n",
       "      <td>9.11771</td>\n",
       "      <td>0.460373</td>\n",
       "      <td>1.029641</td>\n",
       "      <td>17.516718</td>\n",
       "      <td>51.59251</td>\n",
       "      <td>0.356527</td>\n",
       "      <td>0.527878</td>\n",
       "      <td>23.005724</td>\n",
       "      <td>0.472772</td>\n",
       "      <td>1.175053</td>\n",
       "      <td>0.617755</td>\n",
       "      <td>1.030798</td>\n",
       "      <td>0.620660</td>\n",
       "      <td>0.500070</td>\n",
       "    </tr>\n",
       "    <tr>\n",
       "      <th>min</th>\n",
       "      <td>29.00000</td>\n",
       "      <td>0.000000</td>\n",
       "      <td>0.000000</td>\n",
       "      <td>94.000000</td>\n",
       "      <td>126.00000</td>\n",
       "      <td>0.000000</td>\n",
       "      <td>0.000000</td>\n",
       "      <td>71.000000</td>\n",
       "      <td>0.000000</td>\n",
       "      <td>0.000000</td>\n",
       "      <td>0.000000</td>\n",
       "      <td>0.000000</td>\n",
       "      <td>0.000000</td>\n",
       "      <td>0.000000</td>\n",
       "    </tr>\n",
       "    <tr>\n",
       "      <th>25%</th>\n",
       "      <td>48.00000</td>\n",
       "      <td>0.000000</td>\n",
       "      <td>0.000000</td>\n",
       "      <td>120.000000</td>\n",
       "      <td>211.00000</td>\n",
       "      <td>0.000000</td>\n",
       "      <td>0.000000</td>\n",
       "      <td>132.000000</td>\n",
       "      <td>0.000000</td>\n",
       "      <td>0.000000</td>\n",
       "      <td>1.000000</td>\n",
       "      <td>0.000000</td>\n",
       "      <td>2.000000</td>\n",
       "      <td>0.000000</td>\n",
       "    </tr>\n",
       "    <tr>\n",
       "      <th>50%</th>\n",
       "      <td>56.00000</td>\n",
       "      <td>1.000000</td>\n",
       "      <td>1.000000</td>\n",
       "      <td>130.000000</td>\n",
       "      <td>240.00000</td>\n",
       "      <td>0.000000</td>\n",
       "      <td>1.000000</td>\n",
       "      <td>152.000000</td>\n",
       "      <td>0.000000</td>\n",
       "      <td>0.800000</td>\n",
       "      <td>1.000000</td>\n",
       "      <td>0.000000</td>\n",
       "      <td>2.000000</td>\n",
       "      <td>1.000000</td>\n",
       "    </tr>\n",
       "    <tr>\n",
       "      <th>75%</th>\n",
       "      <td>61.00000</td>\n",
       "      <td>1.000000</td>\n",
       "      <td>2.000000</td>\n",
       "      <td>140.000000</td>\n",
       "      <td>275.00000</td>\n",
       "      <td>0.000000</td>\n",
       "      <td>1.000000</td>\n",
       "      <td>166.000000</td>\n",
       "      <td>1.000000</td>\n",
       "      <td>1.800000</td>\n",
       "      <td>2.000000</td>\n",
       "      <td>1.000000</td>\n",
       "      <td>3.000000</td>\n",
       "      <td>1.000000</td>\n",
       "    </tr>\n",
       "    <tr>\n",
       "      <th>max</th>\n",
       "      <td>77.00000</td>\n",
       "      <td>1.000000</td>\n",
       "      <td>3.000000</td>\n",
       "      <td>200.000000</td>\n",
       "      <td>564.00000</td>\n",
       "      <td>1.000000</td>\n",
       "      <td>2.000000</td>\n",
       "      <td>202.000000</td>\n",
       "      <td>1.000000</td>\n",
       "      <td>6.200000</td>\n",
       "      <td>2.000000</td>\n",
       "      <td>4.000000</td>\n",
       "      <td>3.000000</td>\n",
       "      <td>1.000000</td>\n",
       "    </tr>\n",
       "  </tbody>\n",
       "</table>\n",
       "</div>"
      ],
      "text/plain": [
       "             age          sex           cp     trestbps        chol  \\\n",
       "count  923.00000  1025.000000  1025.000000  1025.000000  1025.00000   \n",
       "mean    54.52221     0.695610     0.942439   131.611707   246.00000   \n",
       "std      9.11771     0.460373     1.029641    17.516718    51.59251   \n",
       "min     29.00000     0.000000     0.000000    94.000000   126.00000   \n",
       "25%     48.00000     0.000000     0.000000   120.000000   211.00000   \n",
       "50%     56.00000     1.000000     1.000000   130.000000   240.00000   \n",
       "75%     61.00000     1.000000     2.000000   140.000000   275.00000   \n",
       "max     77.00000     1.000000     3.000000   200.000000   564.00000   \n",
       "\n",
       "               fbs      restecg      thalach        exang      oldpeak  \\\n",
       "count  1025.000000  1025.000000  1025.000000  1025.000000  1025.000000   \n",
       "mean      0.149268     0.529756   149.114146     0.336585     1.071512   \n",
       "std       0.356527     0.527878    23.005724     0.472772     1.175053   \n",
       "min       0.000000     0.000000    71.000000     0.000000     0.000000   \n",
       "25%       0.000000     0.000000   132.000000     0.000000     0.000000   \n",
       "50%       0.000000     1.000000   152.000000     0.000000     0.800000   \n",
       "75%       0.000000     1.000000   166.000000     1.000000     1.800000   \n",
       "max       1.000000     2.000000   202.000000     1.000000     6.200000   \n",
       "\n",
       "             slope           ca         thal       target  \n",
       "count  1025.000000  1025.000000  1025.000000  1025.000000  \n",
       "mean      1.385366     0.754146     2.323902     0.513171  \n",
       "std       0.617755     1.030798     0.620660     0.500070  \n",
       "min       0.000000     0.000000     0.000000     0.000000  \n",
       "25%       1.000000     0.000000     2.000000     0.000000  \n",
       "50%       1.000000     0.000000     2.000000     1.000000  \n",
       "75%       2.000000     1.000000     3.000000     1.000000  \n",
       "max       2.000000     4.000000     3.000000     1.000000  "
      ]
     },
     "execution_count": 24,
     "metadata": {},
     "output_type": "execute_result"
    }
   ],
   "source": [
    "heart_dataset.describe()"
   ]
  },
  {
   "cell_type": "code",
   "execution_count": 25,
   "id": "ce0ad4e3-f2e7-4991-9427-7ab908944382",
   "metadata": {},
   "outputs": [],
   "source": [
    "columns_to_scale = ['age', 'trestbps', 'chol', 'thalach', 'oldpeak', 'slope', 'thal']"
   ]
  },
  {
   "cell_type": "code",
   "execution_count": 26,
   "id": "d9907fbe-8242-4bbf-b6cb-1afd2c17aa39",
   "metadata": {},
   "outputs": [],
   "source": [
    "heart_dataset[columns_to_scale] = scalar.fit_transform(heart_dataset[columns_to_scale])"
   ]
  },
  {
   "cell_type": "code",
   "execution_count": 27,
   "id": "2db56e54-d4c3-41f9-b3f7-6eac1069f0d3",
   "metadata": {},
   "outputs": [
    {
     "data": {
      "text/html": [
       "<div>\n",
       "<style scoped>\n",
       "    .dataframe tbody tr th:only-of-type {\n",
       "        vertical-align: middle;\n",
       "    }\n",
       "\n",
       "    .dataframe tbody tr th {\n",
       "        vertical-align: top;\n",
       "    }\n",
       "\n",
       "    .dataframe thead th {\n",
       "        text-align: right;\n",
       "    }\n",
       "</style>\n",
       "<table border=\"1\" class=\"dataframe\">\n",
       "  <thead>\n",
       "    <tr style=\"text-align: right;\">\n",
       "      <th></th>\n",
       "      <th>age</th>\n",
       "      <th>sex</th>\n",
       "      <th>cp</th>\n",
       "      <th>trestbps</th>\n",
       "      <th>chol</th>\n",
       "      <th>fbs</th>\n",
       "      <th>restecg</th>\n",
       "      <th>thalach</th>\n",
       "      <th>exang</th>\n",
       "      <th>oldpeak</th>\n",
       "      <th>slope</th>\n",
       "      <th>ca</th>\n",
       "      <th>thal</th>\n",
       "      <th>target</th>\n",
       "    </tr>\n",
       "  </thead>\n",
       "  <tbody>\n",
       "    <tr>\n",
       "      <th>count</th>\n",
       "      <td>9.230000e+02</td>\n",
       "      <td>1025.000000</td>\n",
       "      <td>1025.000000</td>\n",
       "      <td>1.025000e+03</td>\n",
       "      <td>1.025000e+03</td>\n",
       "      <td>1025.000000</td>\n",
       "      <td>1025.000000</td>\n",
       "      <td>1.025000e+03</td>\n",
       "      <td>1025.000000</td>\n",
       "      <td>1.025000e+03</td>\n",
       "      <td>1.025000e+03</td>\n",
       "      <td>1025.000000</td>\n",
       "      <td>1.025000e+03</td>\n",
       "      <td>1025.000000</td>\n",
       "    </tr>\n",
       "    <tr>\n",
       "      <th>mean</th>\n",
       "      <td>7.932742e-17</td>\n",
       "      <td>0.695610</td>\n",
       "      <td>0.942439</td>\n",
       "      <td>-6.590934e-16</td>\n",
       "      <td>6.282238e-18</td>\n",
       "      <td>0.149268</td>\n",
       "      <td>0.529756</td>\n",
       "      <td>-3.812668e-16</td>\n",
       "      <td>0.336585</td>\n",
       "      <td>-2.341217e-16</td>\n",
       "      <td>1.752528e-16</td>\n",
       "      <td>0.754146</td>\n",
       "      <td>-2.460904e-16</td>\n",
       "      <td>0.513171</td>\n",
       "    </tr>\n",
       "    <tr>\n",
       "      <th>std</th>\n",
       "      <td>1.000542e+00</td>\n",
       "      <td>0.460373</td>\n",
       "      <td>1.029641</td>\n",
       "      <td>1.000488e+00</td>\n",
       "      <td>1.000488e+00</td>\n",
       "      <td>0.356527</td>\n",
       "      <td>0.527878</td>\n",
       "      <td>1.000488e+00</td>\n",
       "      <td>0.472772</td>\n",
       "      <td>1.000488e+00</td>\n",
       "      <td>1.000488e+00</td>\n",
       "      <td>1.030798</td>\n",
       "      <td>1.000488e+00</td>\n",
       "      <td>0.500070</td>\n",
       "    </tr>\n",
       "    <tr>\n",
       "      <th>min</th>\n",
       "      <td>-2.800708e+00</td>\n",
       "      <td>0.000000</td>\n",
       "      <td>0.000000</td>\n",
       "      <td>-2.148237e+00</td>\n",
       "      <td>-2.327054e+00</td>\n",
       "      <td>0.000000</td>\n",
       "      <td>0.000000</td>\n",
       "      <td>-3.397080e+00</td>\n",
       "      <td>0.000000</td>\n",
       "      <td>-9.123291e-01</td>\n",
       "      <td>-2.243675e+00</td>\n",
       "      <td>0.000000</td>\n",
       "      <td>-3.746070e+00</td>\n",
       "      <td>0.000000</td>\n",
       "    </tr>\n",
       "    <tr>\n",
       "      <th>25%</th>\n",
       "      <td>-7.157220e-01</td>\n",
       "      <td>0.000000</td>\n",
       "      <td>0.000000</td>\n",
       "      <td>-6.632165e-01</td>\n",
       "      <td>-6.787242e-01</td>\n",
       "      <td>0.000000</td>\n",
       "      <td>0.000000</td>\n",
       "      <td>-7.442713e-01</td>\n",
       "      <td>0.000000</td>\n",
       "      <td>-9.123291e-01</td>\n",
       "      <td>-6.241209e-01</td>\n",
       "      <td>0.000000</td>\n",
       "      <td>-5.221223e-01</td>\n",
       "      <td>0.000000</td>\n",
       "    </tr>\n",
       "    <tr>\n",
       "      <th>50%</th>\n",
       "      <td>1.621669e-01</td>\n",
       "      <td>1.000000</td>\n",
       "      <td>1.000000</td>\n",
       "      <td>-9.205458e-02</td>\n",
       "      <td>-1.163527e-01</td>\n",
       "      <td>0.000000</td>\n",
       "      <td>1.000000</td>\n",
       "      <td>1.255019e-01</td>\n",
       "      <td>0.000000</td>\n",
       "      <td>-2.311765e-01</td>\n",
       "      <td>-6.241209e-01</td>\n",
       "      <td>0.000000</td>\n",
       "      <td>-5.221223e-01</td>\n",
       "      <td>1.000000</td>\n",
       "    </tr>\n",
       "    <tr>\n",
       "      <th>75%</th>\n",
       "      <td>7.108475e-01</td>\n",
       "      <td>1.000000</td>\n",
       "      <td>2.000000</td>\n",
       "      <td>4.791073e-01</td>\n",
       "      <td>5.623715e-01</td>\n",
       "      <td>0.000000</td>\n",
       "      <td>1.000000</td>\n",
       "      <td>7.343432e-01</td>\n",
       "      <td>1.000000</td>\n",
       "      <td>6.202642e-01</td>\n",
       "      <td>9.954333e-01</td>\n",
       "      <td>1.000000</td>\n",
       "      <td>1.089852e+00</td>\n",
       "      <td>1.000000</td>\n",
       "    </tr>\n",
       "    <tr>\n",
       "      <th>max</th>\n",
       "      <td>2.466625e+00</td>\n",
       "      <td>1.000000</td>\n",
       "      <td>3.000000</td>\n",
       "      <td>3.906079e+00</td>\n",
       "      <td>6.166694e+00</td>\n",
       "      <td>1.000000</td>\n",
       "      <td>2.000000</td>\n",
       "      <td>2.299935e+00</td>\n",
       "      <td>1.000000</td>\n",
       "      <td>4.366603e+00</td>\n",
       "      <td>9.954333e-01</td>\n",
       "      <td>4.000000</td>\n",
       "      <td>1.089852e+00</td>\n",
       "      <td>1.000000</td>\n",
       "    </tr>\n",
       "  </tbody>\n",
       "</table>\n",
       "</div>"
      ],
      "text/plain": [
       "                age          sex           cp      trestbps          chol  \\\n",
       "count  9.230000e+02  1025.000000  1025.000000  1.025000e+03  1.025000e+03   \n",
       "mean   7.932742e-17     0.695610     0.942439 -6.590934e-16  6.282238e-18   \n",
       "std    1.000542e+00     0.460373     1.029641  1.000488e+00  1.000488e+00   \n",
       "min   -2.800708e+00     0.000000     0.000000 -2.148237e+00 -2.327054e+00   \n",
       "25%   -7.157220e-01     0.000000     0.000000 -6.632165e-01 -6.787242e-01   \n",
       "50%    1.621669e-01     1.000000     1.000000 -9.205458e-02 -1.163527e-01   \n",
       "75%    7.108475e-01     1.000000     2.000000  4.791073e-01  5.623715e-01   \n",
       "max    2.466625e+00     1.000000     3.000000  3.906079e+00  6.166694e+00   \n",
       "\n",
       "               fbs      restecg       thalach        exang       oldpeak  \\\n",
       "count  1025.000000  1025.000000  1.025000e+03  1025.000000  1.025000e+03   \n",
       "mean      0.149268     0.529756 -3.812668e-16     0.336585 -2.341217e-16   \n",
       "std       0.356527     0.527878  1.000488e+00     0.472772  1.000488e+00   \n",
       "min       0.000000     0.000000 -3.397080e+00     0.000000 -9.123291e-01   \n",
       "25%       0.000000     0.000000 -7.442713e-01     0.000000 -9.123291e-01   \n",
       "50%       0.000000     1.000000  1.255019e-01     0.000000 -2.311765e-01   \n",
       "75%       0.000000     1.000000  7.343432e-01     1.000000  6.202642e-01   \n",
       "max       1.000000     2.000000  2.299935e+00     1.000000  4.366603e+00   \n",
       "\n",
       "              slope           ca          thal       target  \n",
       "count  1.025000e+03  1025.000000  1.025000e+03  1025.000000  \n",
       "mean   1.752528e-16     0.754146 -2.460904e-16     0.513171  \n",
       "std    1.000488e+00     1.030798  1.000488e+00     0.500070  \n",
       "min   -2.243675e+00     0.000000 -3.746070e+00     0.000000  \n",
       "25%   -6.241209e-01     0.000000 -5.221223e-01     0.000000  \n",
       "50%   -6.241209e-01     0.000000 -5.221223e-01     1.000000  \n",
       "75%    9.954333e-01     1.000000  1.089852e+00     1.000000  \n",
       "max    9.954333e-01     4.000000  1.089852e+00     1.000000  "
      ]
     },
     "execution_count": 27,
     "metadata": {},
     "output_type": "execute_result"
    }
   ],
   "source": [
    "heart_dataset.describe()"
   ]
  },
  {
   "cell_type": "code",
   "execution_count": 28,
   "id": "0ecc8dec-de57-4a2c-95c2-d4ab32e945d9",
   "metadata": {},
   "outputs": [],
   "source": [
    "## Handle Missing Values"
   ]
  },
  {
   "cell_type": "code",
   "execution_count": 29,
   "id": "8d437b44-c8f4-46ca-bbf1-e7ba45b74277",
   "metadata": {},
   "outputs": [],
   "source": [
    "heart_dataset.fillna(heart_dataset.mean(), inplace=True)"
   ]
  },
  {
   "cell_type": "code",
   "execution_count": 30,
   "id": "335d3c0a-72bd-4b10-8f90-8517531aa670",
   "metadata": {},
   "outputs": [
    {
     "data": {
      "image/png": "[encoded data removed]",
      "text/plain": [
       "<Figure size 2880x2880 with 2 Axes>"
      ]
     },
     "metadata": {
      "needs_background": "light"
     },
     "output_type": "display_data"
    }
   ],
   "source": [
    "corr_matrix = heart_dataset.corr()\n",
    "fig, ax = plt.subplots(figsize=(40, 40))\n",
    "cmap = sns.color_palette(\"plasma\")\n",
    "sns.heatmap(corr_matrix, cmap=cmap, center=0, square=True, annot=True, annot_kws={'fontsize': 12}, linewidths=.5, ax=ax)\n",
    "ax.tick_params(axis='both', labelsize=14)\n",
    "ax.set_title('Correlation Matrix', fontsize=18)\n",
    "plt.show()"
   ]
  },
  {
   "cell_type": "code",
   "execution_count": 31,
   "id": "f2921e25-70eb-4971-bf1b-40581bd001de",
   "metadata": {},
   "outputs": [],
   "source": [
    "## Select 5 Best Features Based on Correlation Matrix"
   ]
  },
  {
   "cell_type": "code",
   "execution_count": 32,
   "id": "00e2fc8a-c1f6-46c1-b9e8-b7e576dff92a",
   "metadata": {},
   "outputs": [
    {
     "data": {
      "text/plain": [
       "['oldpeak', 'exang', 'cp', 'thalach', 'ca']"
      ]
     },
     "execution_count": 32,
     "metadata": {},
     "output_type": "execute_result"
    }
   ],
   "source": [
    "corr_target = corr_matrix['target']\n",
    "top_5_cols = corr_target.abs().sort_values(ascending=False)[1:6]\n",
    "if 'target' in top_5_cols:\n",
    "    top_5_cols = top_5_cols.drop(target_var)\n",
    "top_5_cols_using_corr = top_5_cols.index.tolist()\n",
    "top_5_cols_using_corr"
   ]
  },
  {
   "cell_type": "code",
   "execution_count": 33,
   "id": "16bcdddf-0b35-41ec-acb5-6150798126e6",
   "metadata": {},
   "outputs": [],
   "source": [
    "best_features_using_corr = heart_dataset[top_5_cols_using_corr]"
   ]
  },
  {
   "cell_type": "code",
   "execution_count": 34,
   "id": "0261ccd7-36af-4046-93bd-221686ab335c",
   "metadata": {},
   "outputs": [
    {
     "data": {
      "text/html": [
       "<div>\n",
       "<style scoped>\n",
       "    .dataframe tbody tr th:only-of-type {\n",
       "        vertical-align: middle;\n",
       "    }\n",
       "\n",
       "    .dataframe tbody tr th {\n",
       "        vertical-align: top;\n",
       "    }\n",
       "\n",
       "    .dataframe thead th {\n",
       "        text-align: right;\n",
       "    }\n",
       "</style>\n",
       "<table border=\"1\" class=\"dataframe\">\n",
       "  <thead>\n",
       "    <tr style=\"text-align: right;\">\n",
       "      <th></th>\n",
       "      <th>oldpeak</th>\n",
       "      <th>exang</th>\n",
       "      <th>cp</th>\n",
       "      <th>thalach</th>\n",
       "      <th>ca</th>\n",
       "    </tr>\n",
       "  </thead>\n",
       "  <tbody>\n",
       "    <tr>\n",
       "      <th>0</th>\n",
       "      <td>-0.060888</td>\n",
       "      <td>0</td>\n",
       "      <td>0</td>\n",
       "      <td>0.821321</td>\n",
       "      <td>2</td>\n",
       "    </tr>\n",
       "    <tr>\n",
       "      <th>1</th>\n",
       "      <td>1.727137</td>\n",
       "      <td>1</td>\n",
       "      <td>0</td>\n",
       "      <td>0.255968</td>\n",
       "      <td>0</td>\n",
       "    </tr>\n",
       "    <tr>\n",
       "      <th>2</th>\n",
       "      <td>1.301417</td>\n",
       "      <td>1</td>\n",
       "      <td>0</td>\n",
       "      <td>-1.048692</td>\n",
       "      <td>0</td>\n",
       "    </tr>\n",
       "    <tr>\n",
       "      <th>3</th>\n",
       "      <td>-0.912329</td>\n",
       "      <td>0</td>\n",
       "      <td>0</td>\n",
       "      <td>0.516900</td>\n",
       "      <td>1</td>\n",
       "    </tr>\n",
       "    <tr>\n",
       "      <th>4</th>\n",
       "      <td>0.705408</td>\n",
       "      <td>0</td>\n",
       "      <td>0</td>\n",
       "      <td>-1.874977</td>\n",
       "      <td>3</td>\n",
       "    </tr>\n",
       "  </tbody>\n",
       "</table>\n",
       "</div>"
      ],
      "text/plain": [
       "    oldpeak  exang  cp   thalach  ca\n",
       "0 -0.060888      0   0  0.821321   2\n",
       "1  1.727137      1   0  0.255968   0\n",
       "2  1.301417      1   0 -1.048692   0\n",
       "3 -0.912329      0   0  0.516900   1\n",
       "4  0.705408      0   0 -1.874977   3"
      ]
     },
     "execution_count": 34,
     "metadata": {},
     "output_type": "execute_result"
    }
   ],
   "source": [
    "best_features_using_corr.head()"
   ]
  },
  {
   "cell_type": "code",
   "execution_count": 35,
   "id": "8b52a321-3e52-48a7-aa4d-9eb24a22f451",
   "metadata": {},
   "outputs": [
    {
     "data": {
      "text/html": [
       "<div>\n",
       "<style scoped>\n",
       "    .dataframe tbody tr th:only-of-type {\n",
       "        vertical-align: middle;\n",
       "    }\n",
       "\n",
       "    .dataframe tbody tr th {\n",
       "        vertical-align: top;\n",
       "    }\n",
       "\n",
       "    .dataframe thead th {\n",
       "        text-align: right;\n",
       "    }\n",
       "</style>\n",
       "<table border=\"1\" class=\"dataframe\">\n",
       "  <thead>\n",
       "    <tr style=\"text-align: right;\">\n",
       "      <th></th>\n",
       "      <th>oldpeak</th>\n",
       "      <th>exang</th>\n",
       "      <th>cp</th>\n",
       "      <th>thalach</th>\n",
       "      <th>ca</th>\n",
       "    </tr>\n",
       "  </thead>\n",
       "  <tbody>\n",
       "    <tr>\n",
       "      <th>count</th>\n",
       "      <td>1.025000e+03</td>\n",
       "      <td>1025.000000</td>\n",
       "      <td>1025.000000</td>\n",
       "      <td>1.025000e+03</td>\n",
       "      <td>1025.000000</td>\n",
       "    </tr>\n",
       "    <tr>\n",
       "      <th>mean</th>\n",
       "      <td>-2.341217e-16</td>\n",
       "      <td>0.336585</td>\n",
       "      <td>0.942439</td>\n",
       "      <td>-3.812668e-16</td>\n",
       "      <td>0.754146</td>\n",
       "    </tr>\n",
       "    <tr>\n",
       "      <th>std</th>\n",
       "      <td>1.000488e+00</td>\n",
       "      <td>0.472772</td>\n",
       "      <td>1.029641</td>\n",
       "      <td>1.000488e+00</td>\n",
       "      <td>1.030798</td>\n",
       "    </tr>\n",
       "    <tr>\n",
       "      <th>min</th>\n",
       "      <td>-9.123291e-01</td>\n",
       "      <td>0.000000</td>\n",
       "      <td>0.000000</td>\n",
       "      <td>-3.397080e+00</td>\n",
       "      <td>0.000000</td>\n",
       "    </tr>\n",
       "    <tr>\n",
       "      <th>25%</th>\n",
       "      <td>-9.123291e-01</td>\n",
       "      <td>0.000000</td>\n",
       "      <td>0.000000</td>\n",
       "      <td>-7.442713e-01</td>\n",
       "      <td>0.000000</td>\n",
       "    </tr>\n",
       "    <tr>\n",
       "      <th>50%</th>\n",
       "      <td>-2.311765e-01</td>\n",
       "      <td>0.000000</td>\n",
       "      <td>1.000000</td>\n",
       "      <td>1.255019e-01</td>\n",
       "      <td>0.000000</td>\n",
       "    </tr>\n",
       "    <tr>\n",
       "      <th>75%</th>\n",
       "      <td>6.202642e-01</td>\n",
       "      <td>1.000000</td>\n",
       "      <td>2.000000</td>\n",
       "      <td>7.343432e-01</td>\n",
       "      <td>1.000000</td>\n",
       "    </tr>\n",
       "    <tr>\n",
       "      <th>max</th>\n",
       "      <td>4.366603e+00</td>\n",
       "      <td>1.000000</td>\n",
       "      <td>3.000000</td>\n",
       "      <td>2.299935e+00</td>\n",
       "      <td>4.000000</td>\n",
       "    </tr>\n",
       "  </tbody>\n",
       "</table>\n",
       "</div>"
      ],
      "text/plain": [
       "            oldpeak        exang           cp       thalach           ca\n",
       "count  1.025000e+03  1025.000000  1025.000000  1.025000e+03  1025.000000\n",
       "mean  -2.341217e-16     0.336585     0.942439 -3.812668e-16     0.754146\n",
       "std    1.000488e+00     0.472772     1.029641  1.000488e+00     1.030798\n",
       "min   -9.123291e-01     0.000000     0.000000 -3.397080e+00     0.000000\n",
       "25%   -9.123291e-01     0.000000     0.000000 -7.442713e-01     0.000000\n",
       "50%   -2.311765e-01     0.000000     1.000000  1.255019e-01     0.000000\n",
       "75%    6.202642e-01     1.000000     2.000000  7.343432e-01     1.000000\n",
       "max    4.366603e+00     1.000000     3.000000  2.299935e+00     4.000000"
      ]
     },
     "execution_count": 35,
     "metadata": {},
     "output_type": "execute_result"
    }
   ],
   "source": [
    "best_features_using_corr.describe()"
   ]
  },
  {
   "cell_type": "code",
   "execution_count": 36,
   "id": "6851923b-cb50-4dfa-b087-aa96405027c6",
   "metadata": {},
   "outputs": [
    {
     "data": {
      "image/png": "[encoded data removed]",
      "text/plain": [
       "<Figure size 2880x2880 with 2 Axes>"
      ]
     },
     "metadata": {
      "needs_background": "light"
     },
     "output_type": "display_data"
    }
   ],
   "source": [
    "corr_matrix = best_features_using_corr.corr()\n",
    "fig, ax = plt.subplots(figsize=(40, 40))\n",
    "cmap = sns.color_palette(\"plasma\")\n",
    "sns.heatmap(corr_matrix, cmap=cmap, center=0, square=True, annot=True, annot_kws={'fontsize': 12}, linewidths=.5, ax=ax)\n",
    "ax.tick_params(axis='both', labelsize=14)\n",
    "ax.set_title('Correlation Matrix', fontsize=18)\n",
    "plt.show()"
   ]
  },
  {
   "cell_type": "code",
   "execution_count": 37,
   "id": "5fc91ad7-6c29-417b-9219-77c97df9ff54",
   "metadata": {},
   "outputs": [],
   "source": [
    "## Features Selection Using Information Gain Method"
   ]
  },
  {
   "cell_type": "code",
   "execution_count": 38,
   "id": "2a12c5a6-cc7f-4cb9-adee-dc6279785218",
   "metadata": {},
   "outputs": [
    {
     "name": "stdout",
     "output_type": "stream",
     "text": [
      "Top 5 features based on Information Gain: ['chol', 'thal', 'thalach', 'oldpeak', 'ca']\n"
     ]
    }
   ],
   "source": [
    "# extract the features and target variable\n",
    "X = heart_dataset.drop('target', axis=1)\n",
    "y = heart_dataset['target']\n",
    "\n",
    "# calculate the information gain of each feature\n",
    "info_gain = mutual_info_classif(X, y)\n",
    "\n",
    "# create a dataframe to store the information gain of each feature\n",
    "ig_df = pd.DataFrame({'feature': X.columns, 'info_gain': info_gain})\n",
    "\n",
    "# sort the dataframe by information gain in descending order\n",
    "ig_df = ig_df.sort_values(by='info_gain', ascending=False)\n",
    "\n",
    "# select the top five features based on information gain\n",
    "top_5_cols_using_ig = list(ig_df['feature'][:5])\n",
    "print(\"Top 5 features based on Information Gain:\", top_5_cols_using_ig)"
   ]
  },
  {
   "cell_type": "code",
   "execution_count": 39,
   "id": "5480171a-ce11-423b-85eb-232aa989d5e6",
   "metadata": {},
   "outputs": [],
   "source": [
    "best_features_using_ig = heart_dataset[top_5_cols_using_ig]"
   ]
  },
  {
   "cell_type": "code",
   "execution_count": 40,
   "id": "cd045f48-46e2-4290-9550-f487a00ebc0b",
   "metadata": {},
   "outputs": [
    {
     "data": {
      "text/html": [
       "<div>\n",
       "<style scoped>\n",
       "    .dataframe tbody tr th:only-of-type {\n",
       "        vertical-align: middle;\n",
       "    }\n",
       "\n",
       "    .dataframe tbody tr th {\n",
       "        vertical-align: top;\n",
       "    }\n",
       "\n",
       "    .dataframe thead th {\n",
       "        text-align: right;\n",
       "    }\n",
       "</style>\n",
       "<table border=\"1\" class=\"dataframe\">\n",
       "  <thead>\n",
       "    <tr style=\"text-align: right;\">\n",
       "      <th></th>\n",
       "      <th>chol</th>\n",
       "      <th>thal</th>\n",
       "      <th>thalach</th>\n",
       "      <th>oldpeak</th>\n",
       "      <th>ca</th>\n",
       "    </tr>\n",
       "  </thead>\n",
       "  <tbody>\n",
       "    <tr>\n",
       "      <th>0</th>\n",
       "      <td>-0.659332</td>\n",
       "      <td>1.089852</td>\n",
       "      <td>0.821321</td>\n",
       "      <td>-0.060888</td>\n",
       "      <td>2</td>\n",
       "    </tr>\n",
       "    <tr>\n",
       "      <th>1</th>\n",
       "      <td>-0.833861</td>\n",
       "      <td>1.089852</td>\n",
       "      <td>0.255968</td>\n",
       "      <td>1.727137</td>\n",
       "      <td>0</td>\n",
       "    </tr>\n",
       "    <tr>\n",
       "      <th>2</th>\n",
       "      <td>-1.396233</td>\n",
       "      <td>1.089852</td>\n",
       "      <td>-1.048692</td>\n",
       "      <td>1.301417</td>\n",
       "      <td>0</td>\n",
       "    </tr>\n",
       "    <tr>\n",
       "      <th>3</th>\n",
       "      <td>-0.833861</td>\n",
       "      <td>1.089852</td>\n",
       "      <td>0.516900</td>\n",
       "      <td>-0.912329</td>\n",
       "      <td>1</td>\n",
       "    </tr>\n",
       "    <tr>\n",
       "      <th>4</th>\n",
       "      <td>0.930822</td>\n",
       "      <td>-0.522122</td>\n",
       "      <td>-1.874977</td>\n",
       "      <td>0.705408</td>\n",
       "      <td>3</td>\n",
       "    </tr>\n",
       "  </tbody>\n",
       "</table>\n",
       "</div>"
      ],
      "text/plain": [
       "       chol      thal   thalach   oldpeak  ca\n",
       "0 -0.659332  1.089852  0.821321 -0.060888   2\n",
       "1 -0.833861  1.089852  0.255968  1.727137   0\n",
       "2 -1.396233  1.089852 -1.048692  1.301417   0\n",
       "3 -0.833861  1.089852  0.516900 -0.912329   1\n",
       "4  0.930822 -0.522122 -1.874977  0.705408   3"
      ]
     },
     "execution_count": 40,
     "metadata": {},
     "output_type": "execute_result"
    }
   ],
   "source": [
    "best_features_using_ig.head()"
   ]
  },
  {
   "cell_type": "code",
   "execution_count": 41,
   "id": "bde2a626-a38e-4d9e-98fd-dbf0b707ec6e",
   "metadata": {},
   "outputs": [
    {
     "data": {
      "text/html": [
       "<div>\n",
       "<style scoped>\n",
       "    .dataframe tbody tr th:only-of-type {\n",
       "        vertical-align: middle;\n",
       "    }\n",
       "\n",
       "    .dataframe tbody tr th {\n",
       "        vertical-align: top;\n",
       "    }\n",
       "\n",
       "    .dataframe thead th {\n",
       "        text-align: right;\n",
       "    }\n",
       "</style>\n",
       "<table border=\"1\" class=\"dataframe\">\n",
       "  <thead>\n",
       "    <tr style=\"text-align: right;\">\n",
       "      <th></th>\n",
       "      <th>oldpeak</th>\n",
       "      <th>exang</th>\n",
       "      <th>cp</th>\n",
       "      <th>thalach</th>\n",
       "      <th>ca</th>\n",
       "    </tr>\n",
       "  </thead>\n",
       "  <tbody>\n",
       "    <tr>\n",
       "      <th>0</th>\n",
       "      <td>-0.060888</td>\n",
       "      <td>0</td>\n",
       "      <td>0</td>\n",
       "      <td>0.821321</td>\n",
       "      <td>2</td>\n",
       "    </tr>\n",
       "    <tr>\n",
       "      <th>1</th>\n",
       "      <td>1.727137</td>\n",
       "      <td>1</td>\n",
       "      <td>0</td>\n",
       "      <td>0.255968</td>\n",
       "      <td>0</td>\n",
       "    </tr>\n",
       "    <tr>\n",
       "      <th>2</th>\n",
       "      <td>1.301417</td>\n",
       "      <td>1</td>\n",
       "      <td>0</td>\n",
       "      <td>-1.048692</td>\n",
       "      <td>0</td>\n",
       "    </tr>\n",
       "    <tr>\n",
       "      <th>3</th>\n",
       "      <td>-0.912329</td>\n",
       "      <td>0</td>\n",
       "      <td>0</td>\n",
       "      <td>0.516900</td>\n",
       "      <td>1</td>\n",
       "    </tr>\n",
       "    <tr>\n",
       "      <th>4</th>\n",
       "      <td>0.705408</td>\n",
       "      <td>0</td>\n",
       "      <td>0</td>\n",
       "      <td>-1.874977</td>\n",
       "      <td>3</td>\n",
       "    </tr>\n",
       "  </tbody>\n",
       "</table>\n",
       "</div>"
      ],
      "text/plain": [
       "    oldpeak  exang  cp   thalach  ca\n",
       "0 -0.060888      0   0  0.821321   2\n",
       "1  1.727137      1   0  0.255968   0\n",
       "2  1.301417      1   0 -1.048692   0\n",
       "3 -0.912329      0   0  0.516900   1\n",
       "4  0.705408      0   0 -1.874977   3"
      ]
     },
     "execution_count": 41,
     "metadata": {},
     "output_type": "execute_result"
    }
   ],
   "source": [
    "best_features_using_corr.head()"
   ]
  },
  {
   "cell_type": "code",
   "execution_count": 42,
   "id": "f710902a-ffcc-4c81-9b01-cf1d60631d59",
   "metadata": {},
   "outputs": [],
   "source": [
    "## Apply ANN using Features Selected By Information Gain"
   ]
  },
  {
   "cell_type": "code",
   "execution_count": 43,
   "id": "0d201a21-3f6e-40cd-a44b-42d5157b1cc6",
   "metadata": {},
   "outputs": [],
   "source": [
    "X = best_features_using_ig\n",
    "y = heart_dataset['target']\n",
    "\n",
    "# Split the Data into 70/30 ratio\n",
    "X_train, X_test, y_train, y_test = train_test_split(X, y, test_size=0.3, random_state=42)"
   ]
  },
  {
   "cell_type": "code",
   "execution_count": 44,
   "id": "e20c1c7a-f614-4c9d-b6c9-68163ec31e1e",
   "metadata": {},
   "outputs": [
    {
     "data": {
      "text/plain": [
       "((717, 5), (308, 5), (717,), (308,))"
      ]
     },
     "execution_count": 44,
     "metadata": {},
     "output_type": "execute_result"
    }
   ],
   "source": [
    "X_train.shape, X_test.shape, y_train.shape, y_test.shape"
   ]
  },
  {
   "cell_type": "code",
   "execution_count": 45,
   "id": "b8dd81d0-d8c8-46bc-90de-88a3c18cc391",
   "metadata": {},
   "outputs": [
    {
     "name": "stderr",
     "output_type": "stream",
     "text": [
      "/home/jawad_ahmed/anaconda3/lib/python3.9/site-packages/sklearn/neural_network/_multilayer_perceptron.py:614: ConvergenceWarning: Stochastic Optimizer: Maximum iterations (1000) reached and the optimization hasn't converged yet.\n",
      "  warnings.warn(\n"
     ]
    },
    {
     "data": {
      "text/plain": [
       "MLPClassifier(activation='logistic', hidden_layer_sizes=(10, 5), max_iter=1000,\n",
       "              random_state=1)"
      ]
     },
     "execution_count": 45,
     "metadata": {},
     "output_type": "execute_result"
    }
   ],
   "source": [
    "model_based_on_ig_features = MLPClassifier(hidden_layer_sizes=(10, 5), activation='logistic', solver='adam', max_iter=1000, random_state=1)\n",
    "\n",
    "\n",
    "model_based_on_ig_features.fit(X_train, y_train)\n"
   ]
  },
  {
   "cell_type": "code",
   "execution_count": 46,
   "id": "bbf982cf-edaa-4d1a-933d-603f59d0444c",
   "metadata": {},
   "outputs": [],
   "source": [
    "y_pred = model_based_on_ig_features.predict(X_test)"
   ]
  },
  {
   "cell_type": "code",
   "execution_count": 47,
   "id": "0a882b2c-58cb-4590-a8e5-fef7a4b97672",
   "metadata": {},
   "outputs": [
    {
     "data": {
      "image/png": "[encoded data removed]",
      "text/plain": [
       "<Figure size 432x288 with 2 Axes>"
      ]
     },
     "metadata": {
      "needs_background": "light"
     },
     "output_type": "display_data"
    }
   ],
   "source": [
    "cm = confusion_matrix(y_test, y_pred)\n",
    "# plot confusion matrix\n",
    "sns.heatmap(cm, annot=True, cmap=\"Blues\")\n",
    "plt.title(\"Confusion Matrix\")\n",
    "plt.xlabel(\"Predicted Labels\")\n",
    "plt.ylabel(\"True Labels\")\n",
    "plt.savefig(\"cm_ann_corr.png\")\n",
    "plt.show()"
   ]
  },
  {
   "cell_type": "code",
   "execution_count": 48,
   "id": "3ebf575d-17c9-473d-8c36-f83ba5c45046",
   "metadata": {},
   "outputs": [
    {
     "name": "stdout",
     "output_type": "stream",
     "text": [
      "Accuracy: 0.808\n",
      "Precision: 0.810\n",
      "Recall: 0.808\n",
      "F1 Score: 0.808\n",
      "Error Rate: 0.192\n"
     ]
    }
   ],
   "source": [
    "# Calculate accuracy, precision, recall, and F1 score\n",
    "accuracy = accuracy_score(y_test, y_pred)\n",
    "precision = precision_score(y_test, y_pred, average='weighted')\n",
    "recall = recall_score(y_test, y_pred, average='weighted')\n",
    "f1 = f1_score(y_test, y_pred, average='weighted')\n",
    "error_rate = 1 - accuracy\n",
    "\n",
    "# Print the results\n",
    "print(\"Accuracy: {:.3f}\".format(accuracy))\n",
    "print(\"Precision: {:.3f}\".format(precision))\n",
    "print(\"Recall: {:.3f}\".format(recall))\n",
    "print(\"F1 Score: {:.3f}\".format(f1))\n",
    "print(\"Error Rate: {:.3f}\".format(error_rate))"
   ]
  },
  {
   "cell_type": "code",
   "execution_count": 49,
   "id": "26496ae0-25e5-424f-98b5-7e851430f1a4",
   "metadata": {},
   "outputs": [],
   "source": [
    "## Tune the Hyper Parameters (Assumption Different Architectures as changing hyperparameters)"
   ]
  },
  {
   "cell_type": "code",
   "execution_count": 50,
   "id": "169f8198-7bcb-45b8-87de-25229e2fa88f",
   "metadata": {},
   "outputs": [
    {
     "data": {
      "text/plain": [
       "MLPClassifier(hidden_layer_sizes=(100, 50, 50, 50), max_iter=1000,\n",
       "              random_state=1)"
      ]
     },
     "execution_count": 50,
     "metadata": {},
     "output_type": "execute_result"
    }
   ],
   "source": [
    "model_based_on_ig_features = MLPClassifier(hidden_layer_sizes=(100, 50, 50, 50), activation='relu', solver='adam', max_iter=1000, random_state=1)\n",
    "\n",
    "\n",
    "model_based_on_ig_features.fit(X_train, y_train)"
   ]
  },
  {
   "cell_type": "code",
   "execution_count": 51,
   "id": "55e9e5e2-1d22-480a-8766-d3800a8f7db5",
   "metadata": {},
   "outputs": [],
   "source": [
    "y_pred = model_based_on_ig_features.predict(X_test)"
   ]
  },
  {
   "cell_type": "code",
   "execution_count": 52,
   "id": "ed61c743-fefe-43e8-affe-8fb2f9719bbb",
   "metadata": {},
   "outputs": [
    {
     "data": {
      "image/png": "[encoded data removed]",
      "text/plain": [
       "<Figure size 432x288 with 2 Axes>"
      ]
     },
     "metadata": {
      "needs_background": "light"
     },
     "output_type": "display_data"
    }
   ],
   "source": [
    "cm = confusion_matrix(y_test, y_pred)\n",
    "# plot confusion matrix\n",
    "sns.heatmap(cm, annot=True, cmap=\"Blues\")\n",
    "plt.title(\"Confusion Matrix\")\n",
    "plt.xlabel(\"Predicted Labels\")\n",
    "plt.ylabel(\"True Labels\")\n",
    "plt.savefig(\"cm_ann_corr.png\")\n",
    "plt.show()"
   ]
  },
  {
   "cell_type": "markdown",
   "id": "9de6992b-30cb-4497-b1f0-6e807eff4235",
   "metadata": {},
   "source": [
    "## Inference:\n",
    "1. There are 12 values predicted wrong by the model."
   ]
  },
  {
   "cell_type": "code",
   "execution_count": 53,
   "id": "91d552c0-ad3c-4dec-87bc-b5965b9d17a8",
   "metadata": {},
   "outputs": [
    {
     "data": {
      "text/plain": [
       "MLPClassifier(hidden_layer_sizes=(100, 50, 50), max_iter=1000, random_state=1)"
      ]
     },
     "execution_count": 53,
     "metadata": {},
     "output_type": "execute_result"
    }
   ],
   "source": [
    "model_based_on_ig_features = MLPClassifier(hidden_layer_sizes=(100, 50, 50), activation='relu', solver='adam', max_iter=1000, random_state=1)\n",
    "\n",
    "\n",
    "model_based_on_ig_features.fit(X_train, y_train)"
   ]
  },
  {
   "cell_type": "code",
   "execution_count": 54,
   "id": "9a5307a9-f645-4e28-93e8-092e45ea29f4",
   "metadata": {},
   "outputs": [],
   "source": [
    "y_pred = model_based_on_ig_features.predict(X_test)"
   ]
  },
  {
   "cell_type": "code",
   "execution_count": 55,
   "id": "62673fee-351f-468f-b3bf-dc7ce4ab2829",
   "metadata": {},
   "outputs": [
    {
     "data": {
      "image/png": "[encoded data removed]",
      "text/plain": [
       "<Figure size 432x288 with 2 Axes>"
      ]
     },
     "metadata": {
      "needs_background": "light"
     },
     "output_type": "display_data"
    }
   ],
   "source": [
    "cm = confusion_matrix(y_test, y_pred)\n",
    "# plot confusion matrix\n",
    "sns.heatmap(cm, annot=True, cmap=\"Blues\")\n",
    "plt.title(\"Confusion Matrix\")\n",
    "plt.xlabel(\"Predicted Labels\")\n",
    "plt.ylabel(\"True Labels\")\n",
    "plt.savefig(\"cm_ann_corr.png\")\n",
    "plt.show()"
   ]
  },
  {
   "cell_type": "markdown",
   "id": "009e7f37-bf30-442e-96ac-35b08e8b5bf3",
   "metadata": {},
   "source": [
    "## Inference:\n",
    "1. The confusion Matrix shows that there are 10 target that are predicted wrong by the model.\n",
    "2. The second row column one 6 value shows that the True value is 1 but the model predicted it as 0."
   ]
  },
  {
   "cell_type": "code",
   "execution_count": 56,
   "id": "ea80c4b1-0ecf-4a87-a746-6a8747e7ecb3",
   "metadata": {},
   "outputs": [
    {
     "name": "stdout",
     "output_type": "stream",
     "text": [
      "Accuracy: 0.964\n",
      "Precision: 0.965\n",
      "Recall: 0.964\n",
      "F1 Score: 0.964\n",
      "Error Rate: 0.036\n"
     ]
    }
   ],
   "source": [
    "# Calculate accuracy, precision, recall, and F1 score\n",
    "accuracy = accuracy_score(y_test, y_pred)\n",
    "precision = precision_score(y_test, y_pred, average='weighted')\n",
    "recall = recall_score(y_test, y_pred, average='weighted')\n",
    "f1 = f1_score(y_test, y_pred, average='weighted')\n",
    "error_rate = 1 - accuracy\n",
    "\n",
    "# Print the results\n",
    "print(\"Accuracy: {:.3f}\".format(accuracy))\n",
    "print(\"Precision: {:.3f}\".format(precision))\n",
    "print(\"Recall: {:.3f}\".format(recall))\n",
    "print(\"F1 Score: {:.3f}\".format(f1))\n",
    "print(\"Error Rate: {:.3f}\".format(error_rate))"
   ]
  },
  {
   "cell_type": "code",
   "execution_count": 57,
   "id": "6473401f-63df-4116-b235-fbfc18edfa14",
   "metadata": {},
   "outputs": [],
   "source": [
    "## Apply MLP on the Features Selected by Corr Matrix"
   ]
  },
  {
   "cell_type": "code",
   "execution_count": 58,
   "id": "5e503141-98d4-40f1-ae04-2c78e8bdf6d2",
   "metadata": {},
   "outputs": [],
   "source": [
    "X = best_features_using_corr\n",
    "y = heart_dataset['target']\n",
    "\n",
    "X_train, X_test, y_train, y_test = train_test_split(X, y, test_size=0.2, random_state=42)"
   ]
  },
  {
   "cell_type": "code",
   "execution_count": 59,
   "id": "fd6f0669-1919-4aca-8d6e-a260f36eaea5",
   "metadata": {},
   "outputs": [
    {
     "data": {
      "text/plain": [
       "((820, 5), (205, 5), (820,), (205,))"
      ]
     },
     "execution_count": 59,
     "metadata": {},
     "output_type": "execute_result"
    }
   ],
   "source": [
    "X_train.shape, X_test.shape, y_train.shape, y_test.shape"
   ]
  },
  {
   "cell_type": "code",
   "execution_count": 60,
   "id": "eadbb3b5-3b4f-4b34-af69-0b167f2df3cd",
   "metadata": {},
   "outputs": [
    {
     "data": {
      "text/html": [
       "<div>\n",
       "<style scoped>\n",
       "    .dataframe tbody tr th:only-of-type {\n",
       "        vertical-align: middle;\n",
       "    }\n",
       "\n",
       "    .dataframe tbody tr th {\n",
       "        vertical-align: top;\n",
       "    }\n",
       "\n",
       "    .dataframe thead th {\n",
       "        text-align: right;\n",
       "    }\n",
       "</style>\n",
       "<table border=\"1\" class=\"dataframe\">\n",
       "  <thead>\n",
       "    <tr style=\"text-align: right;\">\n",
       "      <th></th>\n",
       "      <th>oldpeak</th>\n",
       "      <th>exang</th>\n",
       "      <th>cp</th>\n",
       "      <th>thalach</th>\n",
       "      <th>ca</th>\n",
       "    </tr>\n",
       "  </thead>\n",
       "  <tbody>\n",
       "    <tr>\n",
       "      <th>835</th>\n",
       "      <td>-0.231177</td>\n",
       "      <td>0</td>\n",
       "      <td>2</td>\n",
       "      <td>-1.005203</td>\n",
       "      <td>3</td>\n",
       "    </tr>\n",
       "    <tr>\n",
       "      <th>137</th>\n",
       "      <td>-0.912329</td>\n",
       "      <td>1</td>\n",
       "      <td>0</td>\n",
       "      <td>0.212479</td>\n",
       "      <td>0</td>\n",
       "    </tr>\n",
       "    <tr>\n",
       "      <th>534</th>\n",
       "      <td>-0.912329</td>\n",
       "      <td>0</td>\n",
       "      <td>2</td>\n",
       "      <td>0.777832</td>\n",
       "      <td>0</td>\n",
       "    </tr>\n",
       "    <tr>\n",
       "      <th>495</th>\n",
       "      <td>-0.486609</td>\n",
       "      <td>0</td>\n",
       "      <td>0</td>\n",
       "      <td>0.516900</td>\n",
       "      <td>0</td>\n",
       "    </tr>\n",
       "    <tr>\n",
       "      <th>244</th>\n",
       "      <td>1.131129</td>\n",
       "      <td>0</td>\n",
       "      <td>2</td>\n",
       "      <td>0.734343</td>\n",
       "      <td>0</td>\n",
       "    </tr>\n",
       "  </tbody>\n",
       "</table>\n",
       "</div>"
      ],
      "text/plain": [
       "      oldpeak  exang  cp   thalach  ca\n",
       "835 -0.231177      0   2 -1.005203   3\n",
       "137 -0.912329      1   0  0.212479   0\n",
       "534 -0.912329      0   2  0.777832   0\n",
       "495 -0.486609      0   0  0.516900   0\n",
       "244  1.131129      0   2  0.734343   0"
      ]
     },
     "execution_count": 60,
     "metadata": {},
     "output_type": "execute_result"
    }
   ],
   "source": [
    "X_train.head()"
   ]
  },
  {
   "cell_type": "code",
   "execution_count": 61,
   "id": "eaaf3da5-168a-434c-bcc4-19551a3a5813",
   "metadata": {},
   "outputs": [
    {
     "data": {
      "text/html": [
       "<div>\n",
       "<style scoped>\n",
       "    .dataframe tbody tr th:only-of-type {\n",
       "        vertical-align: middle;\n",
       "    }\n",
       "\n",
       "    .dataframe tbody tr th {\n",
       "        vertical-align: top;\n",
       "    }\n",
       "\n",
       "    .dataframe thead th {\n",
       "        text-align: right;\n",
       "    }\n",
       "</style>\n",
       "<table border=\"1\" class=\"dataframe\">\n",
       "  <thead>\n",
       "    <tr style=\"text-align: right;\">\n",
       "      <th></th>\n",
       "      <th>oldpeak</th>\n",
       "      <th>exang</th>\n",
       "      <th>cp</th>\n",
       "      <th>thalach</th>\n",
       "      <th>ca</th>\n",
       "    </tr>\n",
       "  </thead>\n",
       "  <tbody>\n",
       "    <tr>\n",
       "      <th>527</th>\n",
       "      <td>-0.912329</td>\n",
       "      <td>0</td>\n",
       "      <td>0</td>\n",
       "      <td>0.603877</td>\n",
       "      <td>0</td>\n",
       "    </tr>\n",
       "    <tr>\n",
       "      <th>359</th>\n",
       "      <td>-0.912329</td>\n",
       "      <td>0</td>\n",
       "      <td>2</td>\n",
       "      <td>-1.483579</td>\n",
       "      <td>0</td>\n",
       "    </tr>\n",
       "    <tr>\n",
       "      <th>447</th>\n",
       "      <td>-0.231177</td>\n",
       "      <td>1</td>\n",
       "      <td>0</td>\n",
       "      <td>-0.178919</td>\n",
       "      <td>1</td>\n",
       "    </tr>\n",
       "    <tr>\n",
       "      <th>31</th>\n",
       "      <td>0.024256</td>\n",
       "      <td>0</td>\n",
       "      <td>1</td>\n",
       "      <td>0.560389</td>\n",
       "      <td>0</td>\n",
       "    </tr>\n",
       "    <tr>\n",
       "      <th>621</th>\n",
       "      <td>-0.912329</td>\n",
       "      <td>1</td>\n",
       "      <td>0</td>\n",
       "      <td>0.038525</td>\n",
       "      <td>2</td>\n",
       "    </tr>\n",
       "  </tbody>\n",
       "</table>\n",
       "</div>"
      ],
      "text/plain": [
       "      oldpeak  exang  cp   thalach  ca\n",
       "527 -0.912329      0   0  0.603877   0\n",
       "359 -0.912329      0   2 -1.483579   0\n",
       "447 -0.231177      1   0 -0.178919   1\n",
       "31   0.024256      0   1  0.560389   0\n",
       "621 -0.912329      1   0  0.038525   2"
      ]
     },
     "execution_count": 61,
     "metadata": {},
     "output_type": "execute_result"
    }
   ],
   "source": [
    "X_test.head()"
   ]
  },
  {
   "cell_type": "code",
   "execution_count": 62,
   "id": "dac13d28-ff92-4966-bdaf-55af8ecbb284",
   "metadata": {},
   "outputs": [
    {
     "data": {
      "text/plain": [
       "MLPClassifier(activation='logistic', hidden_layer_sizes=(10, 5), max_iter=1000,\n",
       "              random_state=1)"
      ]
     },
     "execution_count": 62,
     "metadata": {},
     "output_type": "execute_result"
    }
   ],
   "source": [
    "model_based_on_corr_features = MLPClassifier(hidden_layer_sizes=(10, 5), activation='logistic', solver='adam', max_iter=1000, random_state=1)\n",
    "\n",
    "\n",
    "model_based_on_corr_features.fit(X_train, y_train)"
   ]
  },
  {
   "cell_type": "code",
   "execution_count": 63,
   "id": "a21d8bc6-6a83-43b4-9322-04845ab49519",
   "metadata": {},
   "outputs": [],
   "source": [
    "y_pred = model_based_on_ig_features.predict(X_test)"
   ]
  },
  {
   "cell_type": "code",
   "execution_count": 64,
   "id": "52f92fcf-e2ff-4b72-b08c-d055897ef711",
   "metadata": {},
   "outputs": [
    {
     "data": {
      "image/png": "[encoded data removed]",
      "text/plain": [
       "<Figure size 432x288 with 2 Axes>"
      ]
     },
     "metadata": {
      "needs_background": "light"
     },
     "output_type": "display_data"
    }
   ],
   "source": [
    "cm = confusion_matrix(y_test, y_pred)\n",
    "# plot confusion matrix\n",
    "sns.heatmap(cm, annot=True, cmap=\"Blues\")\n",
    "plt.title(\"Confusion Matrix\")\n",
    "plt.xlabel(\"Predicted Labels\")\n",
    "plt.ylabel(\"True Labels\")\n",
    "plt.savefig(\"cm_ann_corr.png\")\n",
    "plt.show()"
   ]
  },
  {
   "cell_type": "code",
   "execution_count": 65,
   "id": "745af793-3dca-438e-94cf-688c9fd88dbe",
   "metadata": {},
   "outputs": [
    {
     "name": "stdout",
     "output_type": "stream",
     "text": [
      "Accuracy: 0.624\n",
      "Precision: 0.629\n",
      "Recall: 0.624\n",
      "F1 Score: 0.620\n"
     ]
    }
   ],
   "source": [
    "# Calculate accuracy, precision, recall, and F1 score\n",
    "accuracy = accuracy_score(y_test, y_pred)\n",
    "precision = precision_score(y_test, y_pred, average='weighted')\n",
    "recall = recall_score(y_test, y_pred, average='weighted')\n",
    "f1 = f1_score(y_test, y_pred, average='weighted')\n",
    "\n",
    "# Print the results\n",
    "print(\"Accuracy: {:.3f}\".format(accuracy))\n",
    "print(\"Precision: {:.3f}\".format(precision))\n",
    "print(\"Recall: {:.3f}\".format(recall))\n",
    "print(\"F1 Score: {:.3f}\".format(f1))"
   ]
  },
  {
   "cell_type": "code",
   "execution_count": 66,
   "id": "7e178aea-f5e1-425b-aa07-5f3fb680e5f5",
   "metadata": {},
   "outputs": [],
   "source": [
    "## Try Different Hyper Parameters of MLP"
   ]
  },
  {
   "cell_type": "code",
   "execution_count": 67,
   "id": "3776d84d-0ca1-4e29-b8ba-ddad2030c989",
   "metadata": {},
   "outputs": [
    {
     "data": {
      "text/plain": [
       "MLPClassifier(activation='tanh', hidden_layer_sizes=(100, 50), max_iter=1000,\n",
       "              random_state=1)"
      ]
     },
     "execution_count": 67,
     "metadata": {},
     "output_type": "execute_result"
    }
   ],
   "source": [
    "model_based_on_corr_features = MLPClassifier(hidden_layer_sizes=(100, 50), activation='tanh', solver='adam', max_iter=1000, random_state=1)\n",
    "\n",
    "\n",
    "model_based_on_corr_features.fit(X_train, y_train)"
   ]
  },
  {
   "cell_type": "code",
   "execution_count": 68,
   "id": "b5a652f5-8500-4d53-b9ae-ce1f61a4b13f",
   "metadata": {},
   "outputs": [],
   "source": [
    "y_pred = model_based_on_ig_features.predict(X_test)"
   ]
  },
  {
   "cell_type": "code",
   "execution_count": 69,
   "id": "20b270c2-9855-48d1-978b-d97d53f5967c",
   "metadata": {},
   "outputs": [
    {
     "data": {
      "image/png": "[encoded data removed]",
      "text/plain": [
       "<Figure size 432x288 with 2 Axes>"
      ]
     },
     "metadata": {
      "needs_background": "light"
     },
     "output_type": "display_data"
    }
   ],
   "source": [
    "cm = confusion_matrix(y_test, y_pred)\n",
    "# plot confusion matrix\n",
    "sns.heatmap(cm, annot=True, cmap=\"Blues\")\n",
    "plt.title(\"Confusion Matrix\")\n",
    "plt.xlabel(\"Predicted Labels\")\n",
    "plt.ylabel(\"True Labels\")\n",
    "plt.savefig(\"cm_ann_corr.png\")\n",
    "plt.show()"
   ]
  },
  {
   "cell_type": "code",
   "execution_count": 70,
   "id": "1b921a05-0e8d-4566-a9b7-3b93e1a6e8e5",
   "metadata": {},
   "outputs": [],
   "source": [
    "## Try Different MLP Hyperparamters"
   ]
  },
  {
   "cell_type": "code",
   "execution_count": 71,
   "id": "51082788-1ef2-4b2d-a90c-b28dcf3b096c",
   "metadata": {},
   "outputs": [
    {
     "data": {
      "text/plain": [
       "MLPClassifier(activation='logistic', hidden_layer_sizes=(100, 50, 50),\n",
       "              max_iter=1000, random_state=1)"
      ]
     },
     "execution_count": 71,
     "metadata": {},
     "output_type": "execute_result"
    }
   ],
   "source": [
    "model_based_on_corr_features = MLPClassifier(hidden_layer_sizes=(100, 50, 50), activation='logistic', solver='adam', max_iter=1000, random_state=1)\n",
    "\n",
    "model_based_on_corr_features.fit(X_train, y_train)"
   ]
  },
  {
   "cell_type": "code",
   "execution_count": 72,
   "id": "d2231f27-b9c3-4f80-b4bb-2992a828222a",
   "metadata": {},
   "outputs": [],
   "source": [
    "y_pred = model_based_on_ig_features.predict(X_test)"
   ]
  },
  {
   "cell_type": "code",
   "execution_count": 73,
   "id": "fa623548-6a79-4349-9eee-3d872e2a0946",
   "metadata": {},
   "outputs": [
    {
     "data": {
      "image/png": "[encoded data removed]",
      "text/plain": [
       "<Figure size 432x288 with 2 Axes>"
      ]
     },
     "metadata": {
      "needs_background": "light"
     },
     "output_type": "display_data"
    }
   ],
   "source": [
    "cm = confusion_matrix(y_test, y_pred)\n",
    "# plot confusion matrix\n",
    "sns.heatmap(cm, annot=True, cmap=\"Blues\")\n",
    "plt.title(\"Confusion Matrix\")\n",
    "plt.xlabel(\"Predicted Labels\")\n",
    "plt.ylabel(\"True Labels\")\n",
    "plt.savefig(\"cm_ann_corr.png\")\n",
    "plt.show()"
   ]
  },
  {
   "cell_type": "markdown",
   "id": "14d0f29a-a923-41e9-be59-4dc17c0f3f62",
   "metadata": {},
   "source": [
    "# Conclusion\n",
    "1. After Performing different ANN architectures based on selection of features Information Gain and Correlation Matrix\n",
    "2. The Information gain based features yields the best result with accuracy of 0.98 and only 6 target values are predicted wrong.\n",
    "3. The dataset is small but based on the current dataset Information Gain based features selection is working great !"
   ]
  },
  {
   "cell_type": "markdown",
   "id": "768188f7-f5b0-4685-8c32-915f33ea11a9",
   "metadata": {},
   "source": [
    "## Question 3"
   ]
  },
  {
   "cell_type": "code",
   "execution_count": 1,
   "id": "5983a4d2-cdd6-4b23-aa1f-d26b65088192",
   "metadata": {},
   "outputs": [],
   "source": [
    "import numpy as np\n",
    "inital_configuration = []"
   ]
  },
  {
   "cell_type": "code",
   "execution_count": 2,
   "id": "2984273f-91f3-4684-be86-7f3f2ec2fa4e",
   "metadata": {},
   "outputs": [],
   "source": [
    "a = [1, 2, 3]\n",
    "inital_configuration.append(a)\n",
    "a = []\n",
    "a = [8, 0, 4]\n",
    "inital_configuration.append(a)\n",
    "a = []\n",
    "a = [7, 6, 5]\n",
    "inital_configuration.append(a)"
   ]
  },
  {
   "cell_type": "code",
   "execution_count": 3,
   "id": "bea0c43b-a22b-46b5-9d37-b908c1b98c98",
   "metadata": {},
   "outputs": [
    {
     "name": "stdout",
     "output_type": "stream",
     "text": [
      "[[1, 2, 3], [8, 0, 4], [7, 6, 5]]\n"
     ]
    }
   ],
   "source": [
    "print(inital_configuration)"
   ]
  },
  {
   "cell_type": "code",
   "execution_count": 4,
   "id": "1cf1062f-b7fd-431a-90ee-b9bd42bdfae7",
   "metadata": {},
   "outputs": [],
   "source": [
    "target_configuration = [1, 2, 3, 8, 0, 4, 7, 6, 5]\n",
    "def fitness_function(configuration):\n",
    "    iterator = 0\n",
    "    h = 0\n",
    "    for i in range(0, 3):\n",
    "        for j in range(0, 3):\n",
    "            if (configuration[i][j] == target_configuration[iterator]):\n",
    "                h += 1\n",
    "            iterator += 1\n",
    "    return h"
   ]
  },
  {
   "cell_type": "code",
   "execution_count": 5,
   "id": "1e6bcb60-8826-4ddb-9bf6-9783eece9aa7",
   "metadata": {},
   "outputs": [
    {
     "data": {
      "text/plain": [
       "9"
      ]
     },
     "execution_count": 5,
     "metadata": {},
     "output_type": "execute_result"
    }
   ],
   "source": [
    "fitness_function(inital_configuration)"
   ]
  },
  {
   "cell_type": "markdown",
   "id": "08d944f6-1589-47f3-92d0-f3e9752d95b5",
   "metadata": {},
   "source": [
    "Algorithm\n",
    "  - Generate 100 possible chromosomes from initial configuration\n",
    "  - Select best 2 chromosomes with best fitness values\n",
    "  - Apply mutation on it"
   ]
  },
  {
   "cell_type": "code",
   "execution_count": 6,
   "id": "ca40160e-12ce-4bf7-92f0-2f64dfb4be09",
   "metadata": {},
   "outputs": [],
   "source": [
    "def generate_chromosomes(configuration, n=5):\n",
    "    chromosomes = []\n",
    "    new_configuration = configuration\n",
    "    for j in range(n):\n",
    "        random_numbers_one = list(np.random.randint(0, 3, size=2))\n",
    "        random_numbers_two = list(np.random.randint(0, 3, size=2))\n",
    "        temp = new_configuration[random_numbers_one[0]][random_numbers_one[1]]\n",
    "        new_configuration[random_numbers_one[0]][random_numbers_one[1]] = new_configuration[random_numbers_two[0]][random_numbers_two[1]]\n",
    "        new_configuration[random_numbers_two[0]][random_numbers_two[1]] = temp\n",
    "        chromosomes.append(new_configuration)\n",
    "        new_configuration = configuration\n",
    "    return chromosomes\n",
    "        "
   ]
  },
  {
   "cell_type": "code",
   "execution_count": 7,
   "id": "c610255e-1bf3-4a76-adfa-79d97da75744",
   "metadata": {},
   "outputs": [
    {
     "name": "stdout",
     "output_type": "stream",
     "text": [
      "[[1, 2, 3], [8, 0, 4], [7, 6, 5]]\n"
     ]
    }
   ],
   "source": [
    "print(inital_configuration)"
   ]
  },
  {
   "cell_type": "code",
   "execution_count": 8,
   "id": "770f2974-0f33-4bf6-ad16-b2b0ade35ca4",
   "metadata": {},
   "outputs": [],
   "source": [
    "generate_chromosomes = generate_chromosomes(inital_configuration)"
   ]
  },
  {
   "cell_type": "code",
   "execution_count": 9,
   "id": "07d0721b-14b3-4596-b728-509e8f14500d",
   "metadata": {},
   "outputs": [
    {
     "data": {
      "text/plain": [
       "[[[1, 2, 5], [8, 4, 0], [7, 3, 6]],\n",
       " [[1, 2, 5], [8, 4, 0], [7, 3, 6]],\n",
       " [[1, 2, 5], [8, 4, 0], [7, 3, 6]],\n",
       " [[1, 2, 5], [8, 4, 0], [7, 3, 6]],\n",
       " [[1, 2, 5], [8, 4, 0], [7, 3, 6]]]"
      ]
     },
     "execution_count": 9,
     "metadata": {},
     "output_type": "execute_result"
    }
   ],
   "source": [
    "generate_chromosomes"
   ]
  },
  {
   "cell_type": "code",
   "execution_count": 10,
   "id": "a16e9199-19f2-45f9-81e8-2d8e15e43fab",
   "metadata": {},
   "outputs": [],
   "source": [
    "def select_best_two_chromosomes(generate_chromosomes):\n",
    "    best_fitness_values = []\n",
    "    for chromosome in generate_chromosomes:\n",
    "        fitness_value = fitness_function(chromosome)\n",
    "        best_fitness_values.append(fitness_value)\n",
    "    best_fitness_values = np.array(best_fitness_values)\n",
    "    best_chromosomes = []\n",
    "    best_fitness_values = best_fitness_values.argsort()\n",
    "#     Select Best fitness value chromosomes\n",
    "    best_chromosomes.append(generate_chromosomes[best_fitness_values[0]])\n",
    "    best_chromosomes.append(generate_chromosomes[best_fitness_values[1]])\n",
    "    return best_chromosomes"
   ]
  },
  {
   "cell_type": "code",
   "execution_count": 11,
   "id": "908939a0-9f9b-4481-952a-d77d1fd8b4bb",
   "metadata": {},
   "outputs": [],
   "source": [
    "best_chromsomes = select_best_two_chromosomes(generate_chromosomes)"
   ]
  },
  {
   "cell_type": "code",
   "execution_count": 12,
   "id": "1875640b-cd36-4ee6-80e4-d0b73c2e8988",
   "metadata": {},
   "outputs": [],
   "source": [
    "def crossover(chromosomes):\n",
    "    random_number_one = np.random.randint(0, 3, size=1)\n",
    "    random_number_two = np.random.randint(0, 3, size=1)\n",
    "    chromosome_one = chromosomes[0]\n",
    "    chromosome_two = chromosomes[1]\n",
    "    temp = chromosome_one[random_number_one[0]]\n",
    "    chromosome_one[random_number_one[0]] = chromosome_two[random_number_two[0]]\n",
    "    chromosome_two[random_number_two[0]] = temp\n",
    "    childs = []\n",
    "    childs.append(chromosome_one)\n",
    "    childs.append(chromosome_two)\n",
    "    return childs"
   ]
  },
  {
   "cell_type": "code",
   "execution_count": 13,
   "id": "0873f43f-b8a5-465c-a4e4-5d792100ad06",
   "metadata": {},
   "outputs": [],
   "source": [
    "childs = crossover(best_chromsomes)"
   ]
  },
  {
   "cell_type": "code",
   "execution_count": 16,
   "id": "eefe372e-d5a3-4bb7-8392-2ae6cce529ec",
   "metadata": {},
   "outputs": [
    {
     "name": "stdout",
     "output_type": "stream",
     "text": [
      "[[[1, 2, 5], [8, 4, 0], [7, 3, 6]], [[1, 2, 5], [8, 4, 0], [7, 3, 6]]]\n"
     ]
    }
   ],
   "source": [
    "print(childs)"
   ]
  },
  {
   "cell_type": "code",
   "execution_count": null,
   "id": "6f89856a-0ec7-48dc-b8c5-ded20cda3fcd",
   "metadata": {},
   "outputs": [],
   "source": [
    "def evaluation(max_iter = 100):\n",
    "    for i in range(100):\n",
    "        chromosomes = generate_chromosomes(inital_configuration)\n",
    "        best_chromosomes = select_best_two_chromosomes(chromosomes)\n",
    "        # Next the remaning function to call and 1 condition then genetic algo work fine\n",
    "        "
   ]
  },
  {
   "cell_type": "code",
   "execution_count": null,
   "id": "02f04256-b1ac-46fc-bb6f-5d71041a3d77",
   "metadata": {},
   "outputs": [],
   "source": []
  },
  {
   "cell_type": "code",
   "execution_count": null,
   "id": "78f78c87-9931-4fdc-af8b-dd6a98bf9887",
   "metadata": {},
   "outputs": [],
   "source": []
  },
  {
   "cell_type": "code",
   "execution_count": null,
   "id": "0ee32b7a-1030-44a2-b28e-a9a0b2baa72d",
   "metadata": {},
   "outputs": [],
   "source": []
  }
 ],
 "metadata": {
  "kernelspec": {
   "display_name": "Python 3 (ipykernel)",
   "language": "python",
   "name": "python3"
  },
  "language_info": {
   "codemirror_mode": {
    "name": "ipython",
    "version": 3
   },
   "file_extension": ".py",
   "mimetype": "text/x-python",
   "name": "python",
   "nbconvert_exporter": "python",
   "pygments_lexer": "ipython3",
   "version": "3.9.7"
  }
 },
 "nbformat": 4,
 "nbformat_minor": 5
}
