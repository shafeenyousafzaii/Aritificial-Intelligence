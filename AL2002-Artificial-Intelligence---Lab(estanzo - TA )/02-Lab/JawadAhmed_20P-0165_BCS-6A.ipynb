{
 "cells": [
  {
   "cell_type": "markdown",
   "metadata": {},
   "source": [
    "# Task 1\n",
    "Imagine a single-floor office building with a fire alarm system that is controlled by a simple\n",
    "reflex agent. The system has smoke detectors and temperature sensors placed throughout the\n",
    "building to detect any signs of fire.\n",
    "The agent's rules are as follows:\n",
    "1. if smoke is detected, the alarm will sound and the sprinkler system will activate to put\n",
    "out the fire;\n",
    "2. if a high temperature is detected, the alarm will sound and the fire department will be\n",
    "called.\n",
    "3. If neither smoke nor high temperature are detected, the system remains in its normal\n",
    "state with the alarm off and the sprinkler system deactivated.\n",
    "The goal of the agent is to keep the building and its occupants safe by quickly and efficiently\n",
    "responding to any signs of fire. Write a program to develop a simple reflex Agent."
   ]
  },
  {
   "cell_type": "code",
   "execution_count": 1,
   "metadata": {},
   "outputs": [
    {
     "name": "stdin",
     "output_type": "stream",
     "text": [
      "Is there is smoke in the room [0/1] 0\n",
      "Enter the Temperature of the building 55\n"
     ]
    },
    {
     "name": "stdout",
     "output_type": "stream",
     "text": [
      "keep the system in normal state with the alarm off and the sprinkler system deactivated\n"
     ]
    },
    {
     "name": "stdin",
     "output_type": "stream",
     "text": [
      "Is there is smoke in the room [0/1] 1\n",
      "Enter the Temperature of the building 99\n"
     ]
    },
    {
     "name": "stdout",
     "output_type": "stream",
     "text": [
      "sound the alarm and activate the sprinkler system to put out the fire\n"
     ]
    },
    {
     "name": "stdin",
     "output_type": "stream",
     "text": [
      "Is there is smoke in the room [0/1] 1\n",
      "Enter the Temperature of the building 105\n"
     ]
    },
    {
     "name": "stdout",
     "output_type": "stream",
     "text": [
      "sound the alarm and activate the sprinkler system to put out the fire and sound the alarm and call the fire department\n"
     ]
    },
    {
     "name": "stdin",
     "output_type": "stream",
     "text": [
      "Is there is smoke in the room [0/1] 0\n",
      "Enter the Temperature of the building 105\n"
     ]
    },
    {
     "name": "stdout",
     "output_type": "stream",
     "text": [
      "sound the alarm and call the fire department\n"
     ]
    },
    {
     "name": "stdin",
     "output_type": "stream",
     "text": [
      "Is there is smoke in the room [0/1] 1\n",
      "Enter the Temperature of the building 55\n"
     ]
    },
    {
     "name": "stdout",
     "output_type": "stream",
     "text": [
      "sound the alarm and activate the sprinkler system to put out the fire\n"
     ]
    }
   ],
   "source": [
    "# Temperature > 100 'the alarm will sound and the fire department will be called.'\n",
    "# if is_smoke = 1 the alarm will sound and the sprinkler system will activate to put out the fire;\n",
    "# if high_temperature and smoke do both \n",
    "# if no smoke and high_temp the system remains in its normal state with the alarm off and the sprinkler system deactivated.\n",
    "\n",
    "\n",
    "percept = ['smoke_and_temperature_detector']\n",
    "states = ['smoke', 'temperature']\n",
    "rules = ['sound the alarm and activate the sprinkler system to put out the fire', 'sound the alarm and call the fire department', 'keep the system in normal state with the alarm off and the sprinkler system deactivated']\n",
    "\n",
    "def getState(is_smoke, temp):\n",
    "    if (is_smoke and temp > 100):\n",
    "        return states\n",
    "    elif (is_smoke and temp < 100):\n",
    "        return states[0]\n",
    "    elif (not(is_smoke) and temp > 100):\n",
    "        return states[1]\n",
    "    else:\n",
    "        return []\n",
    "    \n",
    "def getRules(state_value):\n",
    "    if (len(state_value) == 2):\n",
    "        return rules[0],rules[1]\n",
    "    \n",
    "    elif (state_value == 'smoke'):\n",
    "        return rules[0]\n",
    "    \n",
    "    elif (state_value == 'temperature'):\n",
    "        return rules[1]\n",
    "    \n",
    "    elif (len(state_value) == 0):\n",
    "        return rules[2]\n",
    "    \n",
    "def simpleReflexAgent(visual_input_one, visual_input_two):\n",
    "    return getRules(getState(visual_input_one, visual_input_two))\n",
    "\n",
    "\n",
    "test = 0\n",
    "while(test < 5):\n",
    "    visual_input_one = bool(int(input('Is there is smoke in the room [0/1]')))\n",
    "    visual_input_two = int(input('Enter the Temperature of the building'))\n",
    "    rule = simpleReflexAgent(visual_input_one, visual_input_two)\n",
    "    if (len(rule) == 2):\n",
    "        print(rule[0], \"and\", rule[1])\n",
    "    else:\n",
    "        print(rule)\n",
    "    test += 1"
   ]
  },
  {
   "cell_type": "markdown",
   "metadata": {},
   "source": [
    "# Task 2\n",
    "\n",
    "An Automatic Watering System is set up in a greenhouse. The system has sensors that detect\n",
    "the moisture level in the soil, and a control unit that operates the watering system. The task of\n",
    "the simple reflex agent program is to control the watering system based on the moisture level\n",
    "of the soil.\n",
    "Percepts: Moisture level sensor\n",
    "States: Dry soil, Moist soil, Wet soil\n",
    "Rules:\n",
    "1. If the moisture level sensor detects dry soil, the agent activates the watering system to\n",
    "water the plants.\n",
    "2. If the moisture level sensor detects moist soil, the agent keeps the watering system off\n",
    "to avoid over watering the plants.\n",
    "3. If the moisture level sensor detects wet soil, the agent deactivates the watering system\n",
    "to prevent waterlogging."
   ]
  },
  {
   "cell_type": "code",
   "execution_count": 1,
   "metadata": {},
   "outputs": [
    {
     "name": "stdin",
     "output_type": "stream",
     "text": [
      "Enter moist level 90\n"
     ]
    },
    {
     "name": "stdout",
     "output_type": "stream",
     "text": [
      "activates the watering system to water the plants.\n"
     ]
    },
    {
     "name": "stdin",
     "output_type": "stream",
     "text": [
      "Enter moist level 91\n"
     ]
    },
    {
     "name": "stdout",
     "output_type": "stream",
     "text": [
      "keeps the watering system off to avoid over watering the plants.\n"
     ]
    },
    {
     "name": "stdin",
     "output_type": "stream",
     "text": [
      "Enter moist level 101\n"
     ]
    },
    {
     "name": "stdout",
     "output_type": "stream",
     "text": [
      "deactivates the watering system to prevent waterlogging.\n"
     ]
    },
    {
     "name": "stdin",
     "output_type": "stream",
     "text": [
      "Enter moist level 81\n"
     ]
    },
    {
     "name": "stdout",
     "output_type": "stream",
     "text": [
      "activates the watering system to water the plants.\n"
     ]
    },
    {
     "name": "stdin",
     "output_type": "stream",
     "text": [
      "Enter moist level 109\n"
     ]
    },
    {
     "name": "stdout",
     "output_type": "stream",
     "text": [
      "deactivates the watering system to prevent waterlogging.\n"
     ]
    }
   ],
   "source": [
    "# 80 to 90 (dry_soil), 90 to 100 (moist_soil), 100 to 110 (wet_soil)\n",
    "percept = ['moisture_level_sensor']\n",
    "states =  [\"dry_soil\", \"moist_soil\", \"wet_soil\"]\n",
    "rules = ['activates the watering system to water the plants.', 'keeps the watering system off to avoid over watering the plants.', 'deactivates the watering system to prevent waterlogging.']\n",
    "\n",
    "def getState(percept_value):\n",
    "    if (percept_value >= 80 and percept_value <= 90):\n",
    "        return states[0]\n",
    "    elif(percept_value >= 90 and percept_value <= 100):\n",
    "        return states[1]\n",
    "    elif (percept_value >= 100 and percept_value <= 110):\n",
    "        return states[2]\n",
    "    \n",
    "def getRules(state_value):\n",
    "    if (state_value == 'dry_soil'):\n",
    "        return rules[0]\n",
    "    elif (state_value == 'moist_soil'):\n",
    "        return rules[1]\n",
    "    elif (state_value == 'wet_soil'):\n",
    "        return rules[2]\n",
    "         \n",
    "def simpleReflexAgent(percep):\n",
    "    return getRules(getState(percep))\n",
    "\n",
    "\n",
    "test = 0\n",
    "while test < 5:\n",
    "    visual_input = int(input('Enter moist level'))\n",
    "    rule = simpleReflexAgent(visual_input)\n",
    "    print(rule)\n",
    "    test += 1"
   ]
  }
 ],
 "metadata": {
  "kernelspec": {
   "display_name": "Python 3",
   "language": "python",
   "name": "python3"
  },
  "language_info": {
   "codemirror_mode": {
    "name": "ipython",
    "version": 3
   },
   "file_extension": ".py",
   "mimetype": "text/x-python",
   "name": "python",
   "nbconvert_exporter": "python",
   "pygments_lexer": "ipython3",
   "version": "3.7.6"
  }
 },
 "nbformat": 4,
 "nbformat_minor": 4
}
