{
 "cells": [
  {
   "cell_type": "markdown",
   "metadata": {},
   "source": [
    "# Task 1"
   ]
  },
  {
   "cell_type": "markdown",
   "metadata": {},
   "source": [
    "Write a NumPy program to create an array of all the even integers from 200 to 240. "
   ]
  },
  {
   "cell_type": "code",
   "execution_count": 1,
   "metadata": {},
   "outputs": [],
   "source": [
    "import numpy as np"
   ]
  },
  {
   "cell_type": "code",
   "execution_count": 2,
   "metadata": {},
   "outputs": [
    {
     "data": {
      "text/plain": [
       "array([200, 202, 204, 206, 208, 210, 212, 214, 216, 218, 220, 222, 224,\n",
       "       226, 228, 230, 232, 234, 236, 238, 240])"
      ]
     },
     "execution_count": 2,
     "metadata": {},
     "output_type": "execute_result"
    }
   ],
   "source": [
    "# Task 1\n",
    "start = 200\n",
    "end = 241\n",
    "a = np.arange(start, end, 2)\n",
    "a"
   ]
  },
  {
   "cell_type": "markdown",
   "metadata": {},
   "source": [
    "# Task 2"
   ]
  },
  {
   "cell_type": "markdown",
   "metadata": {},
   "source": [
    "Write a NumPy program to generate an array of 10 random numbers from a standard\n",
    "normal distribution."
   ]
  },
  {
   "cell_type": "code",
   "execution_count": 3,
   "metadata": {},
   "outputs": [
    {
     "name": "stdout",
     "output_type": "stream",
     "text": [
      "[-0.39955445  0.22529204  1.08860462  0.51399819 -1.04110041  0.04553228\n",
      "  0.11140743 -0.86624793 -1.40355598  0.4196999 ]\n"
     ]
    }
   ],
   "source": [
    "# Task 2\n",
    "# Standard Normal Distribution (mean=0, stdev=1).\n",
    "s = np.random.standard_normal(10)\n",
    "print(s)"
   ]
  },
  {
   "cell_type": "markdown",
   "metadata": {},
   "source": [
    "# Task 3"
   ]
  },
  {
   "cell_type": "markdown",
   "metadata": {},
   "source": [
    "Write a Python program to plot two or more lines and set the line markers. The code\n",
    "snippet gives the output shown in the following screenshot:"
   ]
  },
  {
   "cell_type": "code",
   "execution_count": 4,
   "metadata": {},
   "outputs": [],
   "source": [
    "import matplotlib.pyplot as plt\n",
    "%matplotlib inline"
   ]
  },
  {
   "cell_type": "code",
   "execution_count": 5,
   "metadata": {},
   "outputs": [
    {
     "data": {
      "image/png": "[encoded data removed]",
      "text/plain": [
       "<Figure size 432x288 with 1 Axes>"
      ]
     },
     "metadata": {
      "needs_background": "light"
     },
     "output_type": "display_data"
    }
   ],
   "source": [
    "# Task 3\n",
    "# Generate data for the first line\n",
    "x1 = np.linspace(0, 10, 20)\n",
    "# used broadcasting \n",
    "y1 = 2 * x1 + 1\n",
    "\n",
    "# Generate data for the second line\n",
    "x2 = np.linspace(0, 10, 20)\n",
    "y2 = np.cos(x2)\n",
    "\n",
    "# Create a figure and axes\n",
    "fig, ax = plt.subplots()\n",
    "\n",
    "# Plot the first line with a square marker\n",
    "ax.plot(x1, y1, '-o', label='2x + 1')\n",
    "\n",
    "# Plot the second line with a diamond marker\n",
    "ax.plot(x2, y2, '-x', label='cos')\n",
    "\n",
    "\n",
    "\n",
    "# Add a legend to the plot\n",
    "ax.legend()\n",
    "\n",
    "# Set the title and labels\n",
    "ax.set_title(\"Sine and Cosine\")\n",
    "ax.set_xlabel(\"x\")\n",
    "ax.set_ylabel(\"y\")\n",
    "\n",
    "# Show the plot\n",
    "plt.show()"
   ]
  },
  {
   "cell_type": "markdown",
   "metadata": {},
   "source": [
    "# Task 4"
   ]
  },
  {
   "cell_type": "markdown",
   "metadata": {},
   "source": [
    "Write a Python program to change the datatype of a given column or a Series."
   ]
  },
  {
   "cell_type": "code",
   "execution_count": 6,
   "metadata": {},
   "outputs": [
    {
     "data": {
      "text/plain": [
       "0    100.00\n",
       "1    200.00\n",
       "2       NaN\n",
       "3    300.12\n",
       "4    400.00\n",
       "dtype: float64"
      ]
     },
     "execution_count": 6,
     "metadata": {},
     "output_type": "execute_result"
    }
   ],
   "source": [
    "import pandas as pd\n",
    "def change_column_dtype(s):\n",
    "    return pd.to_numeric(s,errors='coerce')\n",
    "s = pd.Series(['100', '200', 'python', '300.12', '400'])\n",
    "result = change_column_dtype(s)\n",
    "result"
   ]
  },
  {
   "cell_type": "markdown",
   "metadata": {},
   "source": [
    "# Task 5"
   ]
  },
  {
   "cell_type": "markdown",
   "metadata": {},
   "source": [
    "Write a pandas program to delete DataFrame row(s) based on given column value."
   ]
  },
  {
   "cell_type": "code",
   "execution_count": 7,
   "metadata": {},
   "outputs": [
    {
     "name": "stdout",
     "output_type": "stream",
     "text": [
      "Given DataFrame\n",
      "   col1  col2  col3\n",
      "0     1     4     7\n",
      "1     4     5     8\n",
      "2     3     6     9\n",
      "3     4     7     0\n",
      "4     5     8     1\n",
      "New DataFrame\n",
      "   col1  col2  col3\n",
      "0     1     4     7\n",
      "2     3     6     9\n",
      "3     4     7     0\n",
      "4     5     8     1\n",
      "   col1  col2  col3\n",
      "0     1     4     7\n",
      "3     4     7     0\n",
      "4     5     8     1\n"
     ]
    }
   ],
   "source": [
    "import pandas as pd\n",
    "# dictionary\n",
    "d = {'col1': [1, 4, 3, 4, 5], 'col2': [4, 5, 6, 7, 8], 'col3': [7, 8, 9, 0, 1]}\n",
    "# change dictionary to pandas dataframe pandas library function can be applied on it\n",
    "df = pd.DataFrame(data=d)\n",
    "print(\"Given DataFrame\")\n",
    "print(df)\n",
    "# if 5 found on col2 that row will be deleted\n",
    "df = df[df.col2 != 5]\n",
    "print(\"New DataFrame\")\n",
    "print(df)\n",
    "# if col2 has 6 in it remove that row\n",
    "df = df[df.col2 != 6]\n",
    "print(df)"
   ]
  },
  {
   "cell_type": "code",
   "execution_count": null,
   "metadata": {},
   "outputs": [],
   "source": []
  }
 ],
 "metadata": {
  "kernelspec": {
   "display_name": "Python 3",
   "language": "python",
   "name": "python3"
  },
  "language_info": {
   "codemirror_mode": {
    "name": "ipython",
    "version": 3
   },
   "file_extension": ".py",
   "mimetype": "text/x-python",
   "name": "python",
   "nbconvert_exporter": "python",
   "pygments_lexer": "ipython3",
   "version": "3.7.6"
  }
 },
 "nbformat": 4,
 "nbformat_minor": 4
}
