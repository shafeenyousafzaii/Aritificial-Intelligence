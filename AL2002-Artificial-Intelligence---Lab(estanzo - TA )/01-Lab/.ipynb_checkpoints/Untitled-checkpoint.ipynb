{
 "cells": [
  {
   "cell_type": "code",
   "execution_count": 1,
   "id": "9ef2e9a6-3d01-47bb-857f-28801484d7bd",
   "metadata": {},
   "outputs": [],
   "source": [
    "import numpy as np"
   ]
  },
  {
   "cell_type": "markdown",
   "id": "16218953-1d15-4261-90a4-23254bd9ee5c",
   "metadata": {},
   "source": [
    "## Task 1\n",
    "- Generate 10 numbers between a given range"
   ]
  },
  {
   "cell_type": "code",
   "execution_count": 2,
   "id": "47be8963-e273-425e-aff1-28e1a4e4b5da",
   "metadata": {},
   "outputs": [
    {
     "data": {
      "text/plain": [
       "array([10, 12, 14, 16, 18, 20, 22, 24, 26, 28, 30, 32, 34, 36, 38, 40, 42,\n",
       "       44, 46, 48])"
      ]
     },
     "execution_count": 2,
     "metadata": {},
     "output_type": "execute_result"
    }
   ],
   "source": [
    "start = 10\n",
    "end = 50\n",
    "generated_numbers = np.arange(start, end, 2)\n",
    "generated_numbers"
   ]
  },
  {
   "cell_type": "markdown",
   "id": "f93cee38-d4c4-4f75-a1ac-fda1e83612be",
   "metadata": {},
   "source": [
    "## Task 2\n",
    "- Generate Random numbers with mean = 0 and std_deviation = 1"
   ]
  },
  {
   "cell_type": "code",
   "execution_count": null,
   "id": "baca0eac-ea86-4b5f-92c2-dca04856102b",
   "metadata": {},
   "outputs": [],
   "source": [
    "random_numbers = np.standard_normal("
   ]
  }
 ],
 "metadata": {
  "kernelspec": {
   "display_name": "Python 3 (ipykernel)",
   "language": "python",
   "name": "python3"
  },
  "language_info": {
   "codemirror_mode": {
    "name": "ipython",
    "version": 3
   },
   "file_extension": ".py",
   "mimetype": "text/x-python",
   "name": "python",
   "nbconvert_exporter": "python",
   "pygments_lexer": "ipython3",
   "version": "3.9.7"
  }
 },
 "nbformat": 4,
 "nbformat_minor": 5
}
