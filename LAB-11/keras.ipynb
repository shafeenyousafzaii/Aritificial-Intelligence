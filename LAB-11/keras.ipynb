{
 "cells": [
  {
   "cell_type": "code",
   "execution_count": 9,
   "id": "71267fd3-5503-4583-9a34-e3c9959f8fe1",
   "metadata": {},
   "outputs": [],
   "source": [
    "import pandas as pd"
   ]
  },
  {
   "cell_type": "code",
   "execution_count": 10,
   "id": "39bc3ace-0385-48fb-9802-a9d30967b393",
   "metadata": {},
   "outputs": [],
   "source": [
    "df=pd.read_csv('/home/shafeenkhan/Documents/My-all-programs--/Semester-4/Aritificial Intelligence/LAB-11/dataset.csv')"
   ]
  },
  {
   "cell_type": "code",
   "execution_count": 11,
   "id": "75f0795c-b26b-4330-b5a3-f8f6d654fa0f",
   "metadata": {},
   "outputs": [],
   "source": [
    "y=df[['e1','e2']]"
   ]
  },
  {
   "cell_type": "code",
   "execution_count": 12,
   "id": "201883fa-d577-4495-b40d-a5fe6cb22a6e",
   "metadata": {},
   "outputs": [],
   "source": [
    "X=df.drop(['e1','e2'],axis=1)"
   ]
  },
  {
   "cell_type": "code",
   "execution_count": 13,
   "id": "848021cf-57b3-4039-9b6b-a00e7f19a88d",
   "metadata": {},
   "outputs": [],
   "source": [
    "import numpy as np\n",
    "from keras.models import Sequential\n",
    "from keras.layers import Dense"
   ]
  },
  {
   "cell_type": "code",
   "execution_count": 14,
   "id": "091ad7fd-30c2-424f-b804-e17322862910",
   "metadata": {},
   "outputs": [],
   "source": [
    "model = Sequential()\n",
    "model.add(Dense(2, input_dim=3, activation='sigmoid'))  # Hidden layer with 2 units\n",
    "model.add(Dense(2, activation='sigmoid'))  # Output layer with 2 units"
   ]
  },
  {
   "cell_type": "code",
   "execution_count": 15,
   "id": "a2072fe6-e723-4f82-99b7-81bca536d972",
   "metadata": {},
   "outputs": [],
   "source": [
    "model.compile(loss='mean_squared_error', optimizer='sgd', metrics=['accuracy'])\n"
   ]
  },
  {
   "cell_type": "code",
   "execution_count": 16,
   "id": "009e0fd1-a663-45b2-9096-da72a630a66d",
   "metadata": {},
   "outputs": [
    {
     "name": "stdout",
     "output_type": "stream",
     "text": [
      "Epoch 1/5\n",
      "1/1 [==============================] - 0s 154ms/step - loss: 0.1021 - accuracy: 0.1667\n",
      "Epoch 2/5\n",
      "1/1 [==============================] - 0s 1ms/step - loss: 0.1020 - accuracy: 0.1667\n",
      "Epoch 3/5\n",
      "1/1 [==============================] - 0s 1ms/step - loss: 0.1019 - accuracy: 0.1667\n",
      "Epoch 4/5\n",
      "1/1 [==============================] - 0s 1ms/step - loss: 0.1017 - accuracy: 0.1667\n",
      "Epoch 5/5\n",
      "1/1 [==============================] - 0s 1ms/step - loss: 0.1016 - accuracy: 0.1667\n"
     ]
    },
    {
     "name": "stdout",
     "output_type": "stream",
     "text": [
      "1/1 [==============================] - 0s 67ms/step - loss: 0.1015 - accuracy: 0.1667\n",
      "Accuracy: 0.1666666716337204\n"
     ]
    }
   ],
   "source": [
    "# Train the model\n",
    "model.fit(X, y, epochs=5)\n",
    "\n",
    "# Evaluate the model\n",
    "loss, accuracy = model.evaluate(X, y)\n",
    "print('Accuracy:', accuracy)"
   ]
  }
 ],
 "metadata": {
  "kernelspec": {
   "display_name": "Python 3 (ipykernel)",
   "language": "python",
   "name": "python3"
  },
  "language_info": {
   "codemirror_mode": {
    "name": "ipython",
    "version": 3
   },
   "file_extension": ".py",
   "mimetype": "text/x-python",
   "name": "python",
   "nbconvert_exporter": "python",
   "pygments_lexer": "ipython3",
   "version": "3.9.18"
  }
 },
 "nbformat": 4,
 "nbformat_minor": 5
}
